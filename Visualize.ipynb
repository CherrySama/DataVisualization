{
 "cells": [
  {
   "cell_type": "code",
   "execution_count": 1,
   "id": "47468046",
   "metadata": {},
   "outputs": [],
   "source": [
    "import pandas as pd\n",
    "import numpy as np\n",
    "import plotly.express as px\n",
    "import plotly.graph_objects as go\n",
    "from plotly.subplots import make_subplots\n",
    "from sklearn.preprocessing import MinMaxScaler\n",
    "from sklearn.decomposition import PCA"
   ]
  },
  {
   "cell_type": "code",
   "execution_count": null,
   "id": "7e4df6c9",
   "metadata": {},
   "outputs": [
    {
     "data": {
      "text/html": [
       "<div>\n",
       "<style scoped>\n",
       "    .dataframe tbody tr th:only-of-type {\n",
       "        vertical-align: middle;\n",
       "    }\n",
       "\n",
       "    .dataframe tbody tr th {\n",
       "        vertical-align: top;\n",
       "    }\n",
       "\n",
       "    .dataframe thead th {\n",
       "        text-align: right;\n",
       "    }\n",
       "</style>\n",
       "<table border=\"1\" class=\"dataframe\">\n",
       "  <thead>\n",
       "    <tr style=\"text-align: right;\">\n",
       "      <th></th>\n",
       "      <th>mc_run_id</th>\n",
       "      <th>grouping</th>\n",
       "      <th>mean_ghgs</th>\n",
       "      <th>mean_land</th>\n",
       "      <th>mean_watscar</th>\n",
       "      <th>mean_eut</th>\n",
       "      <th>mean_ghgs_ch4</th>\n",
       "      <th>mean_ghgs_n2o</th>\n",
       "      <th>mean_bio</th>\n",
       "      <th>mean_watuse</th>\n",
       "      <th>...</th>\n",
       "      <th>sd_eut</th>\n",
       "      <th>sd_ghgs_ch4</th>\n",
       "      <th>sd_ghgs_n2o</th>\n",
       "      <th>sd_bio</th>\n",
       "      <th>sd_watuse</th>\n",
       "      <th>sd_acid</th>\n",
       "      <th>n_participants</th>\n",
       "      <th>sex</th>\n",
       "      <th>diet_group</th>\n",
       "      <th>age_group</th>\n",
       "    </tr>\n",
       "  </thead>\n",
       "  <tbody>\n",
       "    <tr>\n",
       "      <th>0</th>\n",
       "      <td>1</td>\n",
       "      <td>fish_female_20-29</td>\n",
       "      <td>5.377071</td>\n",
       "      <td>8.589807</td>\n",
       "      <td>14012.27478</td>\n",
       "      <td>23.553012</td>\n",
       "      <td>1.165277</td>\n",
       "      <td>0.344528</td>\n",
       "      <td>478.802638</td>\n",
       "      <td>669.154382</td>\n",
       "      <td>...</td>\n",
       "      <td>13.788241</td>\n",
       "      <td>0.913103</td>\n",
       "      <td>0.238819</td>\n",
       "      <td>400.289973</td>\n",
       "      <td>402.372408</td>\n",
       "      <td>13.774998</td>\n",
       "      <td>1329</td>\n",
       "      <td>female</td>\n",
       "      <td>fish</td>\n",
       "      <td>20-29</td>\n",
       "    </tr>\n",
       "    <tr>\n",
       "      <th>1</th>\n",
       "      <td>1</td>\n",
       "      <td>fish_female_30-39</td>\n",
       "      <td>5.376457</td>\n",
       "      <td>8.620238</td>\n",
       "      <td>15030.26610</td>\n",
       "      <td>23.831419</td>\n",
       "      <td>1.152422</td>\n",
       "      <td>0.326276</td>\n",
       "      <td>469.573862</td>\n",
       "      <td>697.161548</td>\n",
       "      <td>...</td>\n",
       "      <td>13.466037</td>\n",
       "      <td>0.845564</td>\n",
       "      <td>0.210539</td>\n",
       "      <td>375.301226</td>\n",
       "      <td>420.147350</td>\n",
       "      <td>13.077207</td>\n",
       "      <td>2024</td>\n",
       "      <td>female</td>\n",
       "      <td>fish</td>\n",
       "      <td>30-39</td>\n",
       "    </tr>\n",
       "    <tr>\n",
       "      <th>2</th>\n",
       "      <td>1</td>\n",
       "      <td>fish_female_40-49</td>\n",
       "      <td>5.169838</td>\n",
       "      <td>8.304831</td>\n",
       "      <td>15441.25934</td>\n",
       "      <td>23.419815</td>\n",
       "      <td>1.095640</td>\n",
       "      <td>0.305898</td>\n",
       "      <td>435.534050</td>\n",
       "      <td>687.733569</td>\n",
       "      <td>...</td>\n",
       "      <td>12.692978</td>\n",
       "      <td>0.773937</td>\n",
       "      <td>0.190561</td>\n",
       "      <td>333.613445</td>\n",
       "      <td>404.151916</td>\n",
       "      <td>12.959012</td>\n",
       "      <td>1689</td>\n",
       "      <td>female</td>\n",
       "      <td>fish</td>\n",
       "      <td>40-49</td>\n",
       "    </tr>\n",
       "    <tr>\n",
       "      <th>3</th>\n",
       "      <td>1</td>\n",
       "      <td>fish_female_50-59</td>\n",
       "      <td>4.933744</td>\n",
       "      <td>7.880759</td>\n",
       "      <td>16244.68021</td>\n",
       "      <td>23.459450</td>\n",
       "      <td>0.995247</td>\n",
       "      <td>0.285800</td>\n",
       "      <td>382.097727</td>\n",
       "      <td>686.763592</td>\n",
       "      <td>...</td>\n",
       "      <td>13.825273</td>\n",
       "      <td>0.669932</td>\n",
       "      <td>0.166206</td>\n",
       "      <td>271.061989</td>\n",
       "      <td>429.965087</td>\n",
       "      <td>13.155250</td>\n",
       "      <td>946</td>\n",
       "      <td>female</td>\n",
       "      <td>fish</td>\n",
       "      <td>50-59</td>\n",
       "    </tr>\n",
       "    <tr>\n",
       "      <th>4</th>\n",
       "      <td>1</td>\n",
       "      <td>fish_female_60-69</td>\n",
       "      <td>5.428442</td>\n",
       "      <td>8.701867</td>\n",
       "      <td>18364.95302</td>\n",
       "      <td>25.469176</td>\n",
       "      <td>1.127873</td>\n",
       "      <td>0.315651</td>\n",
       "      <td>435.578230</td>\n",
       "      <td>751.050809</td>\n",
       "      <td>...</td>\n",
       "      <td>14.538055</td>\n",
       "      <td>0.907853</td>\n",
       "      <td>0.196968</td>\n",
       "      <td>396.811097</td>\n",
       "      <td>471.376883</td>\n",
       "      <td>14.177048</td>\n",
       "      <td>492</td>\n",
       "      <td>female</td>\n",
       "      <td>fish</td>\n",
       "      <td>60-69</td>\n",
       "    </tr>\n",
       "  </tbody>\n",
       "</table>\n",
       "<p>5 rows × 24 columns</p>\n",
       "</div>"
      ],
      "text/plain": [
       "   mc_run_id           grouping  mean_ghgs  mean_land  mean_watscar  \\\n",
       "0          1  fish_female_20-29   5.377071   8.589807   14012.27478   \n",
       "1          1  fish_female_30-39   5.376457   8.620238   15030.26610   \n",
       "2          1  fish_female_40-49   5.169838   8.304831   15441.25934   \n",
       "3          1  fish_female_50-59   4.933744   7.880759   16244.68021   \n",
       "4          1  fish_female_60-69   5.428442   8.701867   18364.95302   \n",
       "\n",
       "    mean_eut  mean_ghgs_ch4  mean_ghgs_n2o    mean_bio  mean_watuse  ...  \\\n",
       "0  23.553012       1.165277       0.344528  478.802638   669.154382  ...   \n",
       "1  23.831419       1.152422       0.326276  469.573862   697.161548  ...   \n",
       "2  23.419815       1.095640       0.305898  435.534050   687.733569  ...   \n",
       "3  23.459450       0.995247       0.285800  382.097727   686.763592  ...   \n",
       "4  25.469176       1.127873       0.315651  435.578230   751.050809  ...   \n",
       "\n",
       "      sd_eut  sd_ghgs_ch4  sd_ghgs_n2o      sd_bio   sd_watuse    sd_acid  \\\n",
       "0  13.788241     0.913103     0.238819  400.289973  402.372408  13.774998   \n",
       "1  13.466037     0.845564     0.210539  375.301226  420.147350  13.077207   \n",
       "2  12.692978     0.773937     0.190561  333.613445  404.151916  12.959012   \n",
       "3  13.825273     0.669932     0.166206  271.061989  429.965087  13.155250   \n",
       "4  14.538055     0.907853     0.196968  396.811097  471.376883  14.177048   \n",
       "\n",
       "   n_participants     sex  diet_group  age_group  \n",
       "0            1329  female        fish      20-29  \n",
       "1            2024  female        fish      30-39  \n",
       "2            1689  female        fish      40-49  \n",
       "3             946  female        fish      50-59  \n",
       "4             492  female        fish      60-69  \n",
       "\n",
       "[5 rows x 24 columns]"
      ]
     },
     "execution_count": 2,
     "metadata": {},
     "output_type": "execute_result"
    }
   ],
   "source": [
    "df = pd.read_csv('Results_21MAR2022_nokcaladjust.csv')\n",
    "df.head()"
   ]
  },
  {
   "cell_type": "code",
   "execution_count": null,
   "id": "69cb008b",
   "metadata": {},
   "outputs": [
    {
     "name": "stdout",
     "output_type": "stream",
     "text": [
      "缺失值统计:\n",
      "mc_run_id         0\n",
      "grouping          0\n",
      "mean_ghgs         0\n",
      "mean_land         0\n",
      "mean_watscar      0\n",
      "mean_eut          0\n",
      "mean_ghgs_ch4     0\n",
      "mean_ghgs_n2o     0\n",
      "mean_bio          0\n",
      "mean_watuse       0\n",
      "mean_acid         0\n",
      "sd_ghgs           0\n",
      "sd_land           0\n",
      "sd_watscar        0\n",
      "sd_eut            0\n",
      "sd_ghgs_ch4       0\n",
      "sd_ghgs_n2o       0\n",
      "sd_bio            0\n",
      "sd_watuse         0\n",
      "sd_acid           0\n",
      "n_participants    0\n",
      "sex               0\n",
      "diet_group        0\n",
      "age_group         0\n",
      "dtype: int64\n"
     ]
    }
   ],
   "source": [
    "print(f\"Counting NaN:\\n{df.isnull().sum()}\")"
   ]
  },
  {
   "cell_type": "code",
   "execution_count": 4,
   "id": "602a5ee9",
   "metadata": {},
   "outputs": [],
   "source": [
    "env_indicators = ['ghgs', 'land', 'watscar', 'eut', 'ghgs_ch4', 'ghgs_n2o', 'bio', 'watuse', 'acid']\n",
    "mean_cols = [f'mean_{base}' for base in env_indicators]\n",
    "sd_cols = [f'sd_{base}' for base in env_indicators]"
   ]
  },
  {
   "cell_type": "code",
   "execution_count": 5,
   "id": "6fa61a41",
   "metadata": {},
   "outputs": [
    {
     "data": {
      "text/html": [
       "<div>\n",
       "<style scoped>\n",
       "    .dataframe tbody tr th:only-of-type {\n",
       "        vertical-align: middle;\n",
       "    }\n",
       "\n",
       "    .dataframe tbody tr th {\n",
       "        vertical-align: top;\n",
       "    }\n",
       "\n",
       "    .dataframe thead th {\n",
       "        text-align: right;\n",
       "    }\n",
       "</style>\n",
       "<table border=\"1\" class=\"dataframe\">\n",
       "  <thead>\n",
       "    <tr style=\"text-align: right;\">\n",
       "      <th></th>\n",
       "      <th>mc_run_id</th>\n",
       "      <th>grouping</th>\n",
       "      <th>mean_ghgs</th>\n",
       "      <th>mean_land</th>\n",
       "      <th>mean_watscar</th>\n",
       "      <th>mean_eut</th>\n",
       "      <th>mean_ghgs_ch4</th>\n",
       "      <th>mean_ghgs_n2o</th>\n",
       "      <th>mean_bio</th>\n",
       "      <th>mean_watuse</th>\n",
       "      <th>...</th>\n",
       "      <th>sd_eut</th>\n",
       "      <th>sd_ghgs_ch4</th>\n",
       "      <th>sd_ghgs_n2o</th>\n",
       "      <th>sd_bio</th>\n",
       "      <th>sd_watuse</th>\n",
       "      <th>sd_acid</th>\n",
       "      <th>n_participants</th>\n",
       "      <th>sex</th>\n",
       "      <th>diet_group</th>\n",
       "      <th>age_group</th>\n",
       "    </tr>\n",
       "  </thead>\n",
       "  <tbody>\n",
       "    <tr>\n",
       "      <th>0</th>\n",
       "      <td>1</td>\n",
       "      <td>fish_female_20-29</td>\n",
       "      <td>5.377071</td>\n",
       "      <td>8.589807</td>\n",
       "      <td>14012.27478</td>\n",
       "      <td>23.553012</td>\n",
       "      <td>1.165277</td>\n",
       "      <td>0.344528</td>\n",
       "      <td>478.802638</td>\n",
       "      <td>669.154382</td>\n",
       "      <td>...</td>\n",
       "      <td>13.788241</td>\n",
       "      <td>0.913103</td>\n",
       "      <td>0.238819</td>\n",
       "      <td>400.289973</td>\n",
       "      <td>402.372408</td>\n",
       "      <td>13.774998</td>\n",
       "      <td>1329</td>\n",
       "      <td>female</td>\n",
       "      <td>fish</td>\n",
       "      <td>20-29</td>\n",
       "    </tr>\n",
       "    <tr>\n",
       "      <th>1</th>\n",
       "      <td>1</td>\n",
       "      <td>fish_female_30-39</td>\n",
       "      <td>5.376457</td>\n",
       "      <td>8.620238</td>\n",
       "      <td>15030.26610</td>\n",
       "      <td>23.831419</td>\n",
       "      <td>1.152422</td>\n",
       "      <td>0.326276</td>\n",
       "      <td>469.573862</td>\n",
       "      <td>697.161548</td>\n",
       "      <td>...</td>\n",
       "      <td>13.466037</td>\n",
       "      <td>0.845564</td>\n",
       "      <td>0.210539</td>\n",
       "      <td>375.301226</td>\n",
       "      <td>420.147350</td>\n",
       "      <td>13.077207</td>\n",
       "      <td>2024</td>\n",
       "      <td>female</td>\n",
       "      <td>fish</td>\n",
       "      <td>30-39</td>\n",
       "    </tr>\n",
       "    <tr>\n",
       "      <th>2</th>\n",
       "      <td>1</td>\n",
       "      <td>fish_female_40-49</td>\n",
       "      <td>5.169838</td>\n",
       "      <td>8.304831</td>\n",
       "      <td>15441.25934</td>\n",
       "      <td>23.419815</td>\n",
       "      <td>1.095640</td>\n",
       "      <td>0.305898</td>\n",
       "      <td>435.534050</td>\n",
       "      <td>687.733569</td>\n",
       "      <td>...</td>\n",
       "      <td>12.692978</td>\n",
       "      <td>0.773937</td>\n",
       "      <td>0.190561</td>\n",
       "      <td>333.613445</td>\n",
       "      <td>404.151916</td>\n",
       "      <td>12.959012</td>\n",
       "      <td>1689</td>\n",
       "      <td>female</td>\n",
       "      <td>fish</td>\n",
       "      <td>40-49</td>\n",
       "    </tr>\n",
       "    <tr>\n",
       "      <th>3</th>\n",
       "      <td>1</td>\n",
       "      <td>fish_female_50-59</td>\n",
       "      <td>4.933744</td>\n",
       "      <td>7.880759</td>\n",
       "      <td>16244.68021</td>\n",
       "      <td>23.459450</td>\n",
       "      <td>0.995247</td>\n",
       "      <td>0.285800</td>\n",
       "      <td>382.097727</td>\n",
       "      <td>686.763592</td>\n",
       "      <td>...</td>\n",
       "      <td>13.825273</td>\n",
       "      <td>0.669932</td>\n",
       "      <td>0.166206</td>\n",
       "      <td>271.061989</td>\n",
       "      <td>429.965087</td>\n",
       "      <td>13.155250</td>\n",
       "      <td>946</td>\n",
       "      <td>female</td>\n",
       "      <td>fish</td>\n",
       "      <td>50-59</td>\n",
       "    </tr>\n",
       "    <tr>\n",
       "      <th>4</th>\n",
       "      <td>1</td>\n",
       "      <td>fish_female_60-69</td>\n",
       "      <td>5.428442</td>\n",
       "      <td>8.701867</td>\n",
       "      <td>18364.95302</td>\n",
       "      <td>25.469176</td>\n",
       "      <td>1.127873</td>\n",
       "      <td>0.315651</td>\n",
       "      <td>435.578230</td>\n",
       "      <td>751.050809</td>\n",
       "      <td>...</td>\n",
       "      <td>14.538055</td>\n",
       "      <td>0.907853</td>\n",
       "      <td>0.196968</td>\n",
       "      <td>396.811097</td>\n",
       "      <td>471.376883</td>\n",
       "      <td>14.177048</td>\n",
       "      <td>492</td>\n",
       "      <td>female</td>\n",
       "      <td>fish</td>\n",
       "      <td>60-69</td>\n",
       "    </tr>\n",
       "  </tbody>\n",
       "</table>\n",
       "<p>5 rows × 24 columns</p>\n",
       "</div>"
      ],
      "text/plain": [
       "   mc_run_id           grouping  mean_ghgs  mean_land  mean_watscar  \\\n",
       "0          1  fish_female_20-29   5.377071   8.589807   14012.27478   \n",
       "1          1  fish_female_30-39   5.376457   8.620238   15030.26610   \n",
       "2          1  fish_female_40-49   5.169838   8.304831   15441.25934   \n",
       "3          1  fish_female_50-59   4.933744   7.880759   16244.68021   \n",
       "4          1  fish_female_60-69   5.428442   8.701867   18364.95302   \n",
       "\n",
       "    mean_eut  mean_ghgs_ch4  mean_ghgs_n2o    mean_bio  mean_watuse  ...  \\\n",
       "0  23.553012       1.165277       0.344528  478.802638   669.154382  ...   \n",
       "1  23.831419       1.152422       0.326276  469.573862   697.161548  ...   \n",
       "2  23.419815       1.095640       0.305898  435.534050   687.733569  ...   \n",
       "3  23.459450       0.995247       0.285800  382.097727   686.763592  ...   \n",
       "4  25.469176       1.127873       0.315651  435.578230   751.050809  ...   \n",
       "\n",
       "      sd_eut  sd_ghgs_ch4  sd_ghgs_n2o      sd_bio   sd_watuse    sd_acid  \\\n",
       "0  13.788241     0.913103     0.238819  400.289973  402.372408  13.774998   \n",
       "1  13.466037     0.845564     0.210539  375.301226  420.147350  13.077207   \n",
       "2  12.692978     0.773937     0.190561  333.613445  404.151916  12.959012   \n",
       "3  13.825273     0.669932     0.166206  271.061989  429.965087  13.155250   \n",
       "4  14.538055     0.907853     0.196968  396.811097  471.376883  14.177048   \n",
       "\n",
       "   n_participants     sex  diet_group  age_group  \n",
       "0            1329  female        fish      20-29  \n",
       "1            2024  female        fish      30-39  \n",
       "2            1689  female        fish      40-49  \n",
       "3             946  female        fish      50-59  \n",
       "4             492  female        fish      60-69  \n",
       "\n",
       "[5 rows x 24 columns]"
      ]
     },
     "execution_count": 5,
     "metadata": {},
     "output_type": "execute_result"
    }
   ],
   "source": [
    "calu_df = df.copy()\n",
    "calu_df.head()"
   ]
  },
  {
   "cell_type": "code",
   "execution_count": null,
   "id": "5069187c",
   "metadata": {},
   "outputs": [
    {
     "data": {
      "text/html": [
       "<div>\n",
       "<style scoped>\n",
       "    .dataframe tbody tr th:only-of-type {\n",
       "        vertical-align: middle;\n",
       "    }\n",
       "\n",
       "    .dataframe tbody tr th {\n",
       "        vertical-align: top;\n",
       "    }\n",
       "\n",
       "    .dataframe thead th {\n",
       "        text-align: right;\n",
       "    }\n",
       "</style>\n",
       "<table border=\"1\" class=\"dataframe\">\n",
       "  <thead>\n",
       "    <tr style=\"text-align: right;\">\n",
       "      <th></th>\n",
       "      <th>mc_run_id</th>\n",
       "      <th>grouping</th>\n",
       "      <th>mean_ghgs</th>\n",
       "      <th>mean_land</th>\n",
       "      <th>mean_watscar</th>\n",
       "      <th>mean_eut</th>\n",
       "      <th>mean_ghgs_ch4</th>\n",
       "      <th>mean_ghgs_n2o</th>\n",
       "      <th>mean_bio</th>\n",
       "      <th>mean_watuse</th>\n",
       "      <th>...</th>\n",
       "      <th>age_group</th>\n",
       "      <th>cv_ghgs</th>\n",
       "      <th>cv_land</th>\n",
       "      <th>cv_watscar</th>\n",
       "      <th>cv_eut</th>\n",
       "      <th>cv_ghgs_ch4</th>\n",
       "      <th>cv_ghgs_n2o</th>\n",
       "      <th>cv_bio</th>\n",
       "      <th>cv_watuse</th>\n",
       "      <th>cv_acid</th>\n",
       "    </tr>\n",
       "  </thead>\n",
       "  <tbody>\n",
       "    <tr>\n",
       "      <th>0</th>\n",
       "      <td>1</td>\n",
       "      <td>fish_female_20-29</td>\n",
       "      <td>5.377071</td>\n",
       "      <td>8.589807</td>\n",
       "      <td>14012.27478</td>\n",
       "      <td>23.553012</td>\n",
       "      <td>1.165277</td>\n",
       "      <td>0.344528</td>\n",
       "      <td>478.802638</td>\n",
       "      <td>669.154382</td>\n",
       "      <td>...</td>\n",
       "      <td>20-29</td>\n",
       "      <td>0.634062</td>\n",
       "      <td>0.694508</td>\n",
       "      <td>0.628880</td>\n",
       "      <td>0.585413</td>\n",
       "      <td>0.783593</td>\n",
       "      <td>0.693178</td>\n",
       "      <td>0.836023</td>\n",
       "      <td>0.601315</td>\n",
       "      <td>0.596724</td>\n",
       "    </tr>\n",
       "    <tr>\n",
       "      <th>1</th>\n",
       "      <td>1</td>\n",
       "      <td>fish_female_30-39</td>\n",
       "      <td>5.376457</td>\n",
       "      <td>8.620238</td>\n",
       "      <td>15030.26610</td>\n",
       "      <td>23.831419</td>\n",
       "      <td>1.152422</td>\n",
       "      <td>0.326276</td>\n",
       "      <td>469.573862</td>\n",
       "      <td>697.161548</td>\n",
       "      <td>...</td>\n",
       "      <td>30-39</td>\n",
       "      <td>0.587847</td>\n",
       "      <td>0.631104</td>\n",
       "      <td>0.605818</td>\n",
       "      <td>0.565054</td>\n",
       "      <td>0.733728</td>\n",
       "      <td>0.645279</td>\n",
       "      <td>0.799238</td>\n",
       "      <td>0.602654</td>\n",
       "      <td>0.551064</td>\n",
       "    </tr>\n",
       "    <tr>\n",
       "      <th>2</th>\n",
       "      <td>1</td>\n",
       "      <td>fish_female_40-49</td>\n",
       "      <td>5.169838</td>\n",
       "      <td>8.304831</td>\n",
       "      <td>15441.25934</td>\n",
       "      <td>23.419815</td>\n",
       "      <td>1.095640</td>\n",
       "      <td>0.305898</td>\n",
       "      <td>435.534050</td>\n",
       "      <td>687.733569</td>\n",
       "      <td>...</td>\n",
       "      <td>40-49</td>\n",
       "      <td>0.561257</td>\n",
       "      <td>0.587256</td>\n",
       "      <td>0.591992</td>\n",
       "      <td>0.541976</td>\n",
       "      <td>0.706379</td>\n",
       "      <td>0.622955</td>\n",
       "      <td>0.765987</td>\n",
       "      <td>0.587658</td>\n",
       "      <td>0.542589</td>\n",
       "    </tr>\n",
       "    <tr>\n",
       "      <th>3</th>\n",
       "      <td>1</td>\n",
       "      <td>fish_female_50-59</td>\n",
       "      <td>4.933744</td>\n",
       "      <td>7.880759</td>\n",
       "      <td>16244.68021</td>\n",
       "      <td>23.459450</td>\n",
       "      <td>0.995247</td>\n",
       "      <td>0.285800</td>\n",
       "      <td>382.097727</td>\n",
       "      <td>686.763592</td>\n",
       "      <td>...</td>\n",
       "      <td>50-59</td>\n",
       "      <td>0.556976</td>\n",
       "      <td>0.591723</td>\n",
       "      <td>0.655199</td>\n",
       "      <td>0.589326</td>\n",
       "      <td>0.673132</td>\n",
       "      <td>0.581545</td>\n",
       "      <td>0.709405</td>\n",
       "      <td>0.626074</td>\n",
       "      <td>0.554468</td>\n",
       "    </tr>\n",
       "    <tr>\n",
       "      <th>4</th>\n",
       "      <td>1</td>\n",
       "      <td>fish_female_60-69</td>\n",
       "      <td>5.428442</td>\n",
       "      <td>8.701867</td>\n",
       "      <td>18364.95302</td>\n",
       "      <td>25.469176</td>\n",
       "      <td>1.127873</td>\n",
       "      <td>0.315651</td>\n",
       "      <td>435.578230</td>\n",
       "      <td>751.050809</td>\n",
       "      <td>...</td>\n",
       "      <td>60-69</td>\n",
       "      <td>0.615610</td>\n",
       "      <td>0.667712</td>\n",
       "      <td>0.627117</td>\n",
       "      <td>0.570810</td>\n",
       "      <td>0.804925</td>\n",
       "      <td>0.624005</td>\n",
       "      <td>0.910998</td>\n",
       "      <td>0.627623</td>\n",
       "      <td>0.545427</td>\n",
       "    </tr>\n",
       "  </tbody>\n",
       "</table>\n",
       "<p>5 rows × 33 columns</p>\n",
       "</div>"
      ],
      "text/plain": [
       "   mc_run_id           grouping  mean_ghgs  mean_land  mean_watscar  \\\n",
       "0          1  fish_female_20-29   5.377071   8.589807   14012.27478   \n",
       "1          1  fish_female_30-39   5.376457   8.620238   15030.26610   \n",
       "2          1  fish_female_40-49   5.169838   8.304831   15441.25934   \n",
       "3          1  fish_female_50-59   4.933744   7.880759   16244.68021   \n",
       "4          1  fish_female_60-69   5.428442   8.701867   18364.95302   \n",
       "\n",
       "    mean_eut  mean_ghgs_ch4  mean_ghgs_n2o    mean_bio  mean_watuse  ...  \\\n",
       "0  23.553012       1.165277       0.344528  478.802638   669.154382  ...   \n",
       "1  23.831419       1.152422       0.326276  469.573862   697.161548  ...   \n",
       "2  23.419815       1.095640       0.305898  435.534050   687.733569  ...   \n",
       "3  23.459450       0.995247       0.285800  382.097727   686.763592  ...   \n",
       "4  25.469176       1.127873       0.315651  435.578230   751.050809  ...   \n",
       "\n",
       "   age_group   cv_ghgs   cv_land  cv_watscar    cv_eut  cv_ghgs_ch4  \\\n",
       "0      20-29  0.634062  0.694508    0.628880  0.585413     0.783593   \n",
       "1      30-39  0.587847  0.631104    0.605818  0.565054     0.733728   \n",
       "2      40-49  0.561257  0.587256    0.591992  0.541976     0.706379   \n",
       "3      50-59  0.556976  0.591723    0.655199  0.589326     0.673132   \n",
       "4      60-69  0.615610  0.667712    0.627117  0.570810     0.804925   \n",
       "\n",
       "   cv_ghgs_n2o    cv_bio  cv_watuse   cv_acid  \n",
       "0     0.693178  0.836023   0.601315  0.596724  \n",
       "1     0.645279  0.799238   0.602654  0.551064  \n",
       "2     0.622955  0.765987   0.587658  0.542589  \n",
       "3     0.581545  0.709405   0.626074  0.554468  \n",
       "4     0.624005  0.910998   0.627623  0.545427  \n",
       "\n",
       "[5 rows x 33 columns]"
      ]
     },
     "execution_count": 6,
     "metadata": {},
     "output_type": "execute_result"
    }
   ],
   "source": [
    "# Calculate the coefficient of variation(CV)\n",
    "for base in env_indicators:\n",
    "    mean_col = f'mean_{base}'\n",
    "    sd_col = f'sd_{base}'\n",
    "    if mean_col in calu_df.columns and sd_col in calu_df.columns:\n",
    "        calu_df[f'cv_{base}'] = calu_df[sd_col] / calu_df[mean_col]\n",
    "calu_df.head()"
   ]
  },
  {
   "cell_type": "code",
   "execution_count": null,
   "id": "a1d4b12c",
   "metadata": {},
   "outputs": [],
   "source": [
    "# Normalization\n",
    "data_to_normalize = calu_df[mean_cols]\n",
    "scaler = MinMaxScaler()\n",
    "normalized_data = scaler.fit_transform(data_to_normalize)"
   ]
  },
  {
   "cell_type": "code",
   "execution_count": null,
   "id": "d0640043",
   "metadata": {},
   "outputs": [],
   "source": [
    "# Add the normalized data back to the DataFrame\n",
    "for i, base in enumerate(env_indicators):\n",
    "    calu_df[f'norm_{base}'] = normalized_data[:, i]"
   ]
  },
  {
   "cell_type": "code",
   "execution_count": 9,
   "id": "eb14c9d6",
   "metadata": {},
   "outputs": [
    {
     "data": {
      "text/html": [
       "<div>\n",
       "<style scoped>\n",
       "    .dataframe tbody tr th:only-of-type {\n",
       "        vertical-align: middle;\n",
       "    }\n",
       "\n",
       "    .dataframe tbody tr th {\n",
       "        vertical-align: top;\n",
       "    }\n",
       "\n",
       "    .dataframe thead th {\n",
       "        text-align: right;\n",
       "    }\n",
       "</style>\n",
       "<table border=\"1\" class=\"dataframe\">\n",
       "  <thead>\n",
       "    <tr style=\"text-align: right;\">\n",
       "      <th></th>\n",
       "      <th>mc_run_id</th>\n",
       "      <th>grouping</th>\n",
       "      <th>mean_ghgs</th>\n",
       "      <th>mean_land</th>\n",
       "      <th>mean_watscar</th>\n",
       "      <th>mean_eut</th>\n",
       "      <th>mean_ghgs_ch4</th>\n",
       "      <th>mean_ghgs_n2o</th>\n",
       "      <th>mean_bio</th>\n",
       "      <th>mean_watuse</th>\n",
       "      <th>...</th>\n",
       "      <th>cv_acid</th>\n",
       "      <th>norm_ghgs</th>\n",
       "      <th>norm_land</th>\n",
       "      <th>norm_watscar</th>\n",
       "      <th>norm_eut</th>\n",
       "      <th>norm_ghgs_ch4</th>\n",
       "      <th>norm_ghgs_n2o</th>\n",
       "      <th>norm_bio</th>\n",
       "      <th>norm_watuse</th>\n",
       "      <th>norm_acid</th>\n",
       "    </tr>\n",
       "  </thead>\n",
       "  <tbody>\n",
       "    <tr>\n",
       "      <th>0</th>\n",
       "      <td>1</td>\n",
       "      <td>fish_female_20-29</td>\n",
       "      <td>5.377071</td>\n",
       "      <td>8.589807</td>\n",
       "      <td>14012.27478</td>\n",
       "      <td>23.553012</td>\n",
       "      <td>1.165277</td>\n",
       "      <td>0.344528</td>\n",
       "      <td>478.802638</td>\n",
       "      <td>669.154382</td>\n",
       "      <td>...</td>\n",
       "      <td>0.596724</td>\n",
       "      <td>0.146738</td>\n",
       "      <td>0.063621</td>\n",
       "      <td>0.123640</td>\n",
       "      <td>0.153460</td>\n",
       "      <td>0.150321</td>\n",
       "      <td>0.119074</td>\n",
       "      <td>0.226080</td>\n",
       "      <td>0.129890</td>\n",
       "      <td>0.168919</td>\n",
       "    </tr>\n",
       "    <tr>\n",
       "      <th>1</th>\n",
       "      <td>1</td>\n",
       "      <td>fish_female_30-39</td>\n",
       "      <td>5.376457</td>\n",
       "      <td>8.620238</td>\n",
       "      <td>15030.26610</td>\n",
       "      <td>23.831419</td>\n",
       "      <td>1.152422</td>\n",
       "      <td>0.326276</td>\n",
       "      <td>469.573862</td>\n",
       "      <td>697.161548</td>\n",
       "      <td>...</td>\n",
       "      <td>0.551064</td>\n",
       "      <td>0.146714</td>\n",
       "      <td>0.063949</td>\n",
       "      <td>0.137388</td>\n",
       "      <td>0.155965</td>\n",
       "      <td>0.148559</td>\n",
       "      <td>0.109788</td>\n",
       "      <td>0.221237</td>\n",
       "      <td>0.137146</td>\n",
       "      <td>0.175497</td>\n",
       "    </tr>\n",
       "    <tr>\n",
       "      <th>2</th>\n",
       "      <td>1</td>\n",
       "      <td>fish_female_40-49</td>\n",
       "      <td>5.169838</td>\n",
       "      <td>8.304831</td>\n",
       "      <td>15441.25934</td>\n",
       "      <td>23.419815</td>\n",
       "      <td>1.095640</td>\n",
       "      <td>0.305898</td>\n",
       "      <td>435.534050</td>\n",
       "      <td>687.733569</td>\n",
       "      <td>...</td>\n",
       "      <td>0.542589</td>\n",
       "      <td>0.138615</td>\n",
       "      <td>0.060551</td>\n",
       "      <td>0.142938</td>\n",
       "      <td>0.152262</td>\n",
       "      <td>0.140779</td>\n",
       "      <td>0.099422</td>\n",
       "      <td>0.203374</td>\n",
       "      <td>0.134703</td>\n",
       "      <td>0.177053</td>\n",
       "    </tr>\n",
       "    <tr>\n",
       "      <th>3</th>\n",
       "      <td>1</td>\n",
       "      <td>fish_female_50-59</td>\n",
       "      <td>4.933744</td>\n",
       "      <td>7.880759</td>\n",
       "      <td>16244.68021</td>\n",
       "      <td>23.459450</td>\n",
       "      <td>0.995247</td>\n",
       "      <td>0.285800</td>\n",
       "      <td>382.097727</td>\n",
       "      <td>686.763592</td>\n",
       "      <td>...</td>\n",
       "      <td>0.554468</td>\n",
       "      <td>0.129360</td>\n",
       "      <td>0.055982</td>\n",
       "      <td>0.153788</td>\n",
       "      <td>0.152618</td>\n",
       "      <td>0.127022</td>\n",
       "      <td>0.089198</td>\n",
       "      <td>0.175331</td>\n",
       "      <td>0.134452</td>\n",
       "      <td>0.175447</td>\n",
       "    </tr>\n",
       "    <tr>\n",
       "      <th>4</th>\n",
       "      <td>1</td>\n",
       "      <td>fish_female_60-69</td>\n",
       "      <td>5.428442</td>\n",
       "      <td>8.701867</td>\n",
       "      <td>18364.95302</td>\n",
       "      <td>25.469176</td>\n",
       "      <td>1.127873</td>\n",
       "      <td>0.315651</td>\n",
       "      <td>435.578230</td>\n",
       "      <td>751.050809</td>\n",
       "      <td>...</td>\n",
       "      <td>0.545427</td>\n",
       "      <td>0.148752</td>\n",
       "      <td>0.064828</td>\n",
       "      <td>0.182421</td>\n",
       "      <td>0.170700</td>\n",
       "      <td>0.145195</td>\n",
       "      <td>0.104383</td>\n",
       "      <td>0.203397</td>\n",
       "      <td>0.151108</td>\n",
       "      <td>0.198514</td>\n",
       "    </tr>\n",
       "  </tbody>\n",
       "</table>\n",
       "<p>5 rows × 42 columns</p>\n",
       "</div>"
      ],
      "text/plain": [
       "   mc_run_id           grouping  mean_ghgs  mean_land  mean_watscar  \\\n",
       "0          1  fish_female_20-29   5.377071   8.589807   14012.27478   \n",
       "1          1  fish_female_30-39   5.376457   8.620238   15030.26610   \n",
       "2          1  fish_female_40-49   5.169838   8.304831   15441.25934   \n",
       "3          1  fish_female_50-59   4.933744   7.880759   16244.68021   \n",
       "4          1  fish_female_60-69   5.428442   8.701867   18364.95302   \n",
       "\n",
       "    mean_eut  mean_ghgs_ch4  mean_ghgs_n2o    mean_bio  mean_watuse  ...  \\\n",
       "0  23.553012       1.165277       0.344528  478.802638   669.154382  ...   \n",
       "1  23.831419       1.152422       0.326276  469.573862   697.161548  ...   \n",
       "2  23.419815       1.095640       0.305898  435.534050   687.733569  ...   \n",
       "3  23.459450       0.995247       0.285800  382.097727   686.763592  ...   \n",
       "4  25.469176       1.127873       0.315651  435.578230   751.050809  ...   \n",
       "\n",
       "    cv_acid  norm_ghgs  norm_land  norm_watscar  norm_eut  norm_ghgs_ch4  \\\n",
       "0  0.596724   0.146738   0.063621      0.123640  0.153460       0.150321   \n",
       "1  0.551064   0.146714   0.063949      0.137388  0.155965       0.148559   \n",
       "2  0.542589   0.138615   0.060551      0.142938  0.152262       0.140779   \n",
       "3  0.554468   0.129360   0.055982      0.153788  0.152618       0.127022   \n",
       "4  0.545427   0.148752   0.064828      0.182421  0.170700       0.145195   \n",
       "\n",
       "   norm_ghgs_n2o  norm_bio  norm_watuse  norm_acid  \n",
       "0       0.119074  0.226080     0.129890   0.168919  \n",
       "1       0.109788  0.221237     0.137146   0.175497  \n",
       "2       0.099422  0.203374     0.134703   0.177053  \n",
       "3       0.089198  0.175331     0.134452   0.175447  \n",
       "4       0.104383  0.203397     0.151108   0.198514  \n",
       "\n",
       "[5 rows x 42 columns]"
      ]
     },
     "execution_count": 9,
     "metadata": {},
     "output_type": "execute_result"
    }
   ],
   "source": [
    "calu_df.head()"
   ]
  },
  {
   "cell_type": "code",
   "execution_count": null,
   "id": "a5f779af",
   "metadata": {},
   "outputs": [
    {
     "data": {
      "text/html": [
       "<div>\n",
       "<style scoped>\n",
       "    .dataframe tbody tr th:only-of-type {\n",
       "        vertical-align: middle;\n",
       "    }\n",
       "\n",
       "    .dataframe tbody tr th {\n",
       "        vertical-align: top;\n",
       "    }\n",
       "\n",
       "    .dataframe thead th {\n",
       "        text-align: right;\n",
       "    }\n",
       "</style>\n",
       "<table border=\"1\" class=\"dataframe\">\n",
       "  <thead>\n",
       "    <tr style=\"text-align: right;\">\n",
       "      <th></th>\n",
       "      <th>mc_run_id</th>\n",
       "      <th>grouping</th>\n",
       "      <th>mean_ghgs</th>\n",
       "      <th>mean_land</th>\n",
       "      <th>mean_watscar</th>\n",
       "      <th>mean_eut</th>\n",
       "      <th>mean_ghgs_ch4</th>\n",
       "      <th>mean_ghgs_n2o</th>\n",
       "      <th>mean_bio</th>\n",
       "      <th>mean_watuse</th>\n",
       "      <th>...</th>\n",
       "      <th>weighted_ghgs_ch4</th>\n",
       "      <th>reliability_ghgs_n2o</th>\n",
       "      <th>weighted_ghgs_n2o</th>\n",
       "      <th>reliability_bio</th>\n",
       "      <th>weighted_bio</th>\n",
       "      <th>reliability_watuse</th>\n",
       "      <th>weighted_watuse</th>\n",
       "      <th>reliability_acid</th>\n",
       "      <th>weighted_acid</th>\n",
       "      <th>total_env_impact</th>\n",
       "    </tr>\n",
       "  </thead>\n",
       "  <tbody>\n",
       "    <tr>\n",
       "      <th>0</th>\n",
       "      <td>1</td>\n",
       "      <td>fish_female_20-29</td>\n",
       "      <td>5.377071</td>\n",
       "      <td>8.589807</td>\n",
       "      <td>14012.27478</td>\n",
       "      <td>23.553012</td>\n",
       "      <td>1.165277</td>\n",
       "      <td>0.344528</td>\n",
       "      <td>478.802638</td>\n",
       "      <td>669.154382</td>\n",
       "      <td>...</td>\n",
       "      <td>0.084280</td>\n",
       "      <td>0.590605</td>\n",
       "      <td>0.070325</td>\n",
       "      <td>0.544656</td>\n",
       "      <td>0.123136</td>\n",
       "      <td>0.624487</td>\n",
       "      <td>0.081114</td>\n",
       "      <td>0.626282</td>\n",
       "      <td>0.105791</td>\n",
       "      <td>0.084966</td>\n",
       "    </tr>\n",
       "    <tr>\n",
       "      <th>1</th>\n",
       "      <td>1</td>\n",
       "      <td>fish_female_30-39</td>\n",
       "      <td>5.376457</td>\n",
       "      <td>8.620238</td>\n",
       "      <td>15030.26610</td>\n",
       "      <td>23.831419</td>\n",
       "      <td>1.152422</td>\n",
       "      <td>0.326276</td>\n",
       "      <td>469.573862</td>\n",
       "      <td>697.161548</td>\n",
       "      <td>...</td>\n",
       "      <td>0.085688</td>\n",
       "      <td>0.607800</td>\n",
       "      <td>0.066729</td>\n",
       "      <td>0.555791</td>\n",
       "      <td>0.122961</td>\n",
       "      <td>0.623965</td>\n",
       "      <td>0.085574</td>\n",
       "      <td>0.644719</td>\n",
       "      <td>0.113147</td>\n",
       "      <td>0.087879</td>\n",
       "    </tr>\n",
       "    <tr>\n",
       "      <th>2</th>\n",
       "      <td>1</td>\n",
       "      <td>fish_female_40-49</td>\n",
       "      <td>5.169838</td>\n",
       "      <td>8.304831</td>\n",
       "      <td>15441.25934</td>\n",
       "      <td>23.419815</td>\n",
       "      <td>1.095640</td>\n",
       "      <td>0.305898</td>\n",
       "      <td>435.534050</td>\n",
       "      <td>687.733569</td>\n",
       "      <td>...</td>\n",
       "      <td>0.082501</td>\n",
       "      <td>0.616160</td>\n",
       "      <td>0.061260</td>\n",
       "      <td>0.566256</td>\n",
       "      <td>0.115161</td>\n",
       "      <td>0.629859</td>\n",
       "      <td>0.084844</td>\n",
       "      <td>0.648261</td>\n",
       "      <td>0.114776</td>\n",
       "      <td>0.086001</td>\n",
       "    </tr>\n",
       "    <tr>\n",
       "      <th>3</th>\n",
       "      <td>1</td>\n",
       "      <td>fish_female_50-59</td>\n",
       "      <td>4.933744</td>\n",
       "      <td>7.880759</td>\n",
       "      <td>16244.68021</td>\n",
       "      <td>23.459450</td>\n",
       "      <td>0.995247</td>\n",
       "      <td>0.285800</td>\n",
       "      <td>382.097727</td>\n",
       "      <td>686.763592</td>\n",
       "      <td>...</td>\n",
       "      <td>0.075918</td>\n",
       "      <td>0.632293</td>\n",
       "      <td>0.056399</td>\n",
       "      <td>0.584999</td>\n",
       "      <td>0.102569</td>\n",
       "      <td>0.614978</td>\n",
       "      <td>0.082685</td>\n",
       "      <td>0.643307</td>\n",
       "      <td>0.112867</td>\n",
       "      <td>0.081959</td>\n",
       "    </tr>\n",
       "    <tr>\n",
       "      <th>4</th>\n",
       "      <td>1</td>\n",
       "      <td>fish_female_60-69</td>\n",
       "      <td>5.428442</td>\n",
       "      <td>8.701867</td>\n",
       "      <td>18364.95302</td>\n",
       "      <td>25.469176</td>\n",
       "      <td>1.127873</td>\n",
       "      <td>0.315651</td>\n",
       "      <td>435.578230</td>\n",
       "      <td>751.050809</td>\n",
       "      <td>...</td>\n",
       "      <td>0.080444</td>\n",
       "      <td>0.615762</td>\n",
       "      <td>0.064275</td>\n",
       "      <td>0.523287</td>\n",
       "      <td>0.106435</td>\n",
       "      <td>0.614393</td>\n",
       "      <td>0.092840</td>\n",
       "      <td>0.647070</td>\n",
       "      <td>0.128452</td>\n",
       "      <td>0.091575</td>\n",
       "    </tr>\n",
       "  </tbody>\n",
       "</table>\n",
       "<p>5 rows × 61 columns</p>\n",
       "</div>"
      ],
      "text/plain": [
       "   mc_run_id           grouping  mean_ghgs  mean_land  mean_watscar  \\\n",
       "0          1  fish_female_20-29   5.377071   8.589807   14012.27478   \n",
       "1          1  fish_female_30-39   5.376457   8.620238   15030.26610   \n",
       "2          1  fish_female_40-49   5.169838   8.304831   15441.25934   \n",
       "3          1  fish_female_50-59   4.933744   7.880759   16244.68021   \n",
       "4          1  fish_female_60-69   5.428442   8.701867   18364.95302   \n",
       "\n",
       "    mean_eut  mean_ghgs_ch4  mean_ghgs_n2o    mean_bio  mean_watuse  ...  \\\n",
       "0  23.553012       1.165277       0.344528  478.802638   669.154382  ...   \n",
       "1  23.831419       1.152422       0.326276  469.573862   697.161548  ...   \n",
       "2  23.419815       1.095640       0.305898  435.534050   687.733569  ...   \n",
       "3  23.459450       0.995247       0.285800  382.097727   686.763592  ...   \n",
       "4  25.469176       1.127873       0.315651  435.578230   751.050809  ...   \n",
       "\n",
       "   weighted_ghgs_ch4  reliability_ghgs_n2o  weighted_ghgs_n2o  \\\n",
       "0           0.084280              0.590605           0.070325   \n",
       "1           0.085688              0.607800           0.066729   \n",
       "2           0.082501              0.616160           0.061260   \n",
       "3           0.075918              0.632293           0.056399   \n",
       "4           0.080444              0.615762           0.064275   \n",
       "\n",
       "   reliability_bio  weighted_bio  reliability_watuse  weighted_watuse  \\\n",
       "0         0.544656      0.123136            0.624487         0.081114   \n",
       "1         0.555791      0.122961            0.623965         0.085574   \n",
       "2         0.566256      0.115161            0.629859         0.084844   \n",
       "3         0.584999      0.102569            0.614978         0.082685   \n",
       "4         0.523287      0.106435            0.614393         0.092840   \n",
       "\n",
       "   reliability_acid  weighted_acid  total_env_impact  \n",
       "0          0.626282       0.105791          0.084966  \n",
       "1          0.644719       0.113147          0.087879  \n",
       "2          0.648261       0.114776          0.086001  \n",
       "3          0.643307       0.112867          0.081959  \n",
       "4          0.647070       0.128452          0.091575  \n",
       "\n",
       "[5 rows x 61 columns]"
      ]
     },
     "execution_count": 10,
     "metadata": {},
     "output_type": "execute_result"
    }
   ],
   "source": [
    "# Creating reliability weights based on coefficient of variation\n",
    "for base in env_indicators:\n",
    "    cv_col = f'cv_{base}'\n",
    "    if cv_col in calu_df.columns:\n",
    "        # Calculating reliability weights\n",
    "        calu_df[f'reliability_{base}'] = 1 / (1 + calu_df[cv_col])\n",
    "        \n",
    "        # Apply weights to create weighted indicators\n",
    "        norm_col = f'norm_{base}'\n",
    "        calu_df[f'weighted_{base}'] = calu_df[norm_col] * calu_df[f'reliability_{base}']\n",
    "\n",
    "# Creating a comprehensive environmental impact indicator\n",
    "weighted_indicator_cols = [f'weighted_{base}' for base in env_indicators]\n",
    "calu_df['total_env_impact'] = calu_df[weighted_indicator_cols].mean(axis=1)\n",
    "calu_df.head()"
   ]
  },
  {
   "cell_type": "code",
   "execution_count": null,
   "id": "164e76a4",
   "metadata": {},
   "outputs": [],
   "source": [
    "# Group by diet type and calculate average environmental impact\n",
    "diet_impact = calu_df.groupby('diet_group')[mean_cols + weighted_indicator_cols + ['total_env_impact']].mean().reset_index()\n",
    "# Environmental Footprint Index\n",
    "min_impact = diet_impact['total_env_impact'].min()\n",
    "diet_impact['env_footprint_index'] = diet_impact['total_env_impact'] / min_impact"
   ]
  },
  {
   "cell_type": "code",
   "execution_count": null,
   "id": "e5851012",
   "metadata": {},
   "outputs": [
    {
     "data": {
      "text/html": [
       "<div>\n",
       "<style scoped>\n",
       "    .dataframe tbody tr th:only-of-type {\n",
       "        vertical-align: middle;\n",
       "    }\n",
       "\n",
       "    .dataframe tbody tr th {\n",
       "        vertical-align: top;\n",
       "    }\n",
       "\n",
       "    .dataframe thead th {\n",
       "        text-align: right;\n",
       "    }\n",
       "</style>\n",
       "<table border=\"1\" class=\"dataframe\">\n",
       "  <thead>\n",
       "    <tr style=\"text-align: right;\">\n",
       "      <th></th>\n",
       "      <th>diet_group</th>\n",
       "      <th>ghgs_relative_impact</th>\n",
       "      <th>ghgs_original</th>\n",
       "      <th>land_relative_impact</th>\n",
       "      <th>land_original</th>\n",
       "      <th>watscar_relative_impact</th>\n",
       "      <th>watscar_original</th>\n",
       "      <th>eut_relative_impact</th>\n",
       "      <th>eut_original</th>\n",
       "      <th>ghgs_ch4_relative_impact</th>\n",
       "      <th>ghgs_ch4_original</th>\n",
       "      <th>ghgs_n2o_relative_impact</th>\n",
       "      <th>ghgs_n2o_original</th>\n",
       "      <th>bio_relative_impact</th>\n",
       "      <th>bio_original</th>\n",
       "      <th>watuse_relative_impact</th>\n",
       "      <th>watuse_original</th>\n",
       "      <th>acid_relative_impact</th>\n",
       "      <th>acid_original</th>\n",
       "    </tr>\n",
       "  </thead>\n",
       "  <tbody>\n",
       "    <tr>\n",
       "      <th>0</th>\n",
       "      <td>fish</td>\n",
       "      <td>4.434060</td>\n",
       "      <td>5.452489</td>\n",
       "      <td>2.761137</td>\n",
       "      <td>7.319218</td>\n",
       "      <td>1.616916</td>\n",
       "      <td>19709.243846</td>\n",
       "      <td>3.850300</td>\n",
       "      <td>23.065932</td>\n",
       "      <td>13.783473</td>\n",
       "      <td>0.916255</td>\n",
       "      <td>2.587960</td>\n",
       "      <td>0.359165</td>\n",
       "      <td>3.238994</td>\n",
       "      <td>274.857505</td>\n",
       "      <td>2.649925</td>\n",
       "      <td>845.594953</td>\n",
       "      <td>4.343074</td>\n",
       "      <td>25.515540</td>\n",
       "    </tr>\n",
       "    <tr>\n",
       "      <th>1</th>\n",
       "      <td>meat</td>\n",
       "      <td>7.805220</td>\n",
       "      <td>7.937179</td>\n",
       "      <td>6.692514</td>\n",
       "      <td>13.692233</td>\n",
       "      <td>1.798993</td>\n",
       "      <td>20485.836984</td>\n",
       "      <td>6.388436</td>\n",
       "      <td>31.951860</td>\n",
       "      <td>27.462488</td>\n",
       "      <td>1.579330</td>\n",
       "      <td>5.094408</td>\n",
       "      <td>0.563690</td>\n",
       "      <td>4.421305</td>\n",
       "      <td>339.617912</td>\n",
       "      <td>3.111017</td>\n",
       "      <td>914.769192</td>\n",
       "      <td>7.224117</td>\n",
       "      <td>35.725884</td>\n",
       "    </tr>\n",
       "    <tr>\n",
       "      <th>2</th>\n",
       "      <td>meat100</td>\n",
       "      <td>14.702823</td>\n",
       "      <td>13.624876</td>\n",
       "      <td>15.514835</td>\n",
       "      <td>28.558030</td>\n",
       "      <td>2.649522</td>\n",
       "      <td>27061.571592</td>\n",
       "      <td>10.993493</td>\n",
       "      <td>50.675963</td>\n",
       "      <td>51.664117</td>\n",
       "      <td>2.910919</td>\n",
       "      <td>9.986961</td>\n",
       "      <td>0.998758</td>\n",
       "      <td>7.257117</td>\n",
       "      <td>507.346225</td>\n",
       "      <td>4.304949</td>\n",
       "      <td>1172.172206</td>\n",
       "      <td>12.236671</td>\n",
       "      <td>55.798517</td>\n",
       "    </tr>\n",
       "    <tr>\n",
       "      <th>3</th>\n",
       "      <td>meat50</td>\n",
       "      <td>4.952391</td>\n",
       "      <td>5.766550</td>\n",
       "      <td>3.634835</td>\n",
       "      <td>8.607969</td>\n",
       "      <td>1.430049</td>\n",
       "      <td>17878.297107</td>\n",
       "      <td>4.204188</td>\n",
       "      <td>23.974645</td>\n",
       "      <td>17.647777</td>\n",
       "      <td>1.083654</td>\n",
       "      <td>3.056786</td>\n",
       "      <td>0.394361</td>\n",
       "      <td>3.269930</td>\n",
       "      <td>274.592299</td>\n",
       "      <td>2.436722</td>\n",
       "      <td>782.329001</td>\n",
       "      <td>4.831925</td>\n",
       "      <td>27.016860</td>\n",
       "    </tr>\n",
       "    <tr>\n",
       "      <th>4</th>\n",
       "      <td>vegan</td>\n",
       "      <td>1.000000</td>\n",
       "      <td>2.551045</td>\n",
       "      <td>1.000000</td>\n",
       "      <td>4.433825</td>\n",
       "      <td>1.000000</td>\n",
       "      <td>15083.835327</td>\n",
       "      <td>1.000000</td>\n",
       "      <td>11.202768</td>\n",
       "      <td>1.000000</td>\n",
       "      <td>0.148856</td>\n",
       "      <td>1.000000</td>\n",
       "      <td>0.214003</td>\n",
       "      <td>1.000000</td>\n",
       "      <td>122.011847</td>\n",
       "      <td>1.000000</td>\n",
       "      <td>443.401156</td>\n",
       "      <td>1.000000</td>\n",
       "      <td>11.281311</td>\n",
       "    </tr>\n",
       "  </tbody>\n",
       "</table>\n",
       "</div>"
      ],
      "text/plain": [
       "  diet_group  ghgs_relative_impact  ghgs_original  land_relative_impact  \\\n",
       "0       fish              4.434060       5.452489              2.761137   \n",
       "1       meat              7.805220       7.937179              6.692514   \n",
       "2    meat100             14.702823      13.624876             15.514835   \n",
       "3     meat50              4.952391       5.766550              3.634835   \n",
       "4      vegan              1.000000       2.551045              1.000000   \n",
       "\n",
       "   land_original  watscar_relative_impact  watscar_original  \\\n",
       "0       7.319218                 1.616916      19709.243846   \n",
       "1      13.692233                 1.798993      20485.836984   \n",
       "2      28.558030                 2.649522      27061.571592   \n",
       "3       8.607969                 1.430049      17878.297107   \n",
       "4       4.433825                 1.000000      15083.835327   \n",
       "\n",
       "   eut_relative_impact  eut_original  ghgs_ch4_relative_impact  \\\n",
       "0             3.850300     23.065932                 13.783473   \n",
       "1             6.388436     31.951860                 27.462488   \n",
       "2            10.993493     50.675963                 51.664117   \n",
       "3             4.204188     23.974645                 17.647777   \n",
       "4             1.000000     11.202768                  1.000000   \n",
       "\n",
       "   ghgs_ch4_original  ghgs_n2o_relative_impact  ghgs_n2o_original  \\\n",
       "0           0.916255                  2.587960           0.359165   \n",
       "1           1.579330                  5.094408           0.563690   \n",
       "2           2.910919                  9.986961           0.998758   \n",
       "3           1.083654                  3.056786           0.394361   \n",
       "4           0.148856                  1.000000           0.214003   \n",
       "\n",
       "   bio_relative_impact  bio_original  watuse_relative_impact  watuse_original  \\\n",
       "0             3.238994    274.857505                2.649925       845.594953   \n",
       "1             4.421305    339.617912                3.111017       914.769192   \n",
       "2             7.257117    507.346225                4.304949      1172.172206   \n",
       "3             3.269930    274.592299                2.436722       782.329001   \n",
       "4             1.000000    122.011847                1.000000       443.401156   \n",
       "\n",
       "   acid_relative_impact  acid_original  \n",
       "0              4.343074      25.515540  \n",
       "1              7.224117      35.725884  \n",
       "2             12.236671      55.798517  \n",
       "3              4.831925      27.016860  \n",
       "4              1.000000      11.281311  "
      ]
     },
     "execution_count": 12,
     "metadata": {},
     "output_type": "execute_result"
    }
   ],
   "source": [
    "# Create an Environmental Impact Analysis Form\n",
    "impact_analysis = []\n",
    "\n",
    "for diet in diet_impact['diet_group']:\n",
    "    diet_row = {'diet_group': diet}\n",
    "    \n",
    "    # Add the relative impact of each environmental indicator\n",
    "    for base in env_indicators:\n",
    "        weighted_col = f'weighted_{base}'\n",
    "        mean_col = f'mean_{base}'\n",
    "        \n",
    "        # Find the diet type with the lowest metric for each as a baseline\n",
    "        min_value = diet_impact[weighted_col].min()\n",
    "        \n",
    "        # Calculating relative impact\n",
    "        rel_impact = diet_impact.loc[diet_impact['diet_group'] == diet, weighted_col].values[0] / min_value\n",
    "        diet_row[f'{base}_relative_impact'] = rel_impact\n",
    "        \n",
    "        # Add original value for reference\n",
    "        diet_row[f'{base}_original'] = diet_impact.loc[diet_impact['diet_group'] == diet, mean_col].values[0]\n",
    "    \n",
    "    impact_analysis.append(diet_row)\n",
    "\n",
    "impact_df = pd.DataFrame(impact_analysis)\n",
    "impact_df.head()"
   ]
  },
  {
   "cell_type": "markdown",
   "id": "138f30df",
   "metadata": {},
   "source": [
    "### Distribution of environmental impacts of different diet types"
   ]
  },
  {
   "cell_type": "code",
   "execution_count": 13,
   "id": "bd6a88d5",
   "metadata": {},
   "outputs": [
    {
     "data": {
      "application/vnd.plotly.v1+json": {
       "config": {
        "plotlyServerURL": "https://plotly.com"
       },
       "data": [
        {
         "fill": "toself",
         "name": "fish",
         "r": [
          4.434060144021921,
          2.7611371876057045,
          1.6169155712024814,
          3.8503001735541185,
          13.783472978283424,
          2.5879602997499394,
          3.238994183246748,
          2.6499245716100788,
          4.343074433632087,
          4.434060144021921
         ],
         "theta": [
          "ghgs",
          "land",
          "watscar",
          "eut",
          "ghgs_ch4",
          "ghgs_n2o",
          "bio",
          "watuse",
          "acid",
          "ghgs"
         ],
         "type": "scatterpolar"
        },
        {
         "fill": "toself",
         "name": "meat",
         "r": [
          7.805220301289212,
          6.692513833640891,
          1.7989933227594563,
          6.388435684713944,
          27.462487726859884,
          5.094408246405587,
          4.421304663086638,
          3.111016858930371,
          7.224116806888816,
          7.805220301289212
         ],
         "theta": [
          "ghgs",
          "land",
          "watscar",
          "eut",
          "ghgs_ch4",
          "ghgs_n2o",
          "bio",
          "watuse",
          "acid",
          "ghgs"
         ],
         "type": "scatterpolar"
        },
        {
         "fill": "toself",
         "name": "meat100",
         "r": [
          14.702823058833307,
          15.514834780425794,
          2.649521710325015,
          10.993493174013137,
          51.664117276651865,
          9.986960534681643,
          7.25711720911639,
          4.304948786405811,
          12.236671454412015,
          14.702823058833307
         ],
         "theta": [
          "ghgs",
          "land",
          "watscar",
          "eut",
          "ghgs_ch4",
          "ghgs_n2o",
          "bio",
          "watuse",
          "acid",
          "ghgs"
         ],
         "type": "scatterpolar"
        },
        {
         "fill": "toself",
         "name": "meat50",
         "r": [
          4.952390833912641,
          3.634835145826674,
          1.4300488371321871,
          4.204188002328714,
          17.647777227441974,
          3.056786316163262,
          3.2699297349077727,
          2.436722161661682,
          4.831925280754125,
          4.952390833912641
         ],
         "theta": [
          "ghgs",
          "land",
          "watscar",
          "eut",
          "ghgs_ch4",
          "ghgs_n2o",
          "bio",
          "watuse",
          "acid",
          "ghgs"
         ],
         "type": "scatterpolar"
        },
        {
         "fill": "toself",
         "name": "vegan",
         "r": [
          1,
          1,
          1,
          1,
          1,
          1,
          1,
          1,
          1,
          1
         ],
         "theta": [
          "ghgs",
          "land",
          "watscar",
          "eut",
          "ghgs_ch4",
          "ghgs_n2o",
          "bio",
          "watuse",
          "acid",
          "ghgs"
         ],
         "type": "scatterpolar"
        },
        {
         "fill": "toself",
         "name": "veggie",
         "r": [
          3.5706820849499166,
          2.5277103013411466,
          1.3267662745153486,
          2.854171996211273,
          11.882749828087288,
          2.150163277055555,
          3.053786103382801,
          1.7061803726531903,
          3.6360606974716156,
          3.5706820849499166
         ],
         "theta": [
          "ghgs",
          "land",
          "watscar",
          "eut",
          "ghgs_ch4",
          "ghgs_n2o",
          "bio",
          "watuse",
          "acid",
          "ghgs"
         ],
         "type": "scatterpolar"
        }
       ],
       "layout": {
        "height": 700,
        "legend": {
         "font": {
          "size": 12
         },
         "title": {
          "text": "Diet Type"
         }
        },
        "polar": {
         "angularaxis": {
          "tickfont": {
           "size": 12
          }
         },
         "radialaxis": {
          "range": [
           0.9,
           56.83052900431706
          ],
          "visible": true
         }
        },
        "showlegend": true,
        "template": {
         "data": {
          "bar": [
           {
            "error_x": {
             "color": "#2a3f5f"
            },
            "error_y": {
             "color": "#2a3f5f"
            },
            "marker": {
             "line": {
              "color": "#E5ECF6",
              "width": 0.5
             },
             "pattern": {
              "fillmode": "overlay",
              "size": 10,
              "solidity": 0.2
             }
            },
            "type": "bar"
           }
          ],
          "barpolar": [
           {
            "marker": {
             "line": {
              "color": "#E5ECF6",
              "width": 0.5
             },
             "pattern": {
              "fillmode": "overlay",
              "size": 10,
              "solidity": 0.2
             }
            },
            "type": "barpolar"
           }
          ],
          "carpet": [
           {
            "aaxis": {
             "endlinecolor": "#2a3f5f",
             "gridcolor": "white",
             "linecolor": "white",
             "minorgridcolor": "white",
             "startlinecolor": "#2a3f5f"
            },
            "baxis": {
             "endlinecolor": "#2a3f5f",
             "gridcolor": "white",
             "linecolor": "white",
             "minorgridcolor": "white",
             "startlinecolor": "#2a3f5f"
            },
            "type": "carpet"
           }
          ],
          "choropleth": [
           {
            "colorbar": {
             "outlinewidth": 0,
             "ticks": ""
            },
            "type": "choropleth"
           }
          ],
          "contour": [
           {
            "colorbar": {
             "outlinewidth": 0,
             "ticks": ""
            },
            "colorscale": [
             [
              0,
              "#0d0887"
             ],
             [
              0.1111111111111111,
              "#46039f"
             ],
             [
              0.2222222222222222,
              "#7201a8"
             ],
             [
              0.3333333333333333,
              "#9c179e"
             ],
             [
              0.4444444444444444,
              "#bd3786"
             ],
             [
              0.5555555555555556,
              "#d8576b"
             ],
             [
              0.6666666666666666,
              "#ed7953"
             ],
             [
              0.7777777777777778,
              "#fb9f3a"
             ],
             [
              0.8888888888888888,
              "#fdca26"
             ],
             [
              1,
              "#f0f921"
             ]
            ],
            "type": "contour"
           }
          ],
          "contourcarpet": [
           {
            "colorbar": {
             "outlinewidth": 0,
             "ticks": ""
            },
            "type": "contourcarpet"
           }
          ],
          "heatmap": [
           {
            "colorbar": {
             "outlinewidth": 0,
             "ticks": ""
            },
            "colorscale": [
             [
              0,
              "#0d0887"
             ],
             [
              0.1111111111111111,
              "#46039f"
             ],
             [
              0.2222222222222222,
              "#7201a8"
             ],
             [
              0.3333333333333333,
              "#9c179e"
             ],
             [
              0.4444444444444444,
              "#bd3786"
             ],
             [
              0.5555555555555556,
              "#d8576b"
             ],
             [
              0.6666666666666666,
              "#ed7953"
             ],
             [
              0.7777777777777778,
              "#fb9f3a"
             ],
             [
              0.8888888888888888,
              "#fdca26"
             ],
             [
              1,
              "#f0f921"
             ]
            ],
            "type": "heatmap"
           }
          ],
          "heatmapgl": [
           {
            "colorbar": {
             "outlinewidth": 0,
             "ticks": ""
            },
            "colorscale": [
             [
              0,
              "#0d0887"
             ],
             [
              0.1111111111111111,
              "#46039f"
             ],
             [
              0.2222222222222222,
              "#7201a8"
             ],
             [
              0.3333333333333333,
              "#9c179e"
             ],
             [
              0.4444444444444444,
              "#bd3786"
             ],
             [
              0.5555555555555556,
              "#d8576b"
             ],
             [
              0.6666666666666666,
              "#ed7953"
             ],
             [
              0.7777777777777778,
              "#fb9f3a"
             ],
             [
              0.8888888888888888,
              "#fdca26"
             ],
             [
              1,
              "#f0f921"
             ]
            ],
            "type": "heatmapgl"
           }
          ],
          "histogram": [
           {
            "marker": {
             "pattern": {
              "fillmode": "overlay",
              "size": 10,
              "solidity": 0.2
             }
            },
            "type": "histogram"
           }
          ],
          "histogram2d": [
           {
            "colorbar": {
             "outlinewidth": 0,
             "ticks": ""
            },
            "colorscale": [
             [
              0,
              "#0d0887"
             ],
             [
              0.1111111111111111,
              "#46039f"
             ],
             [
              0.2222222222222222,
              "#7201a8"
             ],
             [
              0.3333333333333333,
              "#9c179e"
             ],
             [
              0.4444444444444444,
              "#bd3786"
             ],
             [
              0.5555555555555556,
              "#d8576b"
             ],
             [
              0.6666666666666666,
              "#ed7953"
             ],
             [
              0.7777777777777778,
              "#fb9f3a"
             ],
             [
              0.8888888888888888,
              "#fdca26"
             ],
             [
              1,
              "#f0f921"
             ]
            ],
            "type": "histogram2d"
           }
          ],
          "histogram2dcontour": [
           {
            "colorbar": {
             "outlinewidth": 0,
             "ticks": ""
            },
            "colorscale": [
             [
              0,
              "#0d0887"
             ],
             [
              0.1111111111111111,
              "#46039f"
             ],
             [
              0.2222222222222222,
              "#7201a8"
             ],
             [
              0.3333333333333333,
              "#9c179e"
             ],
             [
              0.4444444444444444,
              "#bd3786"
             ],
             [
              0.5555555555555556,
              "#d8576b"
             ],
             [
              0.6666666666666666,
              "#ed7953"
             ],
             [
              0.7777777777777778,
              "#fb9f3a"
             ],
             [
              0.8888888888888888,
              "#fdca26"
             ],
             [
              1,
              "#f0f921"
             ]
            ],
            "type": "histogram2dcontour"
           }
          ],
          "mesh3d": [
           {
            "colorbar": {
             "outlinewidth": 0,
             "ticks": ""
            },
            "type": "mesh3d"
           }
          ],
          "parcoords": [
           {
            "line": {
             "colorbar": {
              "outlinewidth": 0,
              "ticks": ""
             }
            },
            "type": "parcoords"
           }
          ],
          "pie": [
           {
            "automargin": true,
            "type": "pie"
           }
          ],
          "scatter": [
           {
            "fillpattern": {
             "fillmode": "overlay",
             "size": 10,
             "solidity": 0.2
            },
            "type": "scatter"
           }
          ],
          "scatter3d": [
           {
            "line": {
             "colorbar": {
              "outlinewidth": 0,
              "ticks": ""
             }
            },
            "marker": {
             "colorbar": {
              "outlinewidth": 0,
              "ticks": ""
             }
            },
            "type": "scatter3d"
           }
          ],
          "scattercarpet": [
           {
            "marker": {
             "colorbar": {
              "outlinewidth": 0,
              "ticks": ""
             }
            },
            "type": "scattercarpet"
           }
          ],
          "scattergeo": [
           {
            "marker": {
             "colorbar": {
              "outlinewidth": 0,
              "ticks": ""
             }
            },
            "type": "scattergeo"
           }
          ],
          "scattergl": [
           {
            "marker": {
             "colorbar": {
              "outlinewidth": 0,
              "ticks": ""
             }
            },
            "type": "scattergl"
           }
          ],
          "scattermapbox": [
           {
            "marker": {
             "colorbar": {
              "outlinewidth": 0,
              "ticks": ""
             }
            },
            "type": "scattermapbox"
           }
          ],
          "scatterpolar": [
           {
            "marker": {
             "colorbar": {
              "outlinewidth": 0,
              "ticks": ""
             }
            },
            "type": "scatterpolar"
           }
          ],
          "scatterpolargl": [
           {
            "marker": {
             "colorbar": {
              "outlinewidth": 0,
              "ticks": ""
             }
            },
            "type": "scatterpolargl"
           }
          ],
          "scatterternary": [
           {
            "marker": {
             "colorbar": {
              "outlinewidth": 0,
              "ticks": ""
             }
            },
            "type": "scatterternary"
           }
          ],
          "surface": [
           {
            "colorbar": {
             "outlinewidth": 0,
             "ticks": ""
            },
            "colorscale": [
             [
              0,
              "#0d0887"
             ],
             [
              0.1111111111111111,
              "#46039f"
             ],
             [
              0.2222222222222222,
              "#7201a8"
             ],
             [
              0.3333333333333333,
              "#9c179e"
             ],
             [
              0.4444444444444444,
              "#bd3786"
             ],
             [
              0.5555555555555556,
              "#d8576b"
             ],
             [
              0.6666666666666666,
              "#ed7953"
             ],
             [
              0.7777777777777778,
              "#fb9f3a"
             ],
             [
              0.8888888888888888,
              "#fdca26"
             ],
             [
              1,
              "#f0f921"
             ]
            ],
            "type": "surface"
           }
          ],
          "table": [
           {
            "cells": {
             "fill": {
              "color": "#EBF0F8"
             },
             "line": {
              "color": "white"
             }
            },
            "header": {
             "fill": {
              "color": "#C8D4E3"
             },
             "line": {
              "color": "white"
             }
            },
            "type": "table"
           }
          ]
         },
         "layout": {
          "annotationdefaults": {
           "arrowcolor": "#2a3f5f",
           "arrowhead": 0,
           "arrowwidth": 1
          },
          "autotypenumbers": "strict",
          "coloraxis": {
           "colorbar": {
            "outlinewidth": 0,
            "ticks": ""
           }
          },
          "colorscale": {
           "diverging": [
            [
             0,
             "#8e0152"
            ],
            [
             0.1,
             "#c51b7d"
            ],
            [
             0.2,
             "#de77ae"
            ],
            [
             0.3,
             "#f1b6da"
            ],
            [
             0.4,
             "#fde0ef"
            ],
            [
             0.5,
             "#f7f7f7"
            ],
            [
             0.6,
             "#e6f5d0"
            ],
            [
             0.7,
             "#b8e186"
            ],
            [
             0.8,
             "#7fbc41"
            ],
            [
             0.9,
             "#4d9221"
            ],
            [
             1,
             "#276419"
            ]
           ],
           "sequential": [
            [
             0,
             "#0d0887"
            ],
            [
             0.1111111111111111,
             "#46039f"
            ],
            [
             0.2222222222222222,
             "#7201a8"
            ],
            [
             0.3333333333333333,
             "#9c179e"
            ],
            [
             0.4444444444444444,
             "#bd3786"
            ],
            [
             0.5555555555555556,
             "#d8576b"
            ],
            [
             0.6666666666666666,
             "#ed7953"
            ],
            [
             0.7777777777777778,
             "#fb9f3a"
            ],
            [
             0.8888888888888888,
             "#fdca26"
            ],
            [
             1,
             "#f0f921"
            ]
           ],
           "sequentialminus": [
            [
             0,
             "#0d0887"
            ],
            [
             0.1111111111111111,
             "#46039f"
            ],
            [
             0.2222222222222222,
             "#7201a8"
            ],
            [
             0.3333333333333333,
             "#9c179e"
            ],
            [
             0.4444444444444444,
             "#bd3786"
            ],
            [
             0.5555555555555556,
             "#d8576b"
            ],
            [
             0.6666666666666666,
             "#ed7953"
            ],
            [
             0.7777777777777778,
             "#fb9f3a"
            ],
            [
             0.8888888888888888,
             "#fdca26"
            ],
            [
             1,
             "#f0f921"
            ]
           ]
          },
          "colorway": [
           "#636efa",
           "#EF553B",
           "#00cc96",
           "#ab63fa",
           "#FFA15A",
           "#19d3f3",
           "#FF6692",
           "#B6E880",
           "#FF97FF",
           "#FECB52"
          ],
          "font": {
           "color": "#2a3f5f"
          },
          "geo": {
           "bgcolor": "white",
           "lakecolor": "white",
           "landcolor": "#E5ECF6",
           "showlakes": true,
           "showland": true,
           "subunitcolor": "white"
          },
          "hoverlabel": {
           "align": "left"
          },
          "hovermode": "closest",
          "mapbox": {
           "style": "light"
          },
          "paper_bgcolor": "white",
          "plot_bgcolor": "#E5ECF6",
          "polar": {
           "angularaxis": {
            "gridcolor": "white",
            "linecolor": "white",
            "ticks": ""
           },
           "bgcolor": "#E5ECF6",
           "radialaxis": {
            "gridcolor": "white",
            "linecolor": "white",
            "ticks": ""
           }
          },
          "scene": {
           "xaxis": {
            "backgroundcolor": "#E5ECF6",
            "gridcolor": "white",
            "gridwidth": 2,
            "linecolor": "white",
            "showbackground": true,
            "ticks": "",
            "zerolinecolor": "white"
           },
           "yaxis": {
            "backgroundcolor": "#E5ECF6",
            "gridcolor": "white",
            "gridwidth": 2,
            "linecolor": "white",
            "showbackground": true,
            "ticks": "",
            "zerolinecolor": "white"
           },
           "zaxis": {
            "backgroundcolor": "#E5ECF6",
            "gridcolor": "white",
            "gridwidth": 2,
            "linecolor": "white",
            "showbackground": true,
            "ticks": "",
            "zerolinecolor": "white"
           }
          },
          "shapedefaults": {
           "line": {
            "color": "#2a3f5f"
           }
          },
          "ternary": {
           "aaxis": {
            "gridcolor": "white",
            "linecolor": "white",
            "ticks": ""
           },
           "baxis": {
            "gridcolor": "white",
            "linecolor": "white",
            "ticks": ""
           },
           "bgcolor": "#E5ECF6",
           "caxis": {
            "gridcolor": "white",
            "linecolor": "white",
            "ticks": ""
           }
          },
          "title": {
           "x": 0.05
          },
          "xaxis": {
           "automargin": true,
           "gridcolor": "white",
           "linecolor": "white",
           "ticks": "",
           "title": {
            "standoff": 15
           },
           "zerolinecolor": "white",
           "zerolinewidth": 2
          },
          "yaxis": {
           "automargin": true,
           "gridcolor": "white",
           "linecolor": "white",
           "ticks": "",
           "title": {
            "standoff": 15
           },
           "zerolinecolor": "white",
           "zerolinewidth": 2
          }
         }
        },
        "title": {
         "text": "Relative impact of different diet types on various environmental indicators"
        },
        "width": 800
       }
      }
     },
     "metadata": {},
     "output_type": "display_data"
    }
   ],
   "source": [
    "radar_data = impact_df.copy()\n",
    "relative_cols = [col for col in radar_data.columns if 'relative' in col]\n",
    "\n",
    "fig = go.Figure()\n",
    "\n",
    "indicators = [col.replace('_relative_impact', '') for col in relative_cols]\n",
    "\n",
    "for i, diet in enumerate(radar_data['diet_group']):\n",
    "    values = [radar_data.loc[i, f'{ind}_relative_impact'] for ind in indicators]\n",
    "    \n",
    "    values.append(values[0])\n",
    "    \n",
    "    fig.add_trace(go.Scatterpolar(\n",
    "        r=values,\n",
    "        theta=indicators + [indicators[0]],  \n",
    "        fill='toself',\n",
    "        name=diet\n",
    "    ))\n",
    "\n",
    "fig.update_layout(\n",
    "    polar=dict(\n",
    "        radialaxis=dict(\n",
    "            visible=True,\n",
    "            range=[0.9, max(impact_df[relative_cols].max()) * 1.1]  \n",
    "        ),\n",
    "        angularaxis=dict(\n",
    "            tickfont=dict(size=12)\n",
    "        )\n",
    "    ),\n",
    "    title=\"Relative impact of different diet types on various environmental indicators\",\n",
    "    showlegend=True,\n",
    "    legend=dict(\n",
    "        title=\"Diet Type\",\n",
    "        font=dict(size=12)\n",
    "    ),\n",
    "    height=700,\n",
    "    width=800\n",
    ")\n",
    "\n",
    "fig.write_html(\"diet_environmental_radar.html\")\n",
    "fig.show()"
   ]
  },
  {
   "cell_type": "markdown",
   "id": "631e4941",
   "metadata": {},
   "source": [
    "### Comprehensive analysis of multiple environmental indicators"
   ]
  },
  {
   "cell_type": "code",
   "execution_count": 14,
   "id": "20d4c220",
   "metadata": {},
   "outputs": [
    {
     "data": {
      "application/vnd.plotly.v1+json": {
       "config": {
        "plotlyServerURL": "https://plotly.com"
       },
       "data": [
        {
         "dimensions": [
          {
           "label": "total_env_impact",
           "values": [
            0.08677684188994797,
            0.13771278188170938,
            0.24167035199026599,
            0.09284635834629355,
            0.028368873976134534,
            0.07002045596643487
           ]
          },
          {
           "label": "ghgs",
           "values": [
            5.452488592039697,
            7.9371793365709475,
            13.624875999997846,
            5.766550343894482,
            2.5510446270756804,
            4.758030222149677
           ]
          },
          {
           "label": "land",
           "values": [
            7.319217658908899,
            13.692232765381108,
            28.558030488128676,
            8.607968830806566,
            4.433824901909414,
            6.921813613605436
           ]
          },
          {
           "label": "watscar",
           "values": [
            19709.243846116886,
            20485.83698383501,
            27061.571591555832,
            17878.29710720681,
            15083.835326698267,
            17347.13903109161
           ]
          },
          {
           "label": "eut",
           "values": [
            23.065932187088226,
            31.951859903153235,
            50.675962938221566,
            23.974645279213423,
            11.202767862061838,
            18.82100699840749
           ]
          },
          {
           "label": "ghgs_ch4",
           "values": [
            0.9162552991843351,
            1.5793299385269137,
            2.91091895356841,
            1.0836536206947491,
            0.14885622265591653,
            0.823429771158084
           ]
          },
          {
           "label": "ghgs_n2o",
           "values": [
            0.3591647716315001,
            0.5636900455096671,
            0.9987577493110789,
            0.39436149655200003,
            0.2140034898181661,
            0.32095822645124894
           ]
          },
          {
           "label": "bio",
           "values": [
            274.85750505639214,
            339.617911893034,
            507.34622461111843,
            274.59229900971724,
            122.01184664536693,
            267.5727129562118
           ]
          },
          {
           "label": "watuse",
           "values": [
            845.5949528909244,
            914.7691923732178,
            1172.1722059941656,
            782.3290006154053,
            443.4011564920365,
            600.4377755862162
           ]
          },
          {
           "label": "acid",
           "values": [
            25.515539673081552,
            35.72588374052073,
            55.7985172523657,
            27.016859808265814,
            11.281311318300698,
            22.770608825662453
           ]
          }
         ],
         "domain": {
          "x": [
           0,
           1
          ],
          "y": [
           0,
           1
          ]
         },
         "line": {
          "color": [
           0.08677684188994797,
           0.13771278188170938,
           0.24167035199026599,
           0.09284635834629355,
           0.028368873976134534,
           0.07002045596643487
          ],
          "coloraxis": "coloraxis"
         },
         "name": "",
         "type": "parcoords"
        }
       ],
       "layout": {
        "coloraxis": {
         "cmid": 0.10956594400846438,
         "colorbar": {
          "title": {
           "text": "Total environmental impact"
          }
         },
         "colorscale": [
          [
           0,
           "rgb(0, 147, 146)"
          ],
          [
           0.16666666666666666,
           "rgb(114, 170, 161)"
          ],
          [
           0.3333333333333333,
           "rgb(177, 199, 179)"
          ],
          [
           0.5,
           "rgb(241, 234, 200)"
          ],
          [
           0.6666666666666666,
           "rgb(229, 185, 173)"
          ],
          [
           0.8333333333333334,
           "rgb(217, 137, 148)"
          ],
          [
           1,
           "rgb(208, 88, 126)"
          ]
         ]
        },
        "font": {
         "size": 12
        },
        "height": 600,
        "legend": {
         "tracegroupgap": 0
        },
        "template": {
         "data": {
          "bar": [
           {
            "error_x": {
             "color": "#2a3f5f"
            },
            "error_y": {
             "color": "#2a3f5f"
            },
            "marker": {
             "line": {
              "color": "#E5ECF6",
              "width": 0.5
             },
             "pattern": {
              "fillmode": "overlay",
              "size": 10,
              "solidity": 0.2
             }
            },
            "type": "bar"
           }
          ],
          "barpolar": [
           {
            "marker": {
             "line": {
              "color": "#E5ECF6",
              "width": 0.5
             },
             "pattern": {
              "fillmode": "overlay",
              "size": 10,
              "solidity": 0.2
             }
            },
            "type": "barpolar"
           }
          ],
          "carpet": [
           {
            "aaxis": {
             "endlinecolor": "#2a3f5f",
             "gridcolor": "white",
             "linecolor": "white",
             "minorgridcolor": "white",
             "startlinecolor": "#2a3f5f"
            },
            "baxis": {
             "endlinecolor": "#2a3f5f",
             "gridcolor": "white",
             "linecolor": "white",
             "minorgridcolor": "white",
             "startlinecolor": "#2a3f5f"
            },
            "type": "carpet"
           }
          ],
          "choropleth": [
           {
            "colorbar": {
             "outlinewidth": 0,
             "ticks": ""
            },
            "type": "choropleth"
           }
          ],
          "contour": [
           {
            "colorbar": {
             "outlinewidth": 0,
             "ticks": ""
            },
            "colorscale": [
             [
              0,
              "#0d0887"
             ],
             [
              0.1111111111111111,
              "#46039f"
             ],
             [
              0.2222222222222222,
              "#7201a8"
             ],
             [
              0.3333333333333333,
              "#9c179e"
             ],
             [
              0.4444444444444444,
              "#bd3786"
             ],
             [
              0.5555555555555556,
              "#d8576b"
             ],
             [
              0.6666666666666666,
              "#ed7953"
             ],
             [
              0.7777777777777778,
              "#fb9f3a"
             ],
             [
              0.8888888888888888,
              "#fdca26"
             ],
             [
              1,
              "#f0f921"
             ]
            ],
            "type": "contour"
           }
          ],
          "contourcarpet": [
           {
            "colorbar": {
             "outlinewidth": 0,
             "ticks": ""
            },
            "type": "contourcarpet"
           }
          ],
          "heatmap": [
           {
            "colorbar": {
             "outlinewidth": 0,
             "ticks": ""
            },
            "colorscale": [
             [
              0,
              "#0d0887"
             ],
             [
              0.1111111111111111,
              "#46039f"
             ],
             [
              0.2222222222222222,
              "#7201a8"
             ],
             [
              0.3333333333333333,
              "#9c179e"
             ],
             [
              0.4444444444444444,
              "#bd3786"
             ],
             [
              0.5555555555555556,
              "#d8576b"
             ],
             [
              0.6666666666666666,
              "#ed7953"
             ],
             [
              0.7777777777777778,
              "#fb9f3a"
             ],
             [
              0.8888888888888888,
              "#fdca26"
             ],
             [
              1,
              "#f0f921"
             ]
            ],
            "type": "heatmap"
           }
          ],
          "heatmapgl": [
           {
            "colorbar": {
             "outlinewidth": 0,
             "ticks": ""
            },
            "colorscale": [
             [
              0,
              "#0d0887"
             ],
             [
              0.1111111111111111,
              "#46039f"
             ],
             [
              0.2222222222222222,
              "#7201a8"
             ],
             [
              0.3333333333333333,
              "#9c179e"
             ],
             [
              0.4444444444444444,
              "#bd3786"
             ],
             [
              0.5555555555555556,
              "#d8576b"
             ],
             [
              0.6666666666666666,
              "#ed7953"
             ],
             [
              0.7777777777777778,
              "#fb9f3a"
             ],
             [
              0.8888888888888888,
              "#fdca26"
             ],
             [
              1,
              "#f0f921"
             ]
            ],
            "type": "heatmapgl"
           }
          ],
          "histogram": [
           {
            "marker": {
             "pattern": {
              "fillmode": "overlay",
              "size": 10,
              "solidity": 0.2
             }
            },
            "type": "histogram"
           }
          ],
          "histogram2d": [
           {
            "colorbar": {
             "outlinewidth": 0,
             "ticks": ""
            },
            "colorscale": [
             [
              0,
              "#0d0887"
             ],
             [
              0.1111111111111111,
              "#46039f"
             ],
             [
              0.2222222222222222,
              "#7201a8"
             ],
             [
              0.3333333333333333,
              "#9c179e"
             ],
             [
              0.4444444444444444,
              "#bd3786"
             ],
             [
              0.5555555555555556,
              "#d8576b"
             ],
             [
              0.6666666666666666,
              "#ed7953"
             ],
             [
              0.7777777777777778,
              "#fb9f3a"
             ],
             [
              0.8888888888888888,
              "#fdca26"
             ],
             [
              1,
              "#f0f921"
             ]
            ],
            "type": "histogram2d"
           }
          ],
          "histogram2dcontour": [
           {
            "colorbar": {
             "outlinewidth": 0,
             "ticks": ""
            },
            "colorscale": [
             [
              0,
              "#0d0887"
             ],
             [
              0.1111111111111111,
              "#46039f"
             ],
             [
              0.2222222222222222,
              "#7201a8"
             ],
             [
              0.3333333333333333,
              "#9c179e"
             ],
             [
              0.4444444444444444,
              "#bd3786"
             ],
             [
              0.5555555555555556,
              "#d8576b"
             ],
             [
              0.6666666666666666,
              "#ed7953"
             ],
             [
              0.7777777777777778,
              "#fb9f3a"
             ],
             [
              0.8888888888888888,
              "#fdca26"
             ],
             [
              1,
              "#f0f921"
             ]
            ],
            "type": "histogram2dcontour"
           }
          ],
          "mesh3d": [
           {
            "colorbar": {
             "outlinewidth": 0,
             "ticks": ""
            },
            "type": "mesh3d"
           }
          ],
          "parcoords": [
           {
            "line": {
             "colorbar": {
              "outlinewidth": 0,
              "ticks": ""
             }
            },
            "type": "parcoords"
           }
          ],
          "pie": [
           {
            "automargin": true,
            "type": "pie"
           }
          ],
          "scatter": [
           {
            "fillpattern": {
             "fillmode": "overlay",
             "size": 10,
             "solidity": 0.2
            },
            "type": "scatter"
           }
          ],
          "scatter3d": [
           {
            "line": {
             "colorbar": {
              "outlinewidth": 0,
              "ticks": ""
             }
            },
            "marker": {
             "colorbar": {
              "outlinewidth": 0,
              "ticks": ""
             }
            },
            "type": "scatter3d"
           }
          ],
          "scattercarpet": [
           {
            "marker": {
             "colorbar": {
              "outlinewidth": 0,
              "ticks": ""
             }
            },
            "type": "scattercarpet"
           }
          ],
          "scattergeo": [
           {
            "marker": {
             "colorbar": {
              "outlinewidth": 0,
              "ticks": ""
             }
            },
            "type": "scattergeo"
           }
          ],
          "scattergl": [
           {
            "marker": {
             "colorbar": {
              "outlinewidth": 0,
              "ticks": ""
             }
            },
            "type": "scattergl"
           }
          ],
          "scattermapbox": [
           {
            "marker": {
             "colorbar": {
              "outlinewidth": 0,
              "ticks": ""
             }
            },
            "type": "scattermapbox"
           }
          ],
          "scatterpolar": [
           {
            "marker": {
             "colorbar": {
              "outlinewidth": 0,
              "ticks": ""
             }
            },
            "type": "scatterpolar"
           }
          ],
          "scatterpolargl": [
           {
            "marker": {
             "colorbar": {
              "outlinewidth": 0,
              "ticks": ""
             }
            },
            "type": "scatterpolargl"
           }
          ],
          "scatterternary": [
           {
            "marker": {
             "colorbar": {
              "outlinewidth": 0,
              "ticks": ""
             }
            },
            "type": "scatterternary"
           }
          ],
          "surface": [
           {
            "colorbar": {
             "outlinewidth": 0,
             "ticks": ""
            },
            "colorscale": [
             [
              0,
              "#0d0887"
             ],
             [
              0.1111111111111111,
              "#46039f"
             ],
             [
              0.2222222222222222,
              "#7201a8"
             ],
             [
              0.3333333333333333,
              "#9c179e"
             ],
             [
              0.4444444444444444,
              "#bd3786"
             ],
             [
              0.5555555555555556,
              "#d8576b"
             ],
             [
              0.6666666666666666,
              "#ed7953"
             ],
             [
              0.7777777777777778,
              "#fb9f3a"
             ],
             [
              0.8888888888888888,
              "#fdca26"
             ],
             [
              1,
              "#f0f921"
             ]
            ],
            "type": "surface"
           }
          ],
          "table": [
           {
            "cells": {
             "fill": {
              "color": "#EBF0F8"
             },
             "line": {
              "color": "white"
             }
            },
            "header": {
             "fill": {
              "color": "#C8D4E3"
             },
             "line": {
              "color": "white"
             }
            },
            "type": "table"
           }
          ]
         },
         "layout": {
          "annotationdefaults": {
           "arrowcolor": "#2a3f5f",
           "arrowhead": 0,
           "arrowwidth": 1
          },
          "autotypenumbers": "strict",
          "coloraxis": {
           "colorbar": {
            "outlinewidth": 0,
            "ticks": ""
           }
          },
          "colorscale": {
           "diverging": [
            [
             0,
             "#8e0152"
            ],
            [
             0.1,
             "#c51b7d"
            ],
            [
             0.2,
             "#de77ae"
            ],
            [
             0.3,
             "#f1b6da"
            ],
            [
             0.4,
             "#fde0ef"
            ],
            [
             0.5,
             "#f7f7f7"
            ],
            [
             0.6,
             "#e6f5d0"
            ],
            [
             0.7,
             "#b8e186"
            ],
            [
             0.8,
             "#7fbc41"
            ],
            [
             0.9,
             "#4d9221"
            ],
            [
             1,
             "#276419"
            ]
           ],
           "sequential": [
            [
             0,
             "#0d0887"
            ],
            [
             0.1111111111111111,
             "#46039f"
            ],
            [
             0.2222222222222222,
             "#7201a8"
            ],
            [
             0.3333333333333333,
             "#9c179e"
            ],
            [
             0.4444444444444444,
             "#bd3786"
            ],
            [
             0.5555555555555556,
             "#d8576b"
            ],
            [
             0.6666666666666666,
             "#ed7953"
            ],
            [
             0.7777777777777778,
             "#fb9f3a"
            ],
            [
             0.8888888888888888,
             "#fdca26"
            ],
            [
             1,
             "#f0f921"
            ]
           ],
           "sequentialminus": [
            [
             0,
             "#0d0887"
            ],
            [
             0.1111111111111111,
             "#46039f"
            ],
            [
             0.2222222222222222,
             "#7201a8"
            ],
            [
             0.3333333333333333,
             "#9c179e"
            ],
            [
             0.4444444444444444,
             "#bd3786"
            ],
            [
             0.5555555555555556,
             "#d8576b"
            ],
            [
             0.6666666666666666,
             "#ed7953"
            ],
            [
             0.7777777777777778,
             "#fb9f3a"
            ],
            [
             0.8888888888888888,
             "#fdca26"
            ],
            [
             1,
             "#f0f921"
            ]
           ]
          },
          "colorway": [
           "#636efa",
           "#EF553B",
           "#00cc96",
           "#ab63fa",
           "#FFA15A",
           "#19d3f3",
           "#FF6692",
           "#B6E880",
           "#FF97FF",
           "#FECB52"
          ],
          "font": {
           "color": "#2a3f5f"
          },
          "geo": {
           "bgcolor": "white",
           "lakecolor": "white",
           "landcolor": "#E5ECF6",
           "showlakes": true,
           "showland": true,
           "subunitcolor": "white"
          },
          "hoverlabel": {
           "align": "left"
          },
          "hovermode": "closest",
          "mapbox": {
           "style": "light"
          },
          "paper_bgcolor": "white",
          "plot_bgcolor": "#E5ECF6",
          "polar": {
           "angularaxis": {
            "gridcolor": "white",
            "linecolor": "white",
            "ticks": ""
           },
           "bgcolor": "#E5ECF6",
           "radialaxis": {
            "gridcolor": "white",
            "linecolor": "white",
            "ticks": ""
           }
          },
          "scene": {
           "xaxis": {
            "backgroundcolor": "#E5ECF6",
            "gridcolor": "white",
            "gridwidth": 2,
            "linecolor": "white",
            "showbackground": true,
            "ticks": "",
            "zerolinecolor": "white"
           },
           "yaxis": {
            "backgroundcolor": "#E5ECF6",
            "gridcolor": "white",
            "gridwidth": 2,
            "linecolor": "white",
            "showbackground": true,
            "ticks": "",
            "zerolinecolor": "white"
           },
           "zaxis": {
            "backgroundcolor": "#E5ECF6",
            "gridcolor": "white",
            "gridwidth": 2,
            "linecolor": "white",
            "showbackground": true,
            "ticks": "",
            "zerolinecolor": "white"
           }
          },
          "shapedefaults": {
           "line": {
            "color": "#2a3f5f"
           }
          },
          "ternary": {
           "aaxis": {
            "gridcolor": "white",
            "linecolor": "white",
            "ticks": ""
           },
           "baxis": {
            "gridcolor": "white",
            "linecolor": "white",
            "ticks": ""
           },
           "bgcolor": "#E5ECF6",
           "caxis": {
            "gridcolor": "white",
            "linecolor": "white",
            "ticks": ""
           }
          },
          "title": {
           "x": 0.05
          },
          "xaxis": {
           "automargin": true,
           "gridcolor": "white",
           "linecolor": "white",
           "ticks": "",
           "title": {
            "standoff": 15
           },
           "zerolinecolor": "white",
           "zerolinewidth": 2
          },
          "yaxis": {
           "automargin": true,
           "gridcolor": "white",
           "linecolor": "white",
           "ticks": "",
           "title": {
            "standoff": 15
           },
           "zerolinecolor": "white",
           "zerolinewidth": 2
          }
         }
        },
        "title": {
         "text": "Comparison of environmental impact indicators of different diet types"
        },
        "width": 1000
       }
      }
     },
     "metadata": {},
     "output_type": "display_data"
    }
   ],
   "source": [
    "parallel_data = diet_impact.copy()\n",
    "\n",
    "display_cols = ['diet_group', 'total_env_impact']\n",
    "display_cols.extend([f'mean_{ind}' for ind in env_indicators])\n",
    "\n",
    "fig = px.parallel_coordinates(\n",
    "    parallel_data,\n",
    "    color=\"total_env_impact\",\n",
    "    dimensions=display_cols,\n",
    "    color_continuous_scale=px.colors.diverging.Tealrose,\n",
    "    color_continuous_midpoint=parallel_data['total_env_impact'].mean(),\n",
    "    labels={col: col.replace('mean_', '') for col in display_cols if col.startswith('mean_')},\n",
    "    title=\"Comparison of environmental impact indicators of different diet types\"\n",
    ")\n",
    "\n",
    "fig.update_layout(\n",
    "    font=dict(size=12),\n",
    "    height=600,\n",
    "    width=1000,\n",
    "    coloraxis_colorbar=dict(title=\"Total environmental impact\")\n",
    ")\n",
    "\n",
    "fig.write_html(\"diet_environmental_parallel.html\")\n",
    "fig.show()"
   ]
  },
  {
   "cell_type": "markdown",
   "id": "21becae1",
   "metadata": {},
   "source": [
    "### Relationships between environmental indicators"
   ]
  },
  {
   "cell_type": "code",
   "execution_count": 15,
   "id": "217e066f",
   "metadata": {},
   "outputs": [
    {
     "data": {
      "application/vnd.plotly.v1+json": {
       "config": {
        "plotlyServerURL": "https://plotly.com"
       },
       "data": [
        {
         "diagonal": {
          "visible": false
         },
         "dimensions": [
          {
           "axis": {
            "matches": true
           },
           "label": "ghgs",
           "values": [
            5.452488592039697
           ]
          },
          {
           "axis": {
            "matches": true
           },
           "label": "land",
           "values": [
            7.319217658908899
           ]
          },
          {
           "axis": {
            "matches": true
           },
           "label": "watscar",
           "values": [
            19709.243846116886
           ]
          },
          {
           "axis": {
            "matches": true
           },
           "label": "eut",
           "values": [
            23.065932187088226
           ]
          },
          {
           "axis": {
            "matches": true
           },
           "label": "ghgs_ch4",
           "values": [
            0.9162552991843351
           ]
          },
          {
           "axis": {
            "matches": true
           },
           "label": "ghgs_n2o",
           "values": [
            0.3591647716315001
           ]
          },
          {
           "axis": {
            "matches": true
           },
           "label": "bio",
           "values": [
            274.85750505639214
           ]
          },
          {
           "axis": {
            "matches": true
           },
           "label": "watuse",
           "values": [
            845.5949528909244
           ]
          },
          {
           "axis": {
            "matches": true
           },
           "label": "acid",
           "values": [
            25.515539673081552
           ]
          }
         ],
         "hovertemplate": "diet_group=fish<br>%{xaxis.title.text}=%{x}<br>%{yaxis.title.text}=%{y}<extra></extra>",
         "legendgroup": "fish",
         "marker": {
          "color": "#636efa",
          "opacity": 0.7,
          "size": 6,
          "symbol": "circle"
         },
         "name": "fish",
         "showlegend": true,
         "showupperhalf": false,
         "type": "splom"
        },
        {
         "diagonal": {
          "visible": false
         },
         "dimensions": [
          {
           "axis": {
            "matches": true
           },
           "label": "ghgs",
           "values": [
            7.9371793365709475
           ]
          },
          {
           "axis": {
            "matches": true
           },
           "label": "land",
           "values": [
            13.692232765381108
           ]
          },
          {
           "axis": {
            "matches": true
           },
           "label": "watscar",
           "values": [
            20485.83698383501
           ]
          },
          {
           "axis": {
            "matches": true
           },
           "label": "eut",
           "values": [
            31.951859903153235
           ]
          },
          {
           "axis": {
            "matches": true
           },
           "label": "ghgs_ch4",
           "values": [
            1.5793299385269137
           ]
          },
          {
           "axis": {
            "matches": true
           },
           "label": "ghgs_n2o",
           "values": [
            0.5636900455096671
           ]
          },
          {
           "axis": {
            "matches": true
           },
           "label": "bio",
           "values": [
            339.617911893034
           ]
          },
          {
           "axis": {
            "matches": true
           },
           "label": "watuse",
           "values": [
            914.7691923732178
           ]
          },
          {
           "axis": {
            "matches": true
           },
           "label": "acid",
           "values": [
            35.72588374052073
           ]
          }
         ],
         "hovertemplate": "diet_group=meat<br>%{xaxis.title.text}=%{x}<br>%{yaxis.title.text}=%{y}<extra></extra>",
         "legendgroup": "meat",
         "marker": {
          "color": "#EF553B",
          "opacity": 0.7,
          "size": 6,
          "symbol": "circle"
         },
         "name": "meat",
         "showlegend": true,
         "showupperhalf": false,
         "type": "splom"
        },
        {
         "diagonal": {
          "visible": false
         },
         "dimensions": [
          {
           "axis": {
            "matches": true
           },
           "label": "ghgs",
           "values": [
            13.624875999997846
           ]
          },
          {
           "axis": {
            "matches": true
           },
           "label": "land",
           "values": [
            28.558030488128676
           ]
          },
          {
           "axis": {
            "matches": true
           },
           "label": "watscar",
           "values": [
            27061.571591555832
           ]
          },
          {
           "axis": {
            "matches": true
           },
           "label": "eut",
           "values": [
            50.675962938221566
           ]
          },
          {
           "axis": {
            "matches": true
           },
           "label": "ghgs_ch4",
           "values": [
            2.91091895356841
           ]
          },
          {
           "axis": {
            "matches": true
           },
           "label": "ghgs_n2o",
           "values": [
            0.9987577493110789
           ]
          },
          {
           "axis": {
            "matches": true
           },
           "label": "bio",
           "values": [
            507.34622461111843
           ]
          },
          {
           "axis": {
            "matches": true
           },
           "label": "watuse",
           "values": [
            1172.1722059941656
           ]
          },
          {
           "axis": {
            "matches": true
           },
           "label": "acid",
           "values": [
            55.7985172523657
           ]
          }
         ],
         "hovertemplate": "diet_group=meat100<br>%{xaxis.title.text}=%{x}<br>%{yaxis.title.text}=%{y}<extra></extra>",
         "legendgroup": "meat100",
         "marker": {
          "color": "#00cc96",
          "opacity": 0.7,
          "size": 6,
          "symbol": "circle"
         },
         "name": "meat100",
         "showlegend": true,
         "showupperhalf": false,
         "type": "splom"
        },
        {
         "diagonal": {
          "visible": false
         },
         "dimensions": [
          {
           "axis": {
            "matches": true
           },
           "label": "ghgs",
           "values": [
            5.766550343894482
           ]
          },
          {
           "axis": {
            "matches": true
           },
           "label": "land",
           "values": [
            8.607968830806566
           ]
          },
          {
           "axis": {
            "matches": true
           },
           "label": "watscar",
           "values": [
            17878.29710720681
           ]
          },
          {
           "axis": {
            "matches": true
           },
           "label": "eut",
           "values": [
            23.974645279213423
           ]
          },
          {
           "axis": {
            "matches": true
           },
           "label": "ghgs_ch4",
           "values": [
            1.0836536206947491
           ]
          },
          {
           "axis": {
            "matches": true
           },
           "label": "ghgs_n2o",
           "values": [
            0.39436149655200003
           ]
          },
          {
           "axis": {
            "matches": true
           },
           "label": "bio",
           "values": [
            274.59229900971724
           ]
          },
          {
           "axis": {
            "matches": true
           },
           "label": "watuse",
           "values": [
            782.3290006154053
           ]
          },
          {
           "axis": {
            "matches": true
           },
           "label": "acid",
           "values": [
            27.016859808265814
           ]
          }
         ],
         "hovertemplate": "diet_group=meat50<br>%{xaxis.title.text}=%{x}<br>%{yaxis.title.text}=%{y}<extra></extra>",
         "legendgroup": "meat50",
         "marker": {
          "color": "#ab63fa",
          "opacity": 0.7,
          "size": 6,
          "symbol": "circle"
         },
         "name": "meat50",
         "showlegend": true,
         "showupperhalf": false,
         "type": "splom"
        },
        {
         "diagonal": {
          "visible": false
         },
         "dimensions": [
          {
           "axis": {
            "matches": true
           },
           "label": "ghgs",
           "values": [
            2.5510446270756804
           ]
          },
          {
           "axis": {
            "matches": true
           },
           "label": "land",
           "values": [
            4.433824901909414
           ]
          },
          {
           "axis": {
            "matches": true
           },
           "label": "watscar",
           "values": [
            15083.835326698267
           ]
          },
          {
           "axis": {
            "matches": true
           },
           "label": "eut",
           "values": [
            11.202767862061838
           ]
          },
          {
           "axis": {
            "matches": true
           },
           "label": "ghgs_ch4",
           "values": [
            0.14885622265591653
           ]
          },
          {
           "axis": {
            "matches": true
           },
           "label": "ghgs_n2o",
           "values": [
            0.2140034898181661
           ]
          },
          {
           "axis": {
            "matches": true
           },
           "label": "bio",
           "values": [
            122.01184664536693
           ]
          },
          {
           "axis": {
            "matches": true
           },
           "label": "watuse",
           "values": [
            443.4011564920365
           ]
          },
          {
           "axis": {
            "matches": true
           },
           "label": "acid",
           "values": [
            11.281311318300698
           ]
          }
         ],
         "hovertemplate": "diet_group=vegan<br>%{xaxis.title.text}=%{x}<br>%{yaxis.title.text}=%{y}<extra></extra>",
         "legendgroup": "vegan",
         "marker": {
          "color": "#FFA15A",
          "opacity": 0.7,
          "size": 6,
          "symbol": "circle"
         },
         "name": "vegan",
         "showlegend": true,
         "showupperhalf": false,
         "type": "splom"
        },
        {
         "diagonal": {
          "visible": false
         },
         "dimensions": [
          {
           "axis": {
            "matches": true
           },
           "label": "ghgs",
           "values": [
            4.758030222149677
           ]
          },
          {
           "axis": {
            "matches": true
           },
           "label": "land",
           "values": [
            6.921813613605436
           ]
          },
          {
           "axis": {
            "matches": true
           },
           "label": "watscar",
           "values": [
            17347.13903109161
           ]
          },
          {
           "axis": {
            "matches": true
           },
           "label": "eut",
           "values": [
            18.82100699840749
           ]
          },
          {
           "axis": {
            "matches": true
           },
           "label": "ghgs_ch4",
           "values": [
            0.823429771158084
           ]
          },
          {
           "axis": {
            "matches": true
           },
           "label": "ghgs_n2o",
           "values": [
            0.32095822645124894
           ]
          },
          {
           "axis": {
            "matches": true
           },
           "label": "bio",
           "values": [
            267.5727129562118
           ]
          },
          {
           "axis": {
            "matches": true
           },
           "label": "watuse",
           "values": [
            600.4377755862162
           ]
          },
          {
           "axis": {
            "matches": true
           },
           "label": "acid",
           "values": [
            22.770608825662453
           ]
          }
         ],
         "hovertemplate": "diet_group=veggie<br>%{xaxis.title.text}=%{x}<br>%{yaxis.title.text}=%{y}<extra></extra>",
         "legendgroup": "veggie",
         "marker": {
          "color": "#19d3f3",
          "opacity": 0.7,
          "size": 6,
          "symbol": "circle"
         },
         "name": "veggie",
         "showlegend": true,
         "showupperhalf": false,
         "type": "splom"
        }
       ],
       "layout": {
        "dragmode": "select",
        "font": {
         "size": 10
        },
        "height": 900,
        "legend": {
         "title": {
          "text": "diet_group"
         },
         "tracegroupgap": 0
        },
        "template": {
         "data": {
          "bar": [
           {
            "error_x": {
             "color": "#2a3f5f"
            },
            "error_y": {
             "color": "#2a3f5f"
            },
            "marker": {
             "line": {
              "color": "#E5ECF6",
              "width": 0.5
             },
             "pattern": {
              "fillmode": "overlay",
              "size": 10,
              "solidity": 0.2
             }
            },
            "type": "bar"
           }
          ],
          "barpolar": [
           {
            "marker": {
             "line": {
              "color": "#E5ECF6",
              "width": 0.5
             },
             "pattern": {
              "fillmode": "overlay",
              "size": 10,
              "solidity": 0.2
             }
            },
            "type": "barpolar"
           }
          ],
          "carpet": [
           {
            "aaxis": {
             "endlinecolor": "#2a3f5f",
             "gridcolor": "white",
             "linecolor": "white",
             "minorgridcolor": "white",
             "startlinecolor": "#2a3f5f"
            },
            "baxis": {
             "endlinecolor": "#2a3f5f",
             "gridcolor": "white",
             "linecolor": "white",
             "minorgridcolor": "white",
             "startlinecolor": "#2a3f5f"
            },
            "type": "carpet"
           }
          ],
          "choropleth": [
           {
            "colorbar": {
             "outlinewidth": 0,
             "ticks": ""
            },
            "type": "choropleth"
           }
          ],
          "contour": [
           {
            "colorbar": {
             "outlinewidth": 0,
             "ticks": ""
            },
            "colorscale": [
             [
              0,
              "#0d0887"
             ],
             [
              0.1111111111111111,
              "#46039f"
             ],
             [
              0.2222222222222222,
              "#7201a8"
             ],
             [
              0.3333333333333333,
              "#9c179e"
             ],
             [
              0.4444444444444444,
              "#bd3786"
             ],
             [
              0.5555555555555556,
              "#d8576b"
             ],
             [
              0.6666666666666666,
              "#ed7953"
             ],
             [
              0.7777777777777778,
              "#fb9f3a"
             ],
             [
              0.8888888888888888,
              "#fdca26"
             ],
             [
              1,
              "#f0f921"
             ]
            ],
            "type": "contour"
           }
          ],
          "contourcarpet": [
           {
            "colorbar": {
             "outlinewidth": 0,
             "ticks": ""
            },
            "type": "contourcarpet"
           }
          ],
          "heatmap": [
           {
            "colorbar": {
             "outlinewidth": 0,
             "ticks": ""
            },
            "colorscale": [
             [
              0,
              "#0d0887"
             ],
             [
              0.1111111111111111,
              "#46039f"
             ],
             [
              0.2222222222222222,
              "#7201a8"
             ],
             [
              0.3333333333333333,
              "#9c179e"
             ],
             [
              0.4444444444444444,
              "#bd3786"
             ],
             [
              0.5555555555555556,
              "#d8576b"
             ],
             [
              0.6666666666666666,
              "#ed7953"
             ],
             [
              0.7777777777777778,
              "#fb9f3a"
             ],
             [
              0.8888888888888888,
              "#fdca26"
             ],
             [
              1,
              "#f0f921"
             ]
            ],
            "type": "heatmap"
           }
          ],
          "heatmapgl": [
           {
            "colorbar": {
             "outlinewidth": 0,
             "ticks": ""
            },
            "colorscale": [
             [
              0,
              "#0d0887"
             ],
             [
              0.1111111111111111,
              "#46039f"
             ],
             [
              0.2222222222222222,
              "#7201a8"
             ],
             [
              0.3333333333333333,
              "#9c179e"
             ],
             [
              0.4444444444444444,
              "#bd3786"
             ],
             [
              0.5555555555555556,
              "#d8576b"
             ],
             [
              0.6666666666666666,
              "#ed7953"
             ],
             [
              0.7777777777777778,
              "#fb9f3a"
             ],
             [
              0.8888888888888888,
              "#fdca26"
             ],
             [
              1,
              "#f0f921"
             ]
            ],
            "type": "heatmapgl"
           }
          ],
          "histogram": [
           {
            "marker": {
             "pattern": {
              "fillmode": "overlay",
              "size": 10,
              "solidity": 0.2
             }
            },
            "type": "histogram"
           }
          ],
          "histogram2d": [
           {
            "colorbar": {
             "outlinewidth": 0,
             "ticks": ""
            },
            "colorscale": [
             [
              0,
              "#0d0887"
             ],
             [
              0.1111111111111111,
              "#46039f"
             ],
             [
              0.2222222222222222,
              "#7201a8"
             ],
             [
              0.3333333333333333,
              "#9c179e"
             ],
             [
              0.4444444444444444,
              "#bd3786"
             ],
             [
              0.5555555555555556,
              "#d8576b"
             ],
             [
              0.6666666666666666,
              "#ed7953"
             ],
             [
              0.7777777777777778,
              "#fb9f3a"
             ],
             [
              0.8888888888888888,
              "#fdca26"
             ],
             [
              1,
              "#f0f921"
             ]
            ],
            "type": "histogram2d"
           }
          ],
          "histogram2dcontour": [
           {
            "colorbar": {
             "outlinewidth": 0,
             "ticks": ""
            },
            "colorscale": [
             [
              0,
              "#0d0887"
             ],
             [
              0.1111111111111111,
              "#46039f"
             ],
             [
              0.2222222222222222,
              "#7201a8"
             ],
             [
              0.3333333333333333,
              "#9c179e"
             ],
             [
              0.4444444444444444,
              "#bd3786"
             ],
             [
              0.5555555555555556,
              "#d8576b"
             ],
             [
              0.6666666666666666,
              "#ed7953"
             ],
             [
              0.7777777777777778,
              "#fb9f3a"
             ],
             [
              0.8888888888888888,
              "#fdca26"
             ],
             [
              1,
              "#f0f921"
             ]
            ],
            "type": "histogram2dcontour"
           }
          ],
          "mesh3d": [
           {
            "colorbar": {
             "outlinewidth": 0,
             "ticks": ""
            },
            "type": "mesh3d"
           }
          ],
          "parcoords": [
           {
            "line": {
             "colorbar": {
              "outlinewidth": 0,
              "ticks": ""
             }
            },
            "type": "parcoords"
           }
          ],
          "pie": [
           {
            "automargin": true,
            "type": "pie"
           }
          ],
          "scatter": [
           {
            "fillpattern": {
             "fillmode": "overlay",
             "size": 10,
             "solidity": 0.2
            },
            "type": "scatter"
           }
          ],
          "scatter3d": [
           {
            "line": {
             "colorbar": {
              "outlinewidth": 0,
              "ticks": ""
             }
            },
            "marker": {
             "colorbar": {
              "outlinewidth": 0,
              "ticks": ""
             }
            },
            "type": "scatter3d"
           }
          ],
          "scattercarpet": [
           {
            "marker": {
             "colorbar": {
              "outlinewidth": 0,
              "ticks": ""
             }
            },
            "type": "scattercarpet"
           }
          ],
          "scattergeo": [
           {
            "marker": {
             "colorbar": {
              "outlinewidth": 0,
              "ticks": ""
             }
            },
            "type": "scattergeo"
           }
          ],
          "scattergl": [
           {
            "marker": {
             "colorbar": {
              "outlinewidth": 0,
              "ticks": ""
             }
            },
            "type": "scattergl"
           }
          ],
          "scattermapbox": [
           {
            "marker": {
             "colorbar": {
              "outlinewidth": 0,
              "ticks": ""
             }
            },
            "type": "scattermapbox"
           }
          ],
          "scatterpolar": [
           {
            "marker": {
             "colorbar": {
              "outlinewidth": 0,
              "ticks": ""
             }
            },
            "type": "scatterpolar"
           }
          ],
          "scatterpolargl": [
           {
            "marker": {
             "colorbar": {
              "outlinewidth": 0,
              "ticks": ""
             }
            },
            "type": "scatterpolargl"
           }
          ],
          "scatterternary": [
           {
            "marker": {
             "colorbar": {
              "outlinewidth": 0,
              "ticks": ""
             }
            },
            "type": "scatterternary"
           }
          ],
          "surface": [
           {
            "colorbar": {
             "outlinewidth": 0,
             "ticks": ""
            },
            "colorscale": [
             [
              0,
              "#0d0887"
             ],
             [
              0.1111111111111111,
              "#46039f"
             ],
             [
              0.2222222222222222,
              "#7201a8"
             ],
             [
              0.3333333333333333,
              "#9c179e"
             ],
             [
              0.4444444444444444,
              "#bd3786"
             ],
             [
              0.5555555555555556,
              "#d8576b"
             ],
             [
              0.6666666666666666,
              "#ed7953"
             ],
             [
              0.7777777777777778,
              "#fb9f3a"
             ],
             [
              0.8888888888888888,
              "#fdca26"
             ],
             [
              1,
              "#f0f921"
             ]
            ],
            "type": "surface"
           }
          ],
          "table": [
           {
            "cells": {
             "fill": {
              "color": "#EBF0F8"
             },
             "line": {
              "color": "white"
             }
            },
            "header": {
             "fill": {
              "color": "#C8D4E3"
             },
             "line": {
              "color": "white"
             }
            },
            "type": "table"
           }
          ]
         },
         "layout": {
          "annotationdefaults": {
           "arrowcolor": "#2a3f5f",
           "arrowhead": 0,
           "arrowwidth": 1
          },
          "autotypenumbers": "strict",
          "coloraxis": {
           "colorbar": {
            "outlinewidth": 0,
            "ticks": ""
           }
          },
          "colorscale": {
           "diverging": [
            [
             0,
             "#8e0152"
            ],
            [
             0.1,
             "#c51b7d"
            ],
            [
             0.2,
             "#de77ae"
            ],
            [
             0.3,
             "#f1b6da"
            ],
            [
             0.4,
             "#fde0ef"
            ],
            [
             0.5,
             "#f7f7f7"
            ],
            [
             0.6,
             "#e6f5d0"
            ],
            [
             0.7,
             "#b8e186"
            ],
            [
             0.8,
             "#7fbc41"
            ],
            [
             0.9,
             "#4d9221"
            ],
            [
             1,
             "#276419"
            ]
           ],
           "sequential": [
            [
             0,
             "#0d0887"
            ],
            [
             0.1111111111111111,
             "#46039f"
            ],
            [
             0.2222222222222222,
             "#7201a8"
            ],
            [
             0.3333333333333333,
             "#9c179e"
            ],
            [
             0.4444444444444444,
             "#bd3786"
            ],
            [
             0.5555555555555556,
             "#d8576b"
            ],
            [
             0.6666666666666666,
             "#ed7953"
            ],
            [
             0.7777777777777778,
             "#fb9f3a"
            ],
            [
             0.8888888888888888,
             "#fdca26"
            ],
            [
             1,
             "#f0f921"
            ]
           ],
           "sequentialminus": [
            [
             0,
             "#0d0887"
            ],
            [
             0.1111111111111111,
             "#46039f"
            ],
            [
             0.2222222222222222,
             "#7201a8"
            ],
            [
             0.3333333333333333,
             "#9c179e"
            ],
            [
             0.4444444444444444,
             "#bd3786"
            ],
            [
             0.5555555555555556,
             "#d8576b"
            ],
            [
             0.6666666666666666,
             "#ed7953"
            ],
            [
             0.7777777777777778,
             "#fb9f3a"
            ],
            [
             0.8888888888888888,
             "#fdca26"
            ],
            [
             1,
             "#f0f921"
            ]
           ]
          },
          "colorway": [
           "#636efa",
           "#EF553B",
           "#00cc96",
           "#ab63fa",
           "#FFA15A",
           "#19d3f3",
           "#FF6692",
           "#B6E880",
           "#FF97FF",
           "#FECB52"
          ],
          "font": {
           "color": "#2a3f5f"
          },
          "geo": {
           "bgcolor": "white",
           "lakecolor": "white",
           "landcolor": "#E5ECF6",
           "showlakes": true,
           "showland": true,
           "subunitcolor": "white"
          },
          "hoverlabel": {
           "align": "left"
          },
          "hovermode": "closest",
          "mapbox": {
           "style": "light"
          },
          "paper_bgcolor": "white",
          "plot_bgcolor": "#E5ECF6",
          "polar": {
           "angularaxis": {
            "gridcolor": "white",
            "linecolor": "white",
            "ticks": ""
           },
           "bgcolor": "#E5ECF6",
           "radialaxis": {
            "gridcolor": "white",
            "linecolor": "white",
            "ticks": ""
           }
          },
          "scene": {
           "xaxis": {
            "backgroundcolor": "#E5ECF6",
            "gridcolor": "white",
            "gridwidth": 2,
            "linecolor": "white",
            "showbackground": true,
            "ticks": "",
            "zerolinecolor": "white"
           },
           "yaxis": {
            "backgroundcolor": "#E5ECF6",
            "gridcolor": "white",
            "gridwidth": 2,
            "linecolor": "white",
            "showbackground": true,
            "ticks": "",
            "zerolinecolor": "white"
           },
           "zaxis": {
            "backgroundcolor": "#E5ECF6",
            "gridcolor": "white",
            "gridwidth": 2,
            "linecolor": "white",
            "showbackground": true,
            "ticks": "",
            "zerolinecolor": "white"
           }
          },
          "shapedefaults": {
           "line": {
            "color": "#2a3f5f"
           }
          },
          "ternary": {
           "aaxis": {
            "gridcolor": "white",
            "linecolor": "white",
            "ticks": ""
           },
           "baxis": {
            "gridcolor": "white",
            "linecolor": "white",
            "ticks": ""
           },
           "bgcolor": "#E5ECF6",
           "caxis": {
            "gridcolor": "white",
            "linecolor": "white",
            "ticks": ""
           }
          },
          "title": {
           "x": 0.05
          },
          "xaxis": {
           "automargin": true,
           "gridcolor": "white",
           "linecolor": "white",
           "ticks": "",
           "title": {
            "standoff": 15
           },
           "zerolinecolor": "white",
           "zerolinewidth": 2
          },
          "yaxis": {
           "automargin": true,
           "gridcolor": "white",
           "linecolor": "white",
           "ticks": "",
           "title": {
            "standoff": 15
           },
           "zerolinecolor": "white",
           "zerolinewidth": 2
          }
         }
        },
        "title": {
         "font": {
          "size": 16
         },
         "text": "Scatter plot matrix of relationships between environmental indicators"
        },
        "width": 900
       }
      }
     },
     "metadata": {},
     "output_type": "display_data"
    }
   ],
   "source": [
    "scatter_matrix_data = diet_impact[['diet_group'] + [f'mean_{ind}' for ind in env_indicators]]\n",
    "scatter_matrix_data.columns = ['diet_group'] + env_indicators  \n",
    "\n",
    "fig = px.scatter_matrix(\n",
    "    scatter_matrix_data,\n",
    "    dimensions=env_indicators,\n",
    "    color=\"diet_group\",\n",
    "    title=\"Scatter plot matrix of relationships between environmental indicators\",\n",
    "    labels={col: col for col in env_indicators} \n",
    ")\n",
    "\n",
    "fig.update_traces(\n",
    "    diagonal_visible=False,  \n",
    "    showupperhalf=False,    \n",
    "    marker=dict(size=6, opacity=0.7)\n",
    ")\n",
    "\n",
    "fig.update_layout(\n",
    "    height=900,\n",
    "    width=900,\n",
    "    title_font=dict(size=16),\n",
    "    font=dict(size=10)\n",
    ")\n",
    "\n",
    "fig.write_html(\"environmental_scatter_matrix.html\")\n",
    "fig.show()"
   ]
  },
  {
   "cell_type": "markdown",
   "id": "ca9eee97",
   "metadata": {},
   "source": [
    "### Environmental impact composition of each diet type"
   ]
  },
  {
   "cell_type": "code",
   "execution_count": 17,
   "id": "6cd93965",
   "metadata": {},
   "outputs": [
    {
     "data": {
      "application/vnd.plotly.v1+json": {
       "config": {
        "plotlyServerURL": "https://plotly.com"
       },
       "data": [
        {
         "alignmentgroup": "True",
         "hovertemplate": "Diet Type: %{x}<br>Contribution ratio: %{y:.2%}<extra></extra>",
         "legendgroup": "ghgs",
         "marker": {
          "color": "#636efa",
          "pattern": {
           "shape": ""
          }
         },
         "name": "ghgs",
         "offsetgroup": "ghgs",
         "orientation": "v",
         "showlegend": true,
         "textposition": "auto",
         "type": "bar",
         "x": [
          "fish",
          "meat",
          "meat100",
          "meat50",
          "vegan",
          "veggie"
         ],
         "xaxis": "x",
         "y": [
          0.11292411408080914,
          0.11150554063634621,
          0.11370170577775705,
          0.10892849487935038,
          0.1111111111111111,
          0.1091675586267727
         ],
         "yaxis": "y"
        },
        {
         "alignmentgroup": "True",
         "hovertemplate": "Diet Type: %{x}<br>Contribution ratio: %{y:.2%}<extra></extra>",
         "legendgroup": "land",
         "marker": {
          "color": "#EF553B",
          "pattern": {
           "shape": ""
          }
         },
         "name": "land",
         "offsetgroup": "land",
         "orientation": "v",
         "showlegend": true,
         "textposition": "auto",
         "type": "bar",
         "x": [
          "fish",
          "meat",
          "meat100",
          "meat50",
          "vegan",
          "veggie"
         ],
         "xaxis": "x",
         "y": [
          0.07031906664286547,
          0.09560939274360941,
          0.11998125613942245,
          0.07994868233302443,
          0.1111111111111111,
          0.0772804623733472
         ],
         "yaxis": "y"
        },
        {
         "alignmentgroup": "True",
         "hovertemplate": "Diet Type: %{x}<br>Contribution ratio: %{y:.2%}<extra></extra>",
         "legendgroup": "watscar",
         "marker": {
          "color": "#00cc96",
          "pattern": {
           "shape": ""
          }
         },
         "name": "watscar",
         "offsetgroup": "watscar",
         "orientation": "v",
         "showlegend": true,
         "textposition": "auto",
         "type": "bar",
         "x": [
          "fish",
          "meat",
          "meat100",
          "meat50",
          "vegan",
          "veggie"
         ],
         "xaxis": "x",
         "y": [
          0.0411786833039861,
          0.02570045627313514,
          0.0204896118761467,
          0.03145411431708547,
          0.1111111111111111,
          0.040563632272854866
         ],
         "yaxis": "y"
        },
        {
         "alignmentgroup": "True",
         "hovertemplate": "Diet Type: %{x}<br>Contribution ratio: %{y:.2%}<extra></extra>",
         "legendgroup": "eut",
         "marker": {
          "color": "#ab63fa",
          "pattern": {
           "shape": ""
          }
         },
         "name": "eut",
         "offsetgroup": "eut",
         "orientation": "v",
         "showlegend": true,
         "textposition": "auto",
         "type": "bar",
         "x": [
          "fish",
          "meat",
          "meat100",
          "meat50",
          "vegan",
          "veggie"
         ],
         "xaxis": "x",
         "y": [
          0.09805724819271532,
          0.09126532594177958,
          0.0850162530923235,
          0.092471674114961,
          0.1111111111111111,
          0.08726147590696454
         ],
         "yaxis": "y"
        },
        {
         "alignmentgroup": "True",
         "hovertemplate": "Diet Type: %{x}<br>Contribution ratio: %{y:.2%}<extra></extra>",
         "legendgroup": "ghgs_ch4",
         "marker": {
          "color": "#FFA15A",
          "pattern": {
           "shape": ""
          }
         },
         "name": "ghgs_ch4",
         "offsetgroup": "ghgs_ch4",
         "orientation": "v",
         "showlegend": true,
         "textposition": "auto",
         "type": "bar",
         "x": [
          "fish",
          "meat",
          "meat100",
          "meat50",
          "vegan",
          "veggie"
         ],
         "xaxis": "x",
         "y": [
          0.35102962622821215,
          0.39232967462772805,
          0.3995353979539451,
          0.388165206628609,
          0.1111111111111111,
          0.3632949553175321
         ],
         "yaxis": "y"
        },
        {
         "alignmentgroup": "True",
         "hovertemplate": "Diet Type: %{x}<br>Contribution ratio: %{y:.2%}<extra></extra>",
         "legendgroup": "ghgs_n2o",
         "marker": {
          "color": "#19d3f3",
          "pattern": {
           "shape": ""
          }
         },
         "name": "ghgs_n2o",
         "offsetgroup": "ghgs_n2o",
         "orientation": "v",
         "showlegend": true,
         "textposition": "auto",
         "type": "bar",
         "x": [
          "fish",
          "meat",
          "meat100",
          "meat50",
          "vegan",
          "veggie"
         ],
         "xaxis": "x",
         "y": [
          0.0659086964617687,
          0.07277882286601035,
          0.07723240929885407,
          0.06723442146515607,
          0.1111111111111111,
          0.06573760139398924
         ],
         "yaxis": "y"
        },
        {
         "alignmentgroup": "True",
         "hovertemplate": "Diet Type: %{x}<br>Contribution ratio: %{y:.2%}<extra></extra>",
         "legendgroup": "bio",
         "marker": {
          "color": "#FF6692",
          "pattern": {
           "shape": ""
          }
         },
         "name": "bio",
         "offsetgroup": "bio",
         "orientation": "v",
         "showlegend": true,
         "textposition": "auto",
         "type": "bar",
         "x": [
          "fish",
          "meat",
          "meat100",
          "meat50",
          "vegan",
          "veggie"
         ],
         "xaxis": "x",
         "y": [
          0.08248885598657427,
          0.06316285098244362,
          0.05612164428585091,
          0.07192253930074614,
          0.1111111111111111,
          0.09336433923361781
         ],
         "yaxis": "y"
        },
        {
         "alignmentgroup": "True",
         "hovertemplate": "Diet Type: %{x}<br>Contribution ratio: %{y:.2%}<extra></extra>",
         "legendgroup": "watuse",
         "marker": {
          "color": "#B6E880",
          "pattern": {
           "shape": ""
          }
         },
         "name": "watuse",
         "offsetgroup": "watuse",
         "orientation": "v",
         "showlegend": true,
         "textposition": "auto",
         "type": "bar",
         "x": [
          "fish",
          "meat",
          "meat100",
          "meat50",
          "vegan",
          "veggie"
         ],
         "xaxis": "x",
         "y": [
          0.06748676718638494,
          0.04444405197973988,
          0.03329156709167844,
          0.05359602794096566,
          0.1111111111111111,
          0.05216357587378956
         ],
         "yaxis": "y"
        },
        {
         "alignmentgroup": "True",
         "hovertemplate": "Diet Type: %{x}<br>Contribution ratio: %{y:.2%}<extra></extra>",
         "legendgroup": "acid",
         "marker": {
          "color": "#FF97FF",
          "pattern": {
           "shape": ""
          }
         },
         "name": "acid",
         "offsetgroup": "acid",
         "orientation": "v",
         "showlegend": true,
         "textposition": "auto",
         "type": "bar",
         "x": [
          "fish",
          "meat",
          "meat100",
          "meat50",
          "vegan",
          "veggie"
         ],
         "xaxis": "x",
         "y": [
          0.11060694191668384,
          0.10320388394920779,
          0.09463015448402178,
          0.10627883902010182,
          0.1111111111111111,
          0.1111663990011321
         ],
         "yaxis": "y"
        }
       ],
       "layout": {
        "barmode": "relative",
        "font": {
         "size": 12
        },
        "height": 600,
        "legend": {
         "title": {
          "text": "Env indicators"
         },
         "tracegroupgap": 0
        },
        "template": {
         "data": {
          "bar": [
           {
            "error_x": {
             "color": "#2a3f5f"
            },
            "error_y": {
             "color": "#2a3f5f"
            },
            "marker": {
             "line": {
              "color": "#E5ECF6",
              "width": 0.5
             },
             "pattern": {
              "fillmode": "overlay",
              "size": 10,
              "solidity": 0.2
             }
            },
            "type": "bar"
           }
          ],
          "barpolar": [
           {
            "marker": {
             "line": {
              "color": "#E5ECF6",
              "width": 0.5
             },
             "pattern": {
              "fillmode": "overlay",
              "size": 10,
              "solidity": 0.2
             }
            },
            "type": "barpolar"
           }
          ],
          "carpet": [
           {
            "aaxis": {
             "endlinecolor": "#2a3f5f",
             "gridcolor": "white",
             "linecolor": "white",
             "minorgridcolor": "white",
             "startlinecolor": "#2a3f5f"
            },
            "baxis": {
             "endlinecolor": "#2a3f5f",
             "gridcolor": "white",
             "linecolor": "white",
             "minorgridcolor": "white",
             "startlinecolor": "#2a3f5f"
            },
            "type": "carpet"
           }
          ],
          "choropleth": [
           {
            "colorbar": {
             "outlinewidth": 0,
             "ticks": ""
            },
            "type": "choropleth"
           }
          ],
          "contour": [
           {
            "colorbar": {
             "outlinewidth": 0,
             "ticks": ""
            },
            "colorscale": [
             [
              0,
              "#0d0887"
             ],
             [
              0.1111111111111111,
              "#46039f"
             ],
             [
              0.2222222222222222,
              "#7201a8"
             ],
             [
              0.3333333333333333,
              "#9c179e"
             ],
             [
              0.4444444444444444,
              "#bd3786"
             ],
             [
              0.5555555555555556,
              "#d8576b"
             ],
             [
              0.6666666666666666,
              "#ed7953"
             ],
             [
              0.7777777777777778,
              "#fb9f3a"
             ],
             [
              0.8888888888888888,
              "#fdca26"
             ],
             [
              1,
              "#f0f921"
             ]
            ],
            "type": "contour"
           }
          ],
          "contourcarpet": [
           {
            "colorbar": {
             "outlinewidth": 0,
             "ticks": ""
            },
            "type": "contourcarpet"
           }
          ],
          "heatmap": [
           {
            "colorbar": {
             "outlinewidth": 0,
             "ticks": ""
            },
            "colorscale": [
             [
              0,
              "#0d0887"
             ],
             [
              0.1111111111111111,
              "#46039f"
             ],
             [
              0.2222222222222222,
              "#7201a8"
             ],
             [
              0.3333333333333333,
              "#9c179e"
             ],
             [
              0.4444444444444444,
              "#bd3786"
             ],
             [
              0.5555555555555556,
              "#d8576b"
             ],
             [
              0.6666666666666666,
              "#ed7953"
             ],
             [
              0.7777777777777778,
              "#fb9f3a"
             ],
             [
              0.8888888888888888,
              "#fdca26"
             ],
             [
              1,
              "#f0f921"
             ]
            ],
            "type": "heatmap"
           }
          ],
          "heatmapgl": [
           {
            "colorbar": {
             "outlinewidth": 0,
             "ticks": ""
            },
            "colorscale": [
             [
              0,
              "#0d0887"
             ],
             [
              0.1111111111111111,
              "#46039f"
             ],
             [
              0.2222222222222222,
              "#7201a8"
             ],
             [
              0.3333333333333333,
              "#9c179e"
             ],
             [
              0.4444444444444444,
              "#bd3786"
             ],
             [
              0.5555555555555556,
              "#d8576b"
             ],
             [
              0.6666666666666666,
              "#ed7953"
             ],
             [
              0.7777777777777778,
              "#fb9f3a"
             ],
             [
              0.8888888888888888,
              "#fdca26"
             ],
             [
              1,
              "#f0f921"
             ]
            ],
            "type": "heatmapgl"
           }
          ],
          "histogram": [
           {
            "marker": {
             "pattern": {
              "fillmode": "overlay",
              "size": 10,
              "solidity": 0.2
             }
            },
            "type": "histogram"
           }
          ],
          "histogram2d": [
           {
            "colorbar": {
             "outlinewidth": 0,
             "ticks": ""
            },
            "colorscale": [
             [
              0,
              "#0d0887"
             ],
             [
              0.1111111111111111,
              "#46039f"
             ],
             [
              0.2222222222222222,
              "#7201a8"
             ],
             [
              0.3333333333333333,
              "#9c179e"
             ],
             [
              0.4444444444444444,
              "#bd3786"
             ],
             [
              0.5555555555555556,
              "#d8576b"
             ],
             [
              0.6666666666666666,
              "#ed7953"
             ],
             [
              0.7777777777777778,
              "#fb9f3a"
             ],
             [
              0.8888888888888888,
              "#fdca26"
             ],
             [
              1,
              "#f0f921"
             ]
            ],
            "type": "histogram2d"
           }
          ],
          "histogram2dcontour": [
           {
            "colorbar": {
             "outlinewidth": 0,
             "ticks": ""
            },
            "colorscale": [
             [
              0,
              "#0d0887"
             ],
             [
              0.1111111111111111,
              "#46039f"
             ],
             [
              0.2222222222222222,
              "#7201a8"
             ],
             [
              0.3333333333333333,
              "#9c179e"
             ],
             [
              0.4444444444444444,
              "#bd3786"
             ],
             [
              0.5555555555555556,
              "#d8576b"
             ],
             [
              0.6666666666666666,
              "#ed7953"
             ],
             [
              0.7777777777777778,
              "#fb9f3a"
             ],
             [
              0.8888888888888888,
              "#fdca26"
             ],
             [
              1,
              "#f0f921"
             ]
            ],
            "type": "histogram2dcontour"
           }
          ],
          "mesh3d": [
           {
            "colorbar": {
             "outlinewidth": 0,
             "ticks": ""
            },
            "type": "mesh3d"
           }
          ],
          "parcoords": [
           {
            "line": {
             "colorbar": {
              "outlinewidth": 0,
              "ticks": ""
             }
            },
            "type": "parcoords"
           }
          ],
          "pie": [
           {
            "automargin": true,
            "type": "pie"
           }
          ],
          "scatter": [
           {
            "fillpattern": {
             "fillmode": "overlay",
             "size": 10,
             "solidity": 0.2
            },
            "type": "scatter"
           }
          ],
          "scatter3d": [
           {
            "line": {
             "colorbar": {
              "outlinewidth": 0,
              "ticks": ""
             }
            },
            "marker": {
             "colorbar": {
              "outlinewidth": 0,
              "ticks": ""
             }
            },
            "type": "scatter3d"
           }
          ],
          "scattercarpet": [
           {
            "marker": {
             "colorbar": {
              "outlinewidth": 0,
              "ticks": ""
             }
            },
            "type": "scattercarpet"
           }
          ],
          "scattergeo": [
           {
            "marker": {
             "colorbar": {
              "outlinewidth": 0,
              "ticks": ""
             }
            },
            "type": "scattergeo"
           }
          ],
          "scattergl": [
           {
            "marker": {
             "colorbar": {
              "outlinewidth": 0,
              "ticks": ""
             }
            },
            "type": "scattergl"
           }
          ],
          "scattermapbox": [
           {
            "marker": {
             "colorbar": {
              "outlinewidth": 0,
              "ticks": ""
             }
            },
            "type": "scattermapbox"
           }
          ],
          "scatterpolar": [
           {
            "marker": {
             "colorbar": {
              "outlinewidth": 0,
              "ticks": ""
             }
            },
            "type": "scatterpolar"
           }
          ],
          "scatterpolargl": [
           {
            "marker": {
             "colorbar": {
              "outlinewidth": 0,
              "ticks": ""
             }
            },
            "type": "scatterpolargl"
           }
          ],
          "scatterternary": [
           {
            "marker": {
             "colorbar": {
              "outlinewidth": 0,
              "ticks": ""
             }
            },
            "type": "scatterternary"
           }
          ],
          "surface": [
           {
            "colorbar": {
             "outlinewidth": 0,
             "ticks": ""
            },
            "colorscale": [
             [
              0,
              "#0d0887"
             ],
             [
              0.1111111111111111,
              "#46039f"
             ],
             [
              0.2222222222222222,
              "#7201a8"
             ],
             [
              0.3333333333333333,
              "#9c179e"
             ],
             [
              0.4444444444444444,
              "#bd3786"
             ],
             [
              0.5555555555555556,
              "#d8576b"
             ],
             [
              0.6666666666666666,
              "#ed7953"
             ],
             [
              0.7777777777777778,
              "#fb9f3a"
             ],
             [
              0.8888888888888888,
              "#fdca26"
             ],
             [
              1,
              "#f0f921"
             ]
            ],
            "type": "surface"
           }
          ],
          "table": [
           {
            "cells": {
             "fill": {
              "color": "#EBF0F8"
             },
             "line": {
              "color": "white"
             }
            },
            "header": {
             "fill": {
              "color": "#C8D4E3"
             },
             "line": {
              "color": "white"
             }
            },
            "type": "table"
           }
          ]
         },
         "layout": {
          "annotationdefaults": {
           "arrowcolor": "#2a3f5f",
           "arrowhead": 0,
           "arrowwidth": 1
          },
          "autotypenumbers": "strict",
          "coloraxis": {
           "colorbar": {
            "outlinewidth": 0,
            "ticks": ""
           }
          },
          "colorscale": {
           "diverging": [
            [
             0,
             "#8e0152"
            ],
            [
             0.1,
             "#c51b7d"
            ],
            [
             0.2,
             "#de77ae"
            ],
            [
             0.3,
             "#f1b6da"
            ],
            [
             0.4,
             "#fde0ef"
            ],
            [
             0.5,
             "#f7f7f7"
            ],
            [
             0.6,
             "#e6f5d0"
            ],
            [
             0.7,
             "#b8e186"
            ],
            [
             0.8,
             "#7fbc41"
            ],
            [
             0.9,
             "#4d9221"
            ],
            [
             1,
             "#276419"
            ]
           ],
           "sequential": [
            [
             0,
             "#0d0887"
            ],
            [
             0.1111111111111111,
             "#46039f"
            ],
            [
             0.2222222222222222,
             "#7201a8"
            ],
            [
             0.3333333333333333,
             "#9c179e"
            ],
            [
             0.4444444444444444,
             "#bd3786"
            ],
            [
             0.5555555555555556,
             "#d8576b"
            ],
            [
             0.6666666666666666,
             "#ed7953"
            ],
            [
             0.7777777777777778,
             "#fb9f3a"
            ],
            [
             0.8888888888888888,
             "#fdca26"
            ],
            [
             1,
             "#f0f921"
            ]
           ],
           "sequentialminus": [
            [
             0,
             "#0d0887"
            ],
            [
             0.1111111111111111,
             "#46039f"
            ],
            [
             0.2222222222222222,
             "#7201a8"
            ],
            [
             0.3333333333333333,
             "#9c179e"
            ],
            [
             0.4444444444444444,
             "#bd3786"
            ],
            [
             0.5555555555555556,
             "#d8576b"
            ],
            [
             0.6666666666666666,
             "#ed7953"
            ],
            [
             0.7777777777777778,
             "#fb9f3a"
            ],
            [
             0.8888888888888888,
             "#fdca26"
            ],
            [
             1,
             "#f0f921"
            ]
           ]
          },
          "colorway": [
           "#636efa",
           "#EF553B",
           "#00cc96",
           "#ab63fa",
           "#FFA15A",
           "#19d3f3",
           "#FF6692",
           "#B6E880",
           "#FF97FF",
           "#FECB52"
          ],
          "font": {
           "color": "#2a3f5f"
          },
          "geo": {
           "bgcolor": "white",
           "lakecolor": "white",
           "landcolor": "#E5ECF6",
           "showlakes": true,
           "showland": true,
           "subunitcolor": "white"
          },
          "hoverlabel": {
           "align": "left"
          },
          "hovermode": "closest",
          "mapbox": {
           "style": "light"
          },
          "paper_bgcolor": "white",
          "plot_bgcolor": "#E5ECF6",
          "polar": {
           "angularaxis": {
            "gridcolor": "white",
            "linecolor": "white",
            "ticks": ""
           },
           "bgcolor": "#E5ECF6",
           "radialaxis": {
            "gridcolor": "white",
            "linecolor": "white",
            "ticks": ""
           }
          },
          "scene": {
           "xaxis": {
            "backgroundcolor": "#E5ECF6",
            "gridcolor": "white",
            "gridwidth": 2,
            "linecolor": "white",
            "showbackground": true,
            "ticks": "",
            "zerolinecolor": "white"
           },
           "yaxis": {
            "backgroundcolor": "#E5ECF6",
            "gridcolor": "white",
            "gridwidth": 2,
            "linecolor": "white",
            "showbackground": true,
            "ticks": "",
            "zerolinecolor": "white"
           },
           "zaxis": {
            "backgroundcolor": "#E5ECF6",
            "gridcolor": "white",
            "gridwidth": 2,
            "linecolor": "white",
            "showbackground": true,
            "ticks": "",
            "zerolinecolor": "white"
           }
          },
          "shapedefaults": {
           "line": {
            "color": "#2a3f5f"
           }
          },
          "ternary": {
           "aaxis": {
            "gridcolor": "white",
            "linecolor": "white",
            "ticks": ""
           },
           "baxis": {
            "gridcolor": "white",
            "linecolor": "white",
            "ticks": ""
           },
           "bgcolor": "#E5ECF6",
           "caxis": {
            "gridcolor": "white",
            "linecolor": "white",
            "ticks": ""
           }
          },
          "title": {
           "x": 0.05
          },
          "xaxis": {
           "automargin": true,
           "gridcolor": "white",
           "linecolor": "white",
           "ticks": "",
           "title": {
            "standoff": 15
           },
           "zerolinecolor": "white",
           "zerolinewidth": 2
          },
          "yaxis": {
           "automargin": true,
           "gridcolor": "white",
           "linecolor": "white",
           "ticks": "",
           "title": {
            "standoff": 15
           },
           "zerolinecolor": "white",
           "zerolinewidth": 2
          }
         }
        },
        "title": {
         "text": "Environmental impact composition of each diet type"
        },
        "width": 800,
        "xaxis": {
         "anchor": "y",
         "domain": [
          0,
          1
         ],
         "title": {
          "text": "Diet Type"
         }
        },
        "yaxis": {
         "anchor": "x",
         "domain": [
          0,
          1
         ],
         "title": {
          "text": "Environmental impact contribution ratio"
         }
        }
       }
      }
     },
     "metadata": {},
     "output_type": "display_data"
    }
   ],
   "source": [
    "stack_data = []\n",
    "for i, diet in enumerate(impact_df['diet_group']):\n",
    "    for ind in indicators:\n",
    "        stack_data.append({\n",
    "            'diet_group': diet,\n",
    "            'indicator': ind,\n",
    "            'contribution': impact_df.loc[i, f'{ind}_relative_impact'] / sum(impact_df.loc[i, [f'{x}_relative_impact' for x in indicators]])\n",
    "        })\n",
    "\n",
    "stack_df = pd.DataFrame(stack_data)\n",
    "\n",
    "fig = px.bar(\n",
    "    stack_df,\n",
    "    x='diet_group',\n",
    "    y='contribution',\n",
    "    color='indicator',\n",
    "    title='Environmental impact composition of each diet type',\n",
    "    labels={'contribution': 'Contribution ratio', 'diet_group': 'Diet Type', 'indicator': 'Env indicators'},\n",
    "    height=600,\n",
    "    width=800\n",
    ")\n",
    "\n",
    "# 添加悬停信息\n",
    "fig.update_traces(\n",
    "    hovertemplate=\"Diet Type: %{x}<br>Contribution ratio: %{y:.2%}<extra></extra>\"\n",
    ")\n",
    "\n",
    "# 布局优化\n",
    "fig.update_layout(\n",
    "    yaxis=dict(title='Environmental impact contribution ratio'),\n",
    "    legend=dict(title='Env indicators'),\n",
    "    font=dict(size=12)\n",
    ")\n",
    "\n",
    "fig.write_html(\"diet_environmental_composition.html\")\n",
    "fig.show()"
   ]
  },
  {
   "cell_type": "markdown",
   "id": "8a0a7c93",
   "metadata": {},
   "source": [
    "### Environmental footprint 'map' of dietary types"
   ]
  },
  {
   "cell_type": "code",
   "execution_count": 18,
   "id": "fdf49f50",
   "metadata": {},
   "outputs": [
    {
     "data": {
      "application/vnd.plotly.v1+json": {
       "config": {
        "plotlyServerURL": "https://plotly.com"
       },
       "data": [
        {
         "colorbar": {
          "title": {
           "font": {
            "size": 12
           },
           "side": "right",
           "text": "Environmental impact intensity"
          }
         },
         "colorscale": [
          [
           0,
           "rgb(255,255,204)"
          ],
          [
           0.125,
           "rgb(255,237,160)"
          ],
          [
           0.25,
           "rgb(254,217,118)"
          ],
          [
           0.375,
           "rgb(254,178,76)"
          ],
          [
           0.5,
           "rgb(253,141,60)"
          ],
          [
           0.625,
           "rgb(252,78,42)"
          ],
          [
           0.75,
           "rgb(227,26,28)"
          ],
          [
           0.875,
           "rgb(189,0,38)"
          ],
          [
           1,
           "rgb(128,0,38)"
          ]
         ],
         "contours": {
          "end": 5.077829224698006,
          "showlabels": false,
          "size": 0.3385219483132004,
          "start": 0
         },
         "line": {
          "color": "rgba(150, 150, 150, 0.5)",
          "width": 0.5
         },
         "opacity": 0.5,
         "showscale": true,
         "type": "contour",
         "x": [
          -4526.997777914201,
          -4375.008226706839,
          -4223.0186754994775,
          -4071.029124292116,
          -3919.039573084755,
          -3767.050021877393,
          -3615.0604706700315,
          -3463.07091946267,
          -3311.081368255309,
          -3159.091817047947,
          -3007.1022658405855,
          -2855.112714633224,
          -2703.1231634258625,
          -2551.133612218501,
          -2399.1440610111395,
          -2247.154509803778,
          -2095.1649585964165,
          -1943.1754073890547,
          -1791.1858561816935,
          -1639.1963049743317,
          -1487.2067537669705,
          -1335.2172025596087,
          -1183.2276513522474,
          -1031.2381001448857,
          -879.248548937524,
          -727.2589977301627,
          -575.269446522801,
          -423.2798953154397,
          -271.290344108078,
          -119.30079290071626,
          32.68875830664456,
          184.6783095140063,
          336.667860721368,
          488.65741192872974,
          640.6469631360915,
          792.6365143434523,
          944.626065550814,
          1096.6156167581757,
          1248.6051679655375,
          1400.5947191728983,
          1552.58427038026,
          1704.5738215876218,
          1856.5633727949835,
          2008.5529240023452,
          2160.542475209706,
          2312.5320264170678,
          2464.5215776244295,
          2616.511128831791,
          2768.500680039153,
          2920.4902312465138,
          3072.4797824538755,
          3224.469333661237,
          3376.458884868599,
          3528.4484360759598,
          3680.4379872833215,
          3832.427538490683,
          3984.417089698045,
          4136.406640905407,
          4288.396192112768,
          4440.38574332013,
          4592.37529452749,
          4744.364845734852,
          4896.3543969422135,
          5048.343948149575,
          5200.333499356937,
          5352.323050564299,
          5504.31260177166,
          5656.302152979022,
          5808.291704186384,
          5960.281255393744,
          6112.2708066011055,
          6264.260357808467,
          6416.249909015829,
          6568.239460223191,
          6720.229011430552,
          6872.218562637914,
          7024.208113845276,
          7176.197665052638,
          7328.1872162599975,
          7480.17676746736
         ],
         "y": [
          -91.82665177994993,
          -89.48043764667412,
          -87.13422351339831,
          -84.7880093801225,
          -82.44179524684668,
          -80.09558111357087,
          -77.74936698029506,
          -75.40315284701926,
          -73.05693871374345,
          -70.71072458046763,
          -68.36451044719183,
          -66.01829631391601,
          -63.6720821806402,
          -61.325868047364395,
          -58.97965391408859,
          -56.63343978081277,
          -54.287225647536964,
          -51.941011514261156,
          -49.59479738098534,
          -47.24858324770953,
          -44.902369114433725,
          -42.55615498115791,
          -40.2099408478821,
          -37.863726714606294,
          -35.51751258133048,
          -33.17129844805467,
          -30.825084314778863,
          -28.478870181503055,
          -26.132656048227247,
          -23.786441914951425,
          -21.440227781675617,
          -19.09401364839981,
          -16.747799515124,
          -14.401585381848193,
          -12.055371248572385,
          -9.709157115296577,
          -7.362942982020755,
          -5.016728848744947,
          -2.670514715469139,
          -0.3243005821933309,
          2.021913551082477,
          4.368127684358285,
          6.714341817634107,
          9.060555950909915,
          11.406770084185723,
          13.752984217461531,
          16.09919835073734,
          18.445412484013147,
          20.79162661728897,
          23.137840750564777,
          25.484054883840585,
          27.830269017116393,
          30.1764831503922,
          32.52269728366801,
          34.86891141694382,
          37.21512555021964,
          39.56133968349543,
          41.907553816771255,
          44.25376795004708,
          46.59998208332287,
          48.94619621659869,
          51.29241034987449,
          53.63862448315031,
          55.9848386164261,
          58.331052749701925,
          60.67726688297775,
          63.02348101625354,
          65.36969514952936,
          67.71590928280516,
          70.06212341608098,
          72.40833754935677,
          74.7545516826326,
          77.10076581590842,
          79.44697994918421,
          81.79319408246003,
          84.13940821573583,
          86.48562234901165,
          88.83183648228747,
          91.17805061556327,
          93.52426474883907
         ],
         "z": [
          [
           0.5362560368285114,
           0,
           0,
           0,
           0,
           0,
           0,
           0,
           0,
           0,
           0,
           0,
           0,
           0,
           0,
           0,
           0,
           0,
           0,
           0,
           0,
           0,
           0,
           0,
           0,
           0,
           0,
           0,
           0,
           0,
           0,
           0,
           0,
           0,
           0,
           0,
           0,
           0,
           0,
           0,
           0,
           0,
           0,
           0,
           0,
           0,
           0,
           0,
           0,
           0,
           0,
           0,
           0,
           0,
           0,
           0,
           0,
           0,
           0,
           0,
           0,
           0,
           0,
           0,
           0,
           0,
           0,
           0,
           0,
           0,
           0,
           0,
           0,
           0,
           0,
           0,
           0,
           0,
           0,
           0
          ],
          [
           0.042854318721961465,
           0,
           0,
           0,
           0,
           0,
           0,
           0,
           0,
           0,
           0,
           0,
           0,
           0,
           0,
           0,
           0,
           0,
           0,
           0,
           0,
           0,
           0,
           0,
           0,
           0,
           0,
           0,
           0,
           0,
           0,
           0,
           0,
           0,
           0,
           0,
           0,
           0,
           0,
           0,
           0,
           0,
           0,
           0,
           0,
           0,
           0,
           0,
           0,
           0,
           0,
           0,
           0,
           0,
           0,
           0,
           0,
           0,
           0,
           0,
           0,
           0,
           0,
           0,
           0,
           0,
           0,
           0,
           0,
           0,
           0,
           0,
           0,
           0,
           0,
           0,
           0,
           0,
           0,
           5.7799643e-316
          ],
          [
           5.123246312293089e-7,
           0,
           0,
           0,
           0,
           0,
           0,
           0,
           0,
           0,
           0,
           0,
           0,
           0,
           0,
           0,
           0,
           0,
           0,
           0,
           0,
           0,
           0,
           0,
           0,
           0,
           0,
           0,
           0,
           0,
           0,
           0,
           0,
           0,
           0,
           0,
           0,
           0,
           0,
           0,
           0,
           0,
           0,
           0,
           0,
           0,
           0,
           0,
           0,
           0,
           0,
           0,
           0,
           0,
           0,
           0,
           0,
           0,
           0,
           0,
           0,
           0,
           0,
           0,
           0,
           0,
           0,
           0,
           0,
           0,
           0,
           0,
           0,
           0,
           0,
           0,
           0,
           0,
           0,
           1.0368628700395333e-268
          ],
          [
           9.162713700588235e-16,
           0,
           0,
           0,
           0,
           0,
           0,
           0,
           0,
           0,
           0,
           0,
           0,
           0,
           0,
           0,
           0,
           0,
           0,
           0,
           0,
           0,
           0,
           0,
           0,
           0,
           0,
           0,
           0,
           0,
           0,
           0,
           0,
           0,
           0,
           0,
           0,
           0,
           0,
           0,
           0,
           0,
           0,
           0,
           0,
           0,
           0,
           0,
           0,
           0,
           0,
           0,
           0,
           0,
           0,
           0,
           0,
           0,
           0,
           0,
           0,
           0,
           0,
           0,
           0,
           0,
           0,
           0,
           0,
           0,
           0,
           0,
           0,
           0,
           0,
           0,
           0,
           0,
           0,
           2.7825676679775845e-225
          ],
          [
           2.451496272124341e-28,
           0,
           0,
           0,
           0,
           0,
           0,
           0,
           0,
           0,
           0,
           0,
           0,
           0,
           0,
           1.0657175558474363e-304,
           0,
           0,
           0,
           0,
           0,
           0,
           0,
           0,
           0,
           0,
           0,
           0,
           0,
           0,
           0,
           0,
           0,
           0,
           0,
           0,
           0,
           0,
           0,
           0,
           0,
           0,
           0,
           0,
           0,
           0,
           0,
           0,
           0,
           0,
           0,
           0,
           0,
           0,
           0,
           0,
           0,
           0,
           0,
           0,
           0,
           0,
           0,
           0,
           0,
           0,
           0,
           0,
           0,
           0,
           0,
           0,
           0,
           0,
           0,
           0,
           0,
           0,
           0,
           1.1171162934453357e-185
          ],
          [
           9.81220464573474e-45,
           0,
           0,
           0,
           0,
           0,
           0,
           0,
           0,
           0,
           0,
           0,
           0,
           0,
           0,
           6.799933242105326e-260,
           0,
           0,
           0,
           0,
           0,
           0,
           0,
           0,
           0,
           0,
           0,
           0,
           0,
           0,
           0,
           0,
           0,
           0,
           0,
           0,
           0,
           0,
           0,
           0,
           0,
           0,
           0,
           0,
           0,
           0,
           0,
           0,
           0,
           0,
           0,
           0,
           0,
           0,
           0,
           0,
           0,
           0,
           0,
           0,
           0,
           0,
           0,
           0,
           0,
           0,
           0,
           0,
           0,
           0,
           0,
           0,
           0,
           0,
           0,
           0,
           0,
           0,
           0,
           6.709331920160786e-150
          ],
          [
           5.875302032802943e-65,
           0,
           0,
           0,
           0,
           0,
           0,
           0,
           0,
           0,
           0,
           0,
           0,
           0,
           0,
           6.490758008250273e-219,
           0,
           0,
           0,
           0,
           0,
           0,
           0,
           0,
           0,
           0,
           0,
           0,
           0,
           0,
           0,
           0,
           0,
           0,
           0,
           0,
           0,
           0,
           0,
           0,
           0,
           0,
           0,
           0,
           0,
           0,
           0,
           0,
           0,
           0,
           0,
           0,
           0,
           0,
           0,
           0,
           0,
           0,
           0,
           0,
           0,
           0,
           0,
           0,
           0,
           0,
           0,
           0,
           0,
           0,
           0,
           0,
           0,
           0,
           0,
           0,
           0,
           0,
           0,
           6.028210495380886e-118
          ],
          [
           5.262862664590252e-89,
           0,
           0,
           0,
           0,
           0,
           0,
           0,
           0,
           0,
           0,
           0,
           0,
           0,
           0,
           9.268606113556714e-182,
           0,
           0,
           0,
           0,
           0,
           0,
           0,
           0,
           0,
           0,
           0,
           0,
           0,
           0,
           0,
           0,
           0,
           0,
           0,
           0,
           0,
           0,
           0,
           0,
           0,
           0,
           0,
           0,
           0,
           0,
           0,
           0,
           0,
           0,
           0,
           0,
           0,
           0,
           0,
           0,
           0,
           0,
           0,
           0,
           0,
           0,
           0,
           0,
           0,
           0,
           0,
           0,
           0,
           0,
           0,
           0,
           0,
           0,
           0,
           0,
           0,
           0,
           0,
           8.102625748107224e-90
          ],
          [
           7.052484116959635e-117,
           0,
           0,
           0,
           0,
           0,
           0,
           0,
           0,
           0,
           0,
           0,
           0,
           0,
           0,
           1.9799839724904694e-148,
           0,
           0,
           0,
           0,
           0,
           0,
           0,
           0,
           0,
           0,
           0,
           0,
           0,
           0,
           0,
           0,
           0,
           0,
           0,
           0,
           0,
           0,
           0,
           0,
           0,
           0,
           0,
           0,
           0,
           0,
           0,
           0,
           0,
           0,
           0,
           0,
           0,
           0,
           0,
           0,
           0,
           0,
           0,
           0,
           0,
           0,
           0,
           0,
           0,
           0,
           0,
           0,
           0,
           0,
           0,
           0,
           0,
           0,
           0,
           0,
           0,
           0,
           0,
           1.6292637337564664e-65
          ],
          [
           1.4138080043453518e-148,
           0,
           0,
           0,
           0,
           0,
           0,
           0,
           0,
           0,
           0,
           0,
           0,
           0,
           0,
           6.327572980697089e-119,
           0,
           0,
           0,
           0,
           0,
           0,
           0,
           0,
           0,
           0,
           0,
           0,
           0,
           0,
           0,
           0,
           0,
           0,
           0,
           0,
           0,
           0,
           0,
           0,
           0,
           0,
           0,
           0,
           0,
           0,
           0,
           0,
           0,
           0,
           0,
           0,
           0,
           0,
           0,
           0,
           0,
           0,
           0,
           0,
           0,
           0,
           0,
           0,
           0,
           0,
           0,
           0,
           0,
           0,
           0,
           0,
           0,
           0,
           0,
           0,
           0,
           0,
           0,
           4.90100607798375e-45
          ],
          [
           4.240011116871337e-184,
           0,
           0,
           0,
           0,
           0,
           0,
           0,
           0,
           0,
           0,
           0,
           0,
           0,
           0,
           3.0251080469356105e-93,
           0,
           0,
           0,
           0,
           0,
           0,
           0,
           0,
           0,
           0,
           0,
           0,
           0,
           0,
           0,
           0,
           0,
           0,
           0,
           0,
           0,
           0,
           0,
           0,
           0,
           0,
           0,
           0,
           0,
           0,
           0,
           0,
           0,
           0,
           0,
           0,
           0,
           0,
           0,
           0,
           0,
           0,
           0,
           0,
           0,
           0,
           0,
           0,
           0,
           0,
           0,
           0,
           0,
           0,
           0,
           0,
           0,
           0,
           0,
           0,
           0,
           0,
           0,
           2.205501367833022e-28
          ],
          [
           1.9022684027988385e-223,
           0,
           0,
           0,
           0,
           0,
           0,
           0,
           0,
           0,
           0,
           0,
           0,
           0,
           0,
           2.1635795036371987e-71,
           0,
           0,
           0,
           0,
           0,
           0,
           0,
           0,
           0,
           0,
           0,
           0,
           0,
           0,
           0,
           0,
           0,
           0,
           0,
           0,
           0,
           0,
           0,
           0,
           0,
           0,
           0,
           0,
           0,
           0,
           0,
           0,
           0,
           0,
           0,
           0,
           0,
           0,
           0,
           0,
           0,
           0,
           0,
           0,
           0,
           0,
           0,
           0,
           0,
           0,
           0,
           0,
           0,
           0,
           0,
           0,
           0,
           0,
           0,
           0,
           0,
           0,
           0,
           1.4847647953108899e-15
          ],
          [
           1.2767469614712699e-266,
           0,
           0,
           0,
           0,
           0,
           0,
           0,
           0,
           0,
           0,
           0,
           0,
           0,
           0,
           2.314904430227702e-53,
           0,
           0,
           0,
           0,
           0,
           0,
           0,
           0,
           0,
           0,
           0,
           0,
           0,
           0,
           0,
           0,
           0,
           0,
           0,
           0,
           0,
           0,
           0,
           0,
           0,
           0,
           0,
           0,
           0,
           0,
           0,
           0,
           0,
           0,
           0,
           0,
           0,
           0,
           0,
           0,
           0,
           0,
           0,
           0,
           0,
           0,
           0,
           0,
           0,
           0,
           0,
           0,
           0,
           0,
           0,
           0,
           0,
           0,
           0,
           0,
           0,
           0,
           0,
           0.0000014953271942949386
          ],
          [
           1.28193531426e-313,
           0,
           0,
           0,
           0,
           0,
           0,
           0,
           0,
           0,
           0,
           0,
           0,
           0,
           0,
           3.705284104834781e-39,
           0,
           0,
           0,
           0,
           0,
           0,
           0,
           0,
           0,
           0,
           0,
           0,
           0,
           0,
           0,
           0,
           0,
           0,
           0,
           0,
           0,
           0,
           0,
           0,
           0,
           0,
           0,
           0,
           0,
           0,
           0,
           0,
           0,
           0,
           0,
           0,
           0,
           0,
           0,
           0,
           0,
           0,
           0,
           0,
           0,
           0,
           0,
           0,
           0,
           0,
           0,
           0,
           0,
           0,
           0,
           0,
           0,
           0,
           0,
           0,
           0,
           0,
           0,
           0.22529058424112566
          ],
          [
           0,
           0,
           0,
           0,
           0,
           0,
           0,
           0,
           0,
           0,
           0,
           0,
           0,
           0,
           0,
           8.872340495600852e-29,
           0,
           0,
           0,
           0,
           0,
           0,
           0,
           0,
           0,
           0,
           0,
           0,
           0,
           0,
           0,
           0,
           0,
           0,
           0,
           0,
           0,
           0,
           0,
           0,
           0,
           0,
           0,
           0,
           0,
           0,
           0,
           0,
           0,
           0,
           0,
           0,
           0,
           0,
           0,
           0,
           0,
           0,
           0,
           0,
           0,
           0,
           0,
           0,
           0,
           0,
           0,
           0,
           0,
           0,
           0,
           0,
           0,
           0,
           0,
           0,
           0,
           0,
           0,
           5.077829224698006
          ],
          [
           0,
           0,
           0,
           0,
           0,
           0,
           0,
           0,
           0,
           0,
           0,
           0,
           0,
           0,
           0,
           3.17821393386347e-22,
           0,
           0,
           0,
           0,
           0,
           0,
           0,
           0,
           0,
           0,
           0,
           0,
           0,
           0,
           0,
           0,
           0,
           0,
           0,
           0,
           0,
           0,
           0,
           0,
           0,
           0,
           0,
           0,
           0,
           0,
           0,
           0,
           0,
           0,
           0,
           0,
           0,
           0,
           0,
           0,
           0,
           0,
           0,
           0,
           0,
           0,
           0,
           0,
           0,
           0,
           0,
           0,
           0,
           0,
           0,
           0,
           0,
           0,
           0,
           0,
           0,
           0,
           0,
           0.017121483044334848
          ],
          [
           0,
           0,
           0,
           0,
           0,
           0,
           0,
           0,
           0,
           0,
           0,
           0,
           0,
           0,
           0,
           1.7031633146128095e-19,
           0,
           0,
           0,
           0,
           0,
           0,
           0,
           0,
           0,
           0,
           0,
           0,
           0,
           0,
           0,
           0,
           0,
           0,
           0,
           0,
           0,
           0,
           0,
           0,
           0,
           0,
           0,
           0,
           0,
           0,
           0,
           0,
           0,
           0,
           0,
           0,
           0,
           0,
           0,
           0,
           0,
           0,
           0,
           0,
           0,
           0,
           0,
           0,
           0,
           0,
           0,
           0,
           0,
           0,
           0,
           0,
           0,
           0,
           0,
           0,
           0,
           0,
           0,
           8.636403190672025e-9
          ],
          [
           0,
           0,
           0,
           0,
           0,
           0,
           0,
           0,
           0,
           0,
           0,
           0,
           0,
           0,
           0,
           1.3653930895018013e-20,
           0,
           0,
           0,
           0,
           0,
           0,
           0,
           0,
           0,
           0,
           0,
           0,
           0,
           0,
           0,
           0,
           0,
           0,
           0,
           0,
           0,
           0,
           0,
           0,
           0,
           0,
           0,
           0,
           0,
           0,
           0,
           0,
           0,
           0,
           0,
           0,
           0,
           0,
           0,
           0,
           0,
           0,
           0,
           0,
           0,
           0,
           0,
           0,
           0,
           0,
           0,
           0,
           0,
           0,
           0,
           0,
           0,
           0,
           0,
           0,
           0,
           0,
           0,
           6.517074385972028e-19
          ],
          [
           0,
           0,
           0,
           0,
           0,
           0,
           0,
           0,
           0,
           0,
           0,
           0,
           0,
           0,
           0,
           1.6375227665805052e-25,
           0,
           0,
           0,
           0,
           0,
           0,
           0,
           0,
           0,
           0,
           0,
           0,
           0,
           0,
           0,
           0,
           0,
           0,
           0,
           0,
           0,
           0,
           0,
           0,
           0,
           0,
           0,
           0,
           0,
           0,
           0,
           0,
           0,
           0,
           0,
           0,
           0,
           0,
           0,
           0,
           0,
           0,
           0,
           0,
           0,
           0,
           0,
           0,
           0,
           0,
           0,
           0,
           0,
           0,
           0,
           0,
           0,
           0,
           0,
           0,
           0,
           0,
           0,
           7.35699882601083e-33
          ],
          [
           0,
           0,
           0,
           0,
           0,
           0,
           0,
           0,
           0,
           0,
           0,
           0,
           0,
           0,
           0,
           2.93795563085579e-34,
           0,
           0,
           0,
           0,
           0,
           0,
           0,
           0,
           0,
           0,
           0,
           0,
           0,
           0,
           0,
           0,
           0,
           0,
           0,
           0,
           0,
           0,
           0,
           0,
           0,
           0,
           0,
           0,
           0,
           0,
           0,
           0,
           0,
           0,
           0,
           0,
           0,
           0,
           0,
           0,
           0,
           0,
           0,
           0,
           0,
           0,
           0,
           0,
           0,
           0,
           0,
           0,
           0,
           0,
           0,
           0,
           0,
           0,
           0,
           0,
           0,
           0,
           0,
           1.2424443206271865e-50
          ],
          [
           0,
           0,
           0,
           0,
           0,
           0,
           0,
           0,
           0,
           0,
           0,
           0,
           0,
           0,
           0,
           7.885538538812027e-47,
           0,
           0,
           0,
           0,
           0,
           0,
           0,
           0,
           0,
           0,
           0,
           0,
           0,
           0,
           0,
           0,
           0,
           0,
           0,
           0,
           0,
           0,
           0,
           0,
           0,
           0,
           0,
           0,
           0,
           0,
           0,
           0,
           0,
           0,
           0,
           0,
           0,
           0,
           0,
           0,
           0,
           0,
           0,
           0,
           0,
           0,
           0,
           0,
           0,
           0,
           0,
           0,
           0,
           0,
           0,
           0,
           0,
           0,
           0,
           0,
           0,
           0,
           0,
           3.1389285015067515e-72
          ],
          [
           0,
           0,
           0,
           0,
           0,
           0,
           0,
           0,
           0,
           0,
           0,
           0,
           0,
           0,
           0,
           3.166253801420019e-63,
           0,
           0,
           0,
           0,
           0,
           0,
           0,
           0,
           0,
           0,
           0,
           0,
           0,
           0,
           0,
           0,
           0,
           0,
           0,
           0,
           0,
           0,
           0,
           0,
           0,
           0,
           0,
           0,
           0,
           0,
           0,
           0,
           0,
           0,
           0,
           0,
           0,
           0,
           0,
           0,
           0,
           0,
           0,
           0,
           0,
           0,
           0,
           0,
           0,
           0,
           0,
           0,
           0,
           0,
           0,
           0,
           0,
           0,
           0,
           0,
           0,
           0,
           0,
           1.1863535973469199e-97
          ],
          [
           0,
           0,
           0,
           0,
           0,
           0,
           0,
           0,
           0,
           0,
           0,
           0,
           0,
           0,
           0,
           1.9019028517528134e-83,
           0,
           0,
           0,
           0,
           0,
           0,
           0,
           0,
           0,
           0,
           0,
           0,
           0,
           0,
           0,
           0,
           0,
           0,
           0,
           0,
           0,
           0,
           0,
           0,
           0,
           0,
           0,
           0,
           0,
           0,
           0,
           0,
           0,
           0,
           0,
           0,
           0,
           0,
           0,
           0,
           0,
           0,
           0,
           0,
           0,
           0,
           0,
           0,
           0,
           0,
           0,
           0,
           0,
           0,
           0,
           0,
           0,
           0,
           0,
           0,
           0,
           0,
           0,
           6.7077229924672345e-127
          ],
          [
           0,
           0,
           0,
           0,
           0,
           0,
           0,
           0,
           0,
           0,
           0,
           0,
           0,
           0,
           0,
           1.709067339456219e-107,
           0,
           0,
           0,
           0,
           0,
           0,
           0,
           0,
           0,
           0,
           0,
           0,
           0,
           0,
           0,
           0,
           0,
           0,
           0,
           0,
           0,
           0,
           0,
           0,
           0,
           0,
           0,
           0,
           0,
           0,
           0,
           0,
           0,
           0,
           0,
           0,
           0,
           0,
           0,
           0,
           0,
           0,
           0,
           0,
           0,
           0,
           0,
           0,
           0,
           0,
           0,
           0,
           0,
           0,
           0,
           0,
           0,
           0,
           0,
           0,
           0,
           0,
           0,
           5.673673328798595e-160
          ],
          [
           0,
           0,
           0,
           0,
           0,
           0,
           0,
           0,
           0,
           0,
           0,
           0,
           0,
           0,
           0,
           2.297514493836423e-135,
           0,
           0,
           0,
           0,
           0,
           0,
           0,
           0,
           0,
           0,
           0,
           0,
           0,
           0,
           0,
           0,
           0,
           0,
           0,
           0,
           0,
           0,
           0,
           0,
           0,
           0,
           0,
           0,
           0,
           0,
           0,
           0,
           0,
           0,
           0,
           0,
           0,
           0,
           0,
           0,
           0,
           0,
           0,
           0,
           0,
           0,
           0,
           0,
           0,
           0,
           0,
           0,
           0,
           0,
           0,
           0,
           0,
           0,
           0,
           0,
           0,
           0,
           0,
           7.179294592249358e-197
          ],
          [
           0,
           0,
           0,
           0,
           0,
           0,
           0,
           0,
           0,
           0,
           0,
           0,
           0,
           0,
           0,
           4.620463933647089e-167,
           0,
           0,
           0,
           0,
           0,
           0,
           0,
           0,
           0,
           0,
           0,
           0,
           0,
           0,
           0,
           0,
           0,
           0,
           0,
           0,
           0,
           0,
           0,
           0,
           0,
           0,
           0,
           0,
           0,
           0,
           0,
           0,
           0,
           0,
           0,
           0,
           0,
           0,
           0,
           0,
           0,
           0,
           0,
           0,
           0,
           0,
           0,
           0,
           0,
           0,
           0,
           0,
           0,
           0,
           0,
           0,
           0,
           0,
           0,
           0,
           0,
           0,
           0,
           1.3590250490482675e-237
          ],
          [
           0,
           0,
           0,
           0,
           0,
           0,
           0,
           0,
           0,
           0,
           0,
           0,
           0,
           0,
           0,
           1.3900843346567113e-202,
           0,
           0,
           0,
           0,
           0,
           0,
           0,
           0,
           0,
           0,
           0,
           0,
           0,
           0,
           0,
           0,
           0,
           0,
           0,
           0,
           0,
           0,
           0,
           0,
           0,
           0,
           0,
           0,
           0,
           0,
           0,
           0,
           0,
           0,
           0,
           0,
           0,
           0,
           0,
           0,
           0,
           0,
           0,
           0,
           0,
           0,
           0,
           0,
           0,
           0,
           0,
           0,
           0,
           0,
           0,
           0,
           0,
           0,
           0,
           0,
           0,
           0,
           0,
           3.84858770906895e-282
          ],
          [
           0,
           0,
           0,
           0,
           0,
           0,
           0,
           0,
           0,
           0,
           0,
           0,
           0,
           0,
           0,
           6.256406427221054e-242,
           0,
           0,
           0,
           0,
           0,
           0,
           0,
           0,
           0,
           0,
           0,
           0,
           0,
           0,
           0,
           0,
           0,
           0,
           0,
           0,
           0,
           0,
           0,
           0,
           0,
           0,
           0,
           0,
           0,
           0,
           0,
           0,
           0,
           0,
           0,
           0,
           0,
           0,
           0,
           0,
           0,
           0,
           0,
           0,
           0,
           0,
           0,
           0,
           0,
           0,
           0,
           0,
           0,
           0,
           0,
           0,
           0,
           0,
           0,
           0,
           0,
           0,
           0,
           0
          ],
          [
           0,
           0,
           0,
           0,
           0,
           0,
           0,
           0,
           0,
           0,
           0,
           0,
           0,
           0,
           0,
           4.212471713726885e-285,
           0,
           0,
           0,
           0,
           0,
           0,
           0,
           0,
           0,
           0,
           0,
           0,
           0,
           0,
           0,
           0,
           0,
           0,
           0,
           0,
           0,
           0,
           0,
           0,
           0,
           0,
           0,
           0,
           0,
           0,
           0,
           0,
           0,
           0,
           0,
           0,
           0,
           0,
           0,
           0,
           0,
           0,
           0,
           0,
           0,
           0,
           0,
           0,
           0,
           0,
           0,
           0,
           0,
           0,
           0,
           0,
           0,
           0,
           0,
           0,
           0,
           0,
           0,
           0
          ],
          [
           0,
           0,
           0,
           0,
           0,
           0,
           0,
           0,
           0,
           0,
           0,
           0,
           0,
           0,
           0,
           0,
           0,
           0,
           0,
           0,
           0,
           0,
           0,
           0,
           0,
           0,
           0,
           0,
           0,
           0,
           0,
           0,
           0,
           0,
           0,
           0,
           0,
           0,
           0,
           0,
           0,
           0,
           0,
           0,
           0,
           0,
           0,
           0,
           0,
           0,
           0,
           0,
           0,
           0,
           0,
           0,
           0,
           0,
           0,
           0,
           0,
           0,
           0,
           0,
           0,
           0,
           0,
           0,
           0,
           0,
           0,
           0,
           0,
           0,
           0,
           0,
           0,
           0,
           0,
           0
          ],
          [
           0,
           0,
           0,
           0,
           0,
           0,
           0,
           0,
           0,
           0,
           0,
           0,
           0,
           0,
           0,
           0,
           0,
           0,
           0,
           0,
           0,
           0,
           0,
           0,
           0,
           0,
           0,
           0,
           0,
           0,
           0,
           0,
           0,
           0,
           0,
           0,
           0,
           0,
           0,
           0,
           0,
           0,
           0,
           0,
           0,
           0,
           0,
           0,
           0,
           0,
           0,
           0,
           0,
           0,
           0,
           0,
           0,
           0,
           0,
           0,
           0,
           0,
           0,
           0,
           0,
           0,
           0,
           0,
           0,
           0,
           0,
           0,
           0,
           0,
           0,
           0,
           0,
           0,
           0,
           0
          ],
          [
           0,
           0,
           0,
           0,
           0,
           0,
           0,
           0,
           0,
           0,
           0,
           0,
           0,
           0,
           0,
           0,
           0,
           0,
           0,
           0,
           0,
           0,
           0,
           0,
           0,
           0,
           0,
           0,
           0,
           0,
           0,
           0,
           0,
           0,
           0,
           0,
           0,
           0,
           0,
           0,
           0,
           0,
           0,
           0,
           0,
           0,
           0,
           0,
           0,
           0,
           0,
           0,
           0,
           0,
           0,
           0,
           0,
           0,
           0,
           0,
           0,
           0,
           0,
           0,
           0,
           0,
           0,
           0,
           0,
           0,
           0,
           0,
           0,
           0,
           0,
           0,
           0,
           0,
           0,
           0
          ],
          [
           0,
           0,
           0,
           0,
           0,
           0,
           0,
           0,
           0,
           0,
           0,
           0,
           0,
           0,
           0,
           0,
           0,
           0,
           0,
           0,
           0,
           0,
           0,
           0,
           0,
           0,
           0,
           0,
           0,
           0,
           0,
           0,
           0,
           0,
           0,
           0,
           0,
           0,
           0,
           0,
           0,
           0,
           0,
           0,
           0,
           0,
           0,
           0,
           0,
           0,
           0,
           0,
           0,
           0,
           0,
           0,
           0,
           0,
           0,
           0,
           0,
           0,
           0,
           0,
           0,
           0,
           0,
           0,
           0,
           0,
           0,
           0,
           0,
           0,
           0,
           0,
           0,
           0,
           0,
           0
          ],
          [
           0,
           0,
           0,
           0,
           0,
           0,
           0,
           0,
           0,
           0,
           0,
           0,
           0,
           0,
           0,
           0,
           0,
           0,
           0,
           0,
           0,
           0,
           0,
           0,
           0,
           0,
           0,
           0,
           0,
           0,
           0,
           0,
           0,
           0,
           0,
           0,
           0,
           0,
           0,
           0,
           0,
           0,
           0,
           0,
           0,
           0,
           0,
           0,
           0,
           0,
           0,
           0,
           0,
           0,
           0,
           0,
           0,
           0,
           0,
           0,
           0,
           0,
           0,
           0,
           0,
           0,
           0,
           0,
           0,
           0,
           0,
           0,
           0,
           0,
           0,
           0,
           0,
           0,
           0,
           0
          ],
          [
           0,
           0,
           0,
           0,
           0,
           0,
           0,
           0,
           0,
           0,
           0,
           0,
           0,
           0,
           0,
           0,
           0,
           0,
           0,
           0,
           0,
           0,
           0,
           0,
           0,
           0,
           0,
           0,
           0,
           0,
           0,
           0,
           0,
           0,
           0,
           0,
           0,
           0,
           0,
           0,
           0,
           0,
           0,
           0,
           0,
           0,
           0,
           0,
           0,
           0,
           0,
           0,
           0,
           0,
           0,
           0,
           0,
           0,
           0,
           0,
           0,
           0,
           0,
           0,
           0,
           0,
           0,
           0,
           0,
           0,
           0,
           0,
           0,
           0,
           0,
           0,
           0,
           0,
           0,
           0
          ],
          [
           0,
           0,
           0,
           0,
           0,
           0,
           0,
           0,
           0,
           0,
           0,
           0,
           0,
           0,
           0,
           0,
           0,
           0,
           0,
           0,
           0,
           0,
           0,
           0,
           0,
           0,
           0,
           0,
           0,
           0,
           0,
           0,
           0,
           0,
           0,
           0,
           0,
           0,
           0,
           0,
           0,
           0,
           0,
           0,
           0,
           0,
           0,
           0,
           0,
           0,
           0,
           0,
           0,
           0,
           0,
           0,
           0,
           0,
           0,
           0,
           0,
           0,
           0,
           0,
           0,
           0,
           0,
           0,
           0,
           0,
           0,
           0,
           0,
           0,
           0,
           0,
           0,
           0,
           0,
           0
          ],
          [
           0,
           0,
           0,
           0,
           0,
           0,
           0,
           0,
           0,
           0,
           0,
           0,
           0,
           0,
           0,
           0,
           0,
           0,
           0,
           0,
           0,
           0,
           0,
           0,
           0,
           0,
           0,
           0,
           0,
           0,
           0,
           0,
           0,
           0,
           0,
           0,
           0,
           0,
           0,
           0,
           0,
           0,
           0,
           0,
           0,
           0,
           0,
           0,
           0,
           0,
           0,
           0,
           0,
           0,
           0,
           0,
           0,
           0,
           0,
           0,
           0,
           0,
           0,
           0,
           0,
           0,
           0,
           0,
           0,
           0,
           0,
           0,
           0,
           0,
           0,
           0,
           0,
           0,
           0,
           0
          ],
          [
           0,
           0,
           0,
           0,
           0,
           0,
           0,
           0,
           0,
           0,
           0,
           0,
           0,
           0,
           0,
           0,
           0,
           0,
           0,
           0,
           0,
           0,
           0,
           0,
           0,
           0,
           0,
           0,
           0,
           0,
           0,
           0,
           0,
           0,
           0,
           0,
           0,
           0,
           0,
           0,
           0,
           0,
           0,
           0,
           0,
           0,
           0,
           0,
           0,
           0,
           0,
           0,
           0,
           0,
           0,
           0,
           0,
           0,
           0,
           0,
           0,
           0,
           0,
           0,
           0,
           0,
           0,
           0,
           0,
           0,
           0,
           0,
           0,
           0,
           0,
           0,
           0,
           0,
           0,
           0
          ],
          [
           0,
           0,
           0,
           0,
           0,
           0,
           0,
           0,
           0,
           0,
           0,
           0,
           0,
           0,
           0,
           0,
           0,
           0,
           0,
           0,
           0,
           0,
           0,
           0,
           0,
           0,
           0,
           0,
           0,
           0,
           0,
           0,
           0,
           0,
           0,
           0,
           0,
           0,
           0,
           0,
           0,
           0,
           0,
           0,
           0,
           0,
           0,
           0,
           0,
           0,
           0,
           0,
           0,
           0,
           0,
           0,
           0,
           0,
           0,
           0,
           0,
           0,
           0,
           0,
           0,
           0,
           0,
           0,
           0,
           0,
           0,
           0,
           0,
           0,
           0,
           0,
           0,
           0,
           0,
           0
          ],
          [
           0,
           0,
           0,
           0,
           0,
           0,
           0,
           0,
           0,
           0,
           0,
           0,
           0,
           0,
           0,
           0,
           0,
           0,
           0,
           0,
           0,
           0,
           0,
           0,
           0,
           0,
           0,
           0,
           0,
           0,
           0,
           0,
           0,
           0,
           0,
           0,
           0,
           0,
           0,
           0,
           0,
           0,
           0,
           0,
           0,
           0,
           0,
           0,
           0,
           0,
           0,
           0,
           0,
           0,
           0,
           0,
           0,
           0,
           0,
           0,
           0,
           0,
           0,
           0,
           0,
           0,
           0,
           0,
           0,
           0,
           0,
           0,
           0,
           0,
           0,
           0,
           0,
           0,
           0,
           0
          ],
          [
           0,
           0,
           0,
           0,
           0,
           0,
           0,
           0,
           0,
           0,
           0,
           0,
           0,
           0,
           0,
           0,
           0,
           0,
           0,
           0,
           0,
           0,
           0,
           0,
           0,
           0,
           0,
           0,
           0,
           0,
           0,
           0,
           0,
           0,
           0,
           0,
           0,
           0,
           0,
           0,
           0,
           0,
           0,
           0,
           0,
           0,
           0,
           0,
           0,
           0,
           0,
           0,
           0,
           0,
           0,
           0,
           0,
           0,
           0,
           0,
           0,
           0,
           0,
           0,
           0,
           0,
           0,
           0,
           0,
           0,
           0,
           0,
           0,
           0,
           0,
           0,
           0,
           0,
           0,
           0
          ],
          [
           0,
           0,
           0,
           0,
           0,
           0,
           0,
           0,
           0,
           0,
           0,
           0,
           0,
           0,
           0,
           0,
           0,
           0,
           0,
           0,
           0,
           0,
           0,
           0,
           0,
           0,
           0,
           0,
           0,
           0,
           0,
           0,
           0,
           0,
           0,
           0,
           0,
           0,
           0,
           0,
           0,
           0,
           0,
           0,
           0,
           0,
           0,
           0,
           0,
           0,
           0,
           0,
           0,
           0,
           0,
           0,
           0,
           0,
           0,
           0,
           0,
           0,
           0,
           0,
           0,
           0,
           0,
           0,
           0,
           0,
           0,
           0,
           0,
           0,
           0,
           0,
           0,
           0,
           0,
           0
          ],
          [
           0,
           0,
           0,
           0,
           0,
           0,
           0,
           0,
           0,
           0,
           0,
           0,
           0,
           0,
           0,
           0,
           0,
           0,
           0,
           0,
           0,
           0,
           0,
           0,
           0,
           0,
           0,
           0,
           0,
           0,
           0,
           0,
           0,
           0,
           0,
           0,
           0,
           0,
           0,
           0,
           0,
           0,
           0,
           0,
           0,
           0,
           0,
           0,
           0,
           0,
           0,
           0,
           0,
           0,
           0,
           0,
           0,
           0,
           0,
           0,
           0,
           0,
           0,
           0,
           0,
           0,
           0,
           0,
           0,
           0,
           0,
           0,
           0,
           0,
           0,
           0,
           0,
           0,
           0,
           0
          ],
          [
           0,
           0,
           0,
           0,
           0,
           0,
           0,
           0,
           0,
           0,
           0,
           0,
           0,
           0,
           0,
           0,
           0,
           0,
           0,
           0,
           0,
           0,
           0,
           0,
           0,
           0,
           0,
           0,
           0,
           0,
           0,
           0,
           0,
           0,
           0,
           0,
           0,
           0,
           0,
           0,
           0,
           0,
           0,
           0,
           0,
           0,
           0,
           0,
           0,
           0,
           0,
           0,
           0,
           0,
           0,
           0,
           0,
           0,
           0,
           0,
           0,
           0,
           0,
           0,
           0,
           0,
           0,
           0,
           0,
           0,
           0,
           0,
           0,
           0,
           0,
           0,
           0,
           0,
           0,
           0
          ],
          [
           0,
           0,
           0,
           0,
           0,
           0,
           0,
           0,
           0,
           0,
           0,
           0,
           0,
           0,
           0,
           0,
           0,
           0,
           0,
           0,
           0,
           0,
           0,
           0,
           0,
           0,
           0,
           0,
           0,
           0,
           0,
           0,
           0,
           0,
           0,
           0,
           0,
           0,
           0,
           0,
           0,
           0,
           0,
           0,
           0,
           0,
           0,
           0,
           0,
           0,
           0,
           0,
           0,
           0,
           0,
           0,
           0,
           0,
           0,
           0,
           0,
           0,
           0,
           0,
           0,
           0,
           0,
           0,
           0,
           0,
           0,
           0,
           0,
           0,
           0,
           0,
           0,
           0,
           0,
           0
          ],
          [
           0,
           0,
           0,
           0,
           0,
           0,
           0,
           0,
           0,
           0,
           0,
           0,
           0,
           0,
           0,
           0,
           0,
           0,
           0,
           0,
           0,
           0,
           0,
           0,
           0,
           0,
           0,
           0,
           0,
           0,
           0,
           0,
           0,
           0,
           0,
           0,
           0,
           0,
           0,
           0,
           0,
           0,
           0,
           0,
           0,
           0,
           0,
           0,
           0,
           0,
           0,
           0,
           0,
           0,
           0,
           0,
           0,
           0,
           0,
           0,
           0,
           0,
           0,
           0,
           0,
           0,
           0,
           0,
           0,
           0,
           0,
           0,
           0,
           0,
           0,
           0,
           0,
           0,
           0,
           0
          ],
          [
           0,
           0,
           0,
           0,
           0,
           0,
           0,
           0,
           0,
           0,
           0,
           0,
           0,
           0,
           0,
           0,
           0,
           0,
           0,
           0,
           0,
           0,
           0,
           0,
           0,
           0,
           0,
           0,
           0,
           0,
           0,
           0,
           0,
           0,
           0,
           0,
           0,
           0,
           0,
           0,
           0,
           0,
           0,
           0,
           0,
           0,
           0,
           0,
           0,
           0,
           0,
           0,
           0,
           0,
           0,
           0,
           0,
           0,
           0,
           0,
           0,
           0,
           0,
           0,
           0,
           0,
           0,
           0,
           0,
           0,
           0,
           0,
           0,
           0,
           0,
           0,
           0,
           0,
           0,
           0
          ],
          [
           0,
           0,
           0,
           0,
           0,
           0,
           0,
           0,
           0,
           0,
           0,
           0,
           0,
           0,
           0,
           0,
           0,
           0,
           0,
           0,
           0,
           0,
           0,
           0,
           0,
           0,
           0,
           0,
           0,
           0,
           0,
           0,
           0,
           0,
           0,
           0,
           0,
           0,
           0,
           0,
           0,
           0,
           0,
           0,
           0,
           0,
           0,
           0,
           0,
           0,
           0,
           0,
           0,
           0,
           0,
           0,
           0,
           0,
           0,
           0,
           0,
           0,
           0,
           0,
           0,
           0,
           0,
           0,
           0,
           0,
           0,
           0,
           0,
           0,
           0,
           0,
           0,
           0,
           0,
           0
          ],
          [
           0,
           0,
           0,
           0,
           0,
           0,
           0,
           0,
           0,
           0,
           0,
           0,
           0,
           0,
           0,
           0,
           0,
           0,
           0,
           0,
           0,
           0,
           0,
           0,
           0,
           0,
           0,
           0,
           0,
           0,
           0,
           0,
           0,
           0,
           0,
           0,
           0,
           0,
           0,
           0,
           0,
           0,
           0,
           0,
           0,
           0,
           0,
           0,
           0,
           0,
           0,
           0,
           0,
           0,
           0,
           0,
           0,
           0,
           0,
           0,
           0,
           0,
           0,
           0,
           0,
           0,
           0,
           0,
           0,
           0,
           0,
           0,
           0,
           0,
           0,
           0,
           0,
           0,
           0,
           0
          ],
          [
           0,
           0,
           0,
           0,
           0,
           0,
           0,
           0,
           0,
           0,
           0,
           0,
           0,
           0,
           0,
           0,
           0,
           0,
           0,
           0,
           0,
           0,
           0,
           0,
           0,
           0,
           0,
           0,
           0,
           0,
           0,
           0,
           0,
           0,
           0,
           0,
           0,
           0,
           0,
           0,
           0,
           0,
           0,
           0,
           0,
           0,
           0,
           0,
           0,
           0,
           0,
           0,
           0,
           0,
           0,
           0,
           0,
           0,
           0,
           0,
           0,
           0,
           0,
           0,
           0,
           0,
           0,
           0,
           0,
           0,
           0,
           0,
           0,
           0,
           0,
           0,
           0,
           0,
           0,
           0
          ],
          [
           0,
           0,
           0,
           0,
           0,
           0,
           0,
           0,
           0,
           0,
           0,
           0,
           0,
           0,
           0,
           0,
           0,
           0,
           0,
           0,
           0,
           0,
           0,
           0,
           0,
           0,
           0,
           0,
           0,
           0,
           0,
           0,
           0,
           0,
           0,
           0,
           0,
           0,
           0,
           0,
           0,
           0,
           0,
           0,
           0,
           0,
           0,
           0,
           0,
           0,
           0,
           0,
           0,
           0,
           0,
           0,
           0,
           0,
           0,
           0,
           0,
           0,
           0,
           0,
           0,
           0,
           0,
           0,
           0,
           0,
           0,
           0,
           0,
           0,
           0,
           0,
           0,
           0,
           0,
           0
          ],
          [
           0,
           0,
           0,
           0,
           0,
           0,
           0,
           0,
           0,
           0,
           0,
           0,
           0,
           0,
           0,
           0,
           0,
           0,
           0,
           0,
           0,
           0,
           0,
           0,
           0,
           0,
           0,
           0,
           0,
           0,
           0,
           0,
           0,
           0,
           0,
           0,
           0,
           0,
           0,
           0,
           0,
           0,
           0,
           0,
           0,
           0,
           0,
           0,
           0,
           0,
           0,
           0,
           0,
           0,
           0,
           0,
           0,
           0,
           0,
           0,
           0,
           0,
           0,
           0,
           0,
           0,
           0,
           0,
           0,
           0,
           0,
           0,
           0,
           0,
           0,
           0,
           0,
           0,
           0,
           0
          ],
          [
           0,
           0,
           0,
           0,
           0,
           0,
           0,
           0,
           0,
           0,
           0,
           0,
           0,
           0,
           0,
           0,
           0,
           0,
           0,
           0,
           0,
           0,
           0,
           0,
           0,
           0,
           0,
           0,
           0,
           0,
           0,
           0,
           0,
           0,
           0,
           0,
           0,
           0,
           0,
           0,
           0,
           0,
           0,
           0,
           0,
           0,
           0,
           0,
           0,
           0,
           0,
           0,
           0,
           0,
           0,
           0,
           0,
           0,
           0,
           0,
           0,
           0,
           0,
           0,
           0,
           0,
           0,
           0,
           0,
           0,
           0,
           0,
           0,
           0,
           0,
           0,
           0,
           0,
           0,
           0
          ],
          [
           0,
           0,
           0,
           0,
           0,
           0,
           0,
           0,
           0,
           0,
           0,
           0,
           0,
           0,
           0,
           0,
           0,
           0,
           0,
           0,
           0,
           0,
           0,
           0,
           0,
           0,
           0,
           0,
           0,
           0,
           0,
           0,
           0,
           0,
           0,
           0,
           0,
           0,
           0,
           0,
           0,
           0,
           0,
           0,
           0,
           0,
           0,
           0,
           0,
           0,
           0,
           0,
           0,
           0,
           0,
           0,
           0,
           0,
           0,
           0,
           0,
           0,
           0,
           0,
           0,
           0,
           0,
           0,
           0,
           0,
           0,
           0,
           0,
           0,
           0,
           0,
           0,
           0,
           0,
           0
          ],
          [
           0,
           0,
           0,
           0,
           0,
           0,
           0,
           0,
           0,
           0,
           0,
           0,
           0,
           0,
           0,
           0,
           0,
           0,
           0,
           0,
           0,
           0,
           0,
           0,
           0,
           0,
           0,
           0,
           0,
           0,
           0,
           0,
           0,
           0,
           0,
           0,
           0,
           0,
           0,
           0,
           0,
           0,
           0,
           0,
           0,
           0,
           0,
           0,
           0,
           0,
           0,
           0,
           0,
           0,
           0,
           0,
           0,
           0,
           0,
           0,
           0,
           0,
           0,
           0,
           0,
           0,
           0,
           0,
           0,
           0,
           0,
           0,
           0,
           0,
           0,
           0,
           0,
           0,
           0,
           0
          ],
          [
           0,
           0,
           0,
           0,
           0,
           0,
           0,
           0,
           0,
           0,
           0,
           0,
           0,
           0,
           0,
           0,
           0,
           0,
           0,
           0,
           0,
           0,
           0,
           0,
           0,
           0,
           0,
           0,
           0,
           0,
           0,
           0,
           0,
           0,
           0,
           0,
           0,
           0,
           0,
           0,
           0,
           0,
           0,
           0,
           0,
           0,
           0,
           0,
           0,
           0,
           0,
           0,
           0,
           0,
           0,
           0,
           0,
           0,
           0,
           0,
           0,
           0,
           0,
           0,
           0,
           0,
           0,
           0,
           0,
           0,
           0,
           0,
           0,
           0,
           0,
           0,
           0,
           0,
           0,
           0
          ],
          [
           0,
           0,
           0,
           0,
           0,
           0,
           0,
           0,
           0,
           0,
           0,
           0,
           0,
           0,
           0,
           0,
           0,
           0,
           0,
           0,
           0,
           0,
           0,
           0,
           0,
           0,
           0,
           0,
           0,
           0,
           0,
           0,
           0,
           0,
           0,
           0,
           0,
           0,
           0,
           0,
           0,
           0,
           0,
           0,
           0,
           0,
           0,
           0,
           0,
           0,
           0,
           0,
           0,
           0,
           0,
           0,
           0,
           0,
           0,
           0,
           0,
           0,
           0,
           0,
           0,
           0,
           0,
           0,
           0,
           0,
           0,
           0,
           0,
           0,
           0,
           0,
           0,
           0,
           0,
           0
          ],
          [
           0,
           0,
           0,
           0,
           0,
           0,
           0,
           0,
           0,
           0,
           0,
           0,
           0,
           0,
           0,
           0,
           0,
           0,
           0,
           0,
           0,
           0,
           0,
           0,
           0,
           0,
           0,
           0,
           0,
           0,
           0,
           0,
           0,
           0,
           0,
           0,
           0,
           0,
           0,
           0,
           0,
           0,
           0,
           0,
           0,
           0,
           0,
           0,
           0,
           0,
           0,
           0,
           0,
           0,
           0,
           0,
           0,
           0,
           0,
           0,
           0,
           0,
           0,
           0,
           0,
           0,
           0,
           0,
           0,
           0,
           0,
           0,
           0,
           0,
           0,
           0,
           0,
           0,
           0,
           0
          ],
          [
           0,
           0,
           0,
           0,
           0,
           0,
           0,
           0,
           0,
           0,
           0,
           0,
           0,
           0,
           0,
           0,
           0,
           0,
           0,
           0,
           0,
           0,
           0,
           0,
           0,
           0,
           0,
           0,
           0,
           0,
           0,
           0,
           0,
           0,
           0,
           0,
           0,
           0,
           0,
           0,
           0,
           0,
           0,
           0,
           0,
           0,
           0,
           0,
           0,
           0,
           0,
           0,
           0,
           0,
           0,
           0,
           0,
           0,
           0,
           0,
           0,
           0,
           0,
           0,
           0,
           0,
           0,
           0,
           0,
           0,
           0,
           0,
           0,
           0,
           0,
           0,
           0,
           0,
           0,
           0
          ],
          [
           0,
           0,
           0,
           0,
           0,
           0,
           0,
           0,
           0,
           0,
           0,
           0,
           0,
           0,
           0,
           0,
           0,
           0,
           0,
           0,
           0,
           0,
           0,
           0,
           0,
           0,
           0,
           0,
           0,
           0,
           0,
           0,
           0,
           0,
           0,
           0,
           0,
           0,
           0,
           0,
           0,
           0,
           0,
           0,
           0,
           0,
           0,
           0,
           0,
           0,
           0,
           0,
           0,
           0,
           0,
           0,
           0,
           0,
           0,
           0,
           0,
           0,
           0,
           0,
           0,
           0,
           0,
           0,
           0,
           0,
           0,
           0,
           0,
           0,
           0,
           0,
           0,
           0,
           0,
           0
          ],
          [
           0,
           0,
           0,
           0,
           0,
           0,
           0,
           0,
           0,
           0,
           0,
           0,
           0,
           0,
           0,
           0,
           0,
           0,
           0,
           0,
           0,
           0,
           0,
           0,
           0,
           0,
           0,
           0,
           0,
           0,
           0,
           0,
           0,
           0,
           0,
           0,
           0,
           0,
           0,
           0,
           0,
           0,
           0,
           0,
           0,
           0,
           0,
           0,
           0,
           0,
           0,
           0,
           0,
           0,
           0,
           0,
           0,
           0,
           0,
           0,
           0,
           0,
           0,
           0,
           0,
           0,
           0,
           0,
           0,
           0,
           0,
           0,
           0,
           0,
           0,
           0,
           0,
           0,
           0,
           0
          ],
          [
           0,
           0,
           0,
           0,
           0,
           0,
           0,
           0,
           0,
           0,
           0,
           0,
           0,
           0,
           0,
           0,
           0,
           0,
           0,
           0,
           0,
           0,
           0,
           0,
           0,
           0,
           0,
           0,
           0,
           0,
           0,
           0,
           0,
           0,
           0,
           0,
           0,
           0,
           0,
           0,
           0,
           0,
           0,
           0,
           0,
           0,
           0,
           0,
           0,
           0,
           0,
           0,
           0,
           0,
           0,
           0,
           0,
           0,
           0,
           0,
           0,
           0,
           0,
           0,
           0,
           0,
           0,
           0,
           0,
           0,
           0,
           0,
           0,
           0,
           0,
           0,
           0,
           0,
           0,
           0
          ],
          [
           0,
           0,
           0,
           0,
           0,
           0,
           0,
           0,
           0,
           0,
           0,
           0,
           0,
           0,
           0,
           0,
           0,
           0,
           0,
           0,
           0,
           0,
           0,
           0,
           0,
           0,
           0,
           0,
           0,
           0,
           0,
           0,
           0,
           0,
           0,
           0,
           0,
           0,
           0,
           0,
           0,
           0,
           0,
           0,
           0,
           0,
           0,
           0,
           0,
           0,
           0,
           0,
           0,
           0,
           0,
           0,
           0,
           0,
           0,
           0,
           0,
           0,
           0,
           0,
           0,
           0,
           0,
           0,
           0,
           0,
           0,
           0,
           0,
           0,
           0,
           0,
           0,
           0,
           0,
           0
          ],
          [
           0,
           0,
           0,
           0,
           0,
           0,
           0,
           0,
           0,
           0,
           0,
           0,
           0,
           0,
           0,
           0,
           0,
           0,
           0,
           0,
           0,
           0,
           0,
           0,
           0,
           0,
           0,
           0,
           0,
           0,
           0,
           0,
           0,
           0,
           0,
           0,
           0,
           0,
           0,
           0,
           0,
           0,
           0,
           0,
           0,
           0,
           0,
           0,
           0,
           0,
           0,
           0,
           0,
           0,
           0,
           0,
           0,
           0,
           0,
           0,
           0,
           0,
           0,
           0,
           0,
           0,
           0,
           0,
           0,
           0,
           0,
           0,
           0,
           0,
           0,
           0,
           0,
           0,
           0,
           0
          ],
          [
           0,
           0,
           0,
           0,
           0,
           0,
           0,
           0,
           0,
           0,
           0,
           0,
           0,
           0,
           0,
           0,
           0,
           0,
           0,
           0,
           0,
           0,
           0,
           0,
           0,
           0,
           0,
           0,
           0,
           0,
           0,
           0,
           0,
           0,
           0,
           0,
           0,
           0,
           0,
           0,
           0,
           0,
           0,
           0,
           0,
           0,
           0,
           0,
           0,
           0,
           0,
           0,
           0,
           0,
           0,
           0,
           0,
           0,
           0,
           0,
           0,
           0,
           0,
           0,
           0,
           0,
           0,
           0,
           0,
           0,
           0,
           0,
           0,
           0,
           0,
           0,
           0,
           0,
           0,
           0
          ],
          [
           0,
           0,
           0,
           0,
           0,
           0,
           0,
           0,
           0,
           0,
           0,
           0,
           0,
           0,
           0,
           0,
           0,
           0,
           0,
           0,
           0,
           0,
           0,
           0,
           0,
           0,
           0,
           0,
           0,
           0,
           0,
           0,
           0,
           0,
           0,
           0,
           0,
           0,
           0,
           0,
           0,
           0,
           0,
           0,
           0,
           0,
           0,
           0,
           0,
           0,
           0,
           0,
           0,
           0,
           0,
           0,
           0,
           0,
           0,
           0,
           0,
           0,
           0,
           0,
           0,
           0,
           0,
           0,
           0,
           0,
           0,
           0,
           0,
           0,
           0,
           0,
           0,
           0,
           0,
           0
          ],
          [
           0,
           0,
           0,
           0,
           0,
           0,
           0,
           0,
           0,
           0,
           0,
           0,
           0,
           0,
           0,
           0,
           0,
           0,
           0,
           0,
           0,
           0,
           0,
           0,
           0,
           0,
           0,
           0,
           0,
           0,
           0,
           0,
           0,
           0,
           0,
           0,
           0,
           0,
           0,
           0,
           0,
           0,
           0,
           0,
           0,
           0,
           0,
           0,
           0,
           0,
           0,
           0,
           0,
           0,
           0,
           0,
           0,
           0,
           0,
           0,
           0,
           0,
           0,
           0,
           0,
           0,
           0,
           0,
           0,
           0,
           0,
           0,
           0,
           0,
           0,
           0,
           0,
           0,
           0,
           0
          ],
          [
           0,
           0,
           0,
           0,
           0,
           0,
           0,
           0,
           0,
           0,
           0,
           0,
           0,
           0,
           0,
           0,
           0,
           0,
           0,
           0,
           0,
           0,
           0,
           0,
           0,
           0,
           0,
           0,
           0,
           0,
           0,
           0,
           0,
           0,
           0,
           0,
           0,
           0,
           0,
           0,
           0,
           0,
           0,
           0,
           0,
           0,
           0,
           0,
           0,
           0,
           0,
           0,
           0,
           0,
           0,
           0,
           0,
           0,
           0,
           0,
           0,
           0,
           0,
           0,
           0,
           0,
           0,
           0,
           0,
           0,
           0,
           0,
           0,
           0,
           0,
           0,
           0,
           0,
           0,
           0
          ],
          [
           0,
           0,
           0,
           0,
           0,
           0,
           0,
           0,
           0,
           0,
           0,
           0,
           0,
           0,
           0,
           0,
           0,
           0,
           0,
           0,
           0,
           0,
           0,
           0,
           0,
           0,
           0,
           0,
           0,
           0,
           0,
           0,
           0,
           0,
           0,
           0,
           0,
           0,
           0,
           0,
           0,
           0,
           0,
           0,
           0,
           0,
           0,
           0,
           0,
           0,
           0,
           0,
           0,
           0,
           0,
           0,
           0,
           0,
           0,
           0,
           0,
           0,
           0,
           0,
           0,
           0,
           0,
           0,
           0,
           0,
           0,
           0,
           0,
           0,
           0,
           0,
           0,
           0,
           0,
           0
          ],
          [
           0,
           0,
           0,
           0,
           0,
           0,
           0,
           0,
           0,
           0,
           0,
           0,
           0,
           0,
           0,
           0,
           0,
           0,
           0,
           0,
           0,
           0,
           0,
           0,
           0,
           0,
           0,
           0,
           0,
           0,
           0,
           0,
           0,
           0,
           0,
           0,
           0,
           0,
           0,
           0,
           0,
           0,
           0,
           0,
           0,
           0,
           0,
           0,
           0,
           0,
           0,
           0,
           0,
           0,
           0,
           0,
           0,
           0,
           0,
           0,
           0,
           0,
           0,
           0,
           0,
           0,
           0,
           0,
           0,
           0,
           0,
           0,
           0,
           0,
           0,
           0,
           0,
           0,
           0,
           0
          ],
          [
           0,
           0,
           0,
           0,
           0,
           0,
           0,
           0,
           0,
           0,
           0,
           0,
           0,
           0,
           0,
           0,
           0,
           0,
           0,
           0,
           0,
           0,
           0,
           0,
           0,
           0,
           0,
           0,
           0,
           0,
           0,
           0,
           0,
           0,
           0,
           0,
           0,
           0,
           0,
           0,
           0,
           0,
           0,
           0,
           0,
           0,
           0,
           0,
           0,
           0,
           0,
           0,
           0,
           0,
           0,
           0,
           0,
           0,
           0,
           0,
           0,
           0,
           0,
           0,
           0,
           0,
           0,
           0,
           0,
           0,
           0,
           0,
           0,
           0,
           0,
           0,
           0,
           0,
           0,
           0
          ],
          [
           0,
           0,
           0,
           0,
           0,
           0,
           0,
           0,
           0,
           0,
           0,
           0,
           0,
           0,
           0,
           0,
           0,
           0,
           0,
           0,
           0,
           0,
           0,
           0,
           0,
           0,
           0,
           0,
           0,
           0,
           0,
           0,
           0,
           0,
           0,
           0,
           0,
           0,
           0,
           0,
           0,
           0,
           0,
           0,
           0,
           0,
           0,
           0,
           0,
           0,
           0,
           0,
           0,
           0,
           0,
           0,
           0,
           0,
           0,
           0,
           0,
           0,
           0,
           0,
           0,
           0,
           0,
           0,
           0,
           0,
           0,
           0,
           0,
           0,
           0,
           0,
           0,
           0,
           0,
           0
          ],
          [
           0,
           0,
           0,
           0,
           0,
           0,
           0,
           0,
           0,
           0,
           0,
           0,
           0,
           0,
           0,
           0,
           0,
           0,
           0,
           0,
           0,
           0,
           0,
           0,
           0,
           0,
           0,
           0,
           0,
           0,
           0,
           0,
           0,
           0,
           0,
           0,
           0,
           0,
           0,
           0,
           0,
           0,
           0,
           0,
           0,
           0,
           0,
           0,
           0,
           0,
           0,
           0,
           0,
           0,
           0,
           0,
           0,
           0,
           0,
           0,
           0,
           0,
           0,
           0,
           0,
           0,
           0,
           0,
           0,
           0,
           0,
           0,
           0,
           0,
           0,
           0,
           0,
           0,
           0,
           0
          ],
          [
           0,
           0,
           0,
           0,
           0,
           0,
           0,
           0,
           0,
           0,
           0,
           0,
           0,
           0,
           0,
           0,
           0,
           0,
           0,
           0,
           0,
           0,
           0,
           0,
           0,
           0,
           0,
           0,
           0,
           0,
           0,
           0,
           0,
           0,
           0,
           0,
           0,
           0,
           0,
           0,
           0,
           0,
           0,
           0,
           0,
           0,
           0,
           0,
           0,
           0,
           0,
           0,
           0,
           0,
           0,
           0,
           0,
           0,
           0,
           0,
           0,
           0,
           0,
           0,
           0,
           0,
           0,
           0,
           0,
           0,
           0,
           0,
           0,
           0,
           0,
           0,
           0,
           0,
           0,
           0
          ],
          [
           0,
           0,
           0,
           0,
           0,
           0,
           0,
           0,
           0,
           0,
           0,
           0,
           0,
           0,
           0,
           0,
           0,
           0,
           0,
           0,
           0,
           0,
           0,
           0,
           0,
           0,
           0,
           0,
           0,
           0,
           0,
           0,
           0,
           0,
           0,
           0,
           0,
           0,
           0,
           0,
           0,
           0,
           0,
           0,
           0,
           0,
           0,
           0,
           0,
           0,
           0,
           0,
           0,
           0,
           0,
           0,
           0,
           0,
           0,
           0,
           0,
           0,
           0,
           0,
           0,
           0,
           0,
           0,
           0,
           0,
           0,
           0,
           0,
           0,
           0,
           0,
           0,
           0,
           0,
           0
          ],
          [
           0,
           0,
           0,
           0,
           0,
           0,
           0,
           0,
           0,
           0,
           0,
           0,
           0,
           0,
           0,
           0,
           0,
           0,
           0,
           0,
           0,
           0,
           0,
           0,
           0,
           0,
           0,
           0,
           0,
           0,
           0,
           0,
           0,
           0,
           0,
           0,
           0,
           0,
           0,
           0,
           0,
           0,
           0,
           0,
           0,
           0,
           0,
           0,
           0,
           0,
           0,
           0,
           0,
           0,
           0,
           0,
           0,
           0,
           0,
           0,
           0,
           0,
           0,
           0,
           0,
           0,
           0,
           0,
           0,
           0,
           0,
           0,
           0,
           0,
           0,
           0,
           0,
           0,
           0,
           0
          ],
          [
           0,
           0,
           0,
           0,
           0,
           0,
           0,
           0,
           0,
           0,
           0,
           0,
           0,
           0,
           0,
           0,
           0,
           0,
           0,
           0,
           0,
           0,
           0,
           0,
           0,
           0,
           0,
           0,
           0,
           0,
           0,
           0,
           0,
           0,
           0,
           0,
           0,
           0,
           0,
           0,
           0,
           0,
           0,
           0,
           0,
           0,
           0,
           0,
           0,
           0,
           0,
           0,
           0,
           0,
           0,
           0,
           0,
           0,
           0,
           0,
           0,
           0,
           0,
           0,
           0,
           0,
           0,
           0,
           0,
           0,
           0,
           0,
           0,
           0,
           0,
           0,
           0,
           0,
           0,
           0
          ],
          [
           0,
           0,
           0,
           0,
           0,
           0,
           0,
           0,
           0,
           0,
           0,
           0,
           0,
           0,
           0,
           0,
           0,
           0,
           0,
           0,
           0,
           0,
           0,
           0,
           0,
           0,
           0,
           0,
           0,
           0,
           0,
           0,
           0,
           0,
           0,
           0,
           0,
           0,
           0,
           0,
           0,
           0,
           0,
           0,
           0,
           0,
           0,
           0,
           0,
           0,
           0,
           0,
           0,
           0,
           0,
           0,
           0,
           0,
           0,
           0,
           0,
           0,
           0,
           0,
           0,
           0,
           0,
           0,
           0,
           0,
           0,
           0,
           0,
           0,
           0,
           0,
           0,
           0,
           0,
           0
          ],
          [
           0,
           0,
           0,
           0,
           0,
           0,
           0,
           0,
           0,
           0,
           0,
           0,
           0,
           0,
           0,
           0,
           0,
           0,
           0,
           0,
           0,
           0,
           0,
           0,
           0,
           0,
           0,
           0,
           0,
           0,
           0,
           0,
           0,
           0,
           0,
           0,
           0,
           0,
           0,
           0,
           0,
           0,
           0,
           0,
           0,
           0,
           0,
           0,
           0,
           0,
           0,
           0,
           0,
           0,
           0,
           0,
           0,
           0,
           0,
           0,
           0,
           0,
           0,
           0,
           0,
           0,
           0,
           0,
           0,
           0,
           0,
           0,
           0,
           0,
           0,
           0,
           0,
           0,
           0,
           0
          ],
          [
           0,
           0,
           0,
           0,
           0,
           0,
           0,
           0,
           0,
           0,
           0,
           0,
           0,
           0,
           0,
           0,
           0,
           0,
           0,
           0,
           0,
           0,
           0,
           0,
           0,
           0,
           0,
           0,
           0,
           0,
           0,
           0,
           0,
           0,
           0,
           0,
           0,
           0,
           0,
           0,
           0,
           0,
           0,
           0,
           0,
           0,
           0,
           0,
           0,
           0,
           0,
           0,
           0,
           0,
           0,
           0,
           0,
           0,
           0,
           0,
           0,
           0,
           0,
           0,
           0,
           0,
           0,
           0,
           0,
           0,
           0,
           0,
           0,
           0,
           0,
           0,
           0,
           0,
           0,
           0
          ]
         ]
        },
        {
         "hoverinfo": "text",
         "hovertext": "<b>fish</b><br>Environmental Footprint Index: 3.06",
         "marker": {
          "color": "black",
          "line": {
           "width": 3
          },
          "size": 15,
          "symbol": "circle-open"
         },
         "mode": "markers",
         "name": "fish",
         "showlegend": false,
         "type": "scatter",
         "x": [
          117.03723508825192
         ],
         "y": [
          40.42782815126106
         ]
        },
        {
         "hoverinfo": "text",
         "hovertext": "<b>meat</b><br>Environmental Footprint Index: 4.85",
         "marker": {
          "color": "black",
          "line": {
           "width": 3
          },
          "size": 15,
          "symbol": "circle-open"
         },
         "mode": "markers",
         "name": "meat",
         "showlegend": false,
         "type": "scatter",
         "x": [
          897.9832927446906
         ],
         "y": [
          70.98383932121004
         ]
        },
        {
         "hoverinfo": "text",
         "hovertext": "<b>meat100</b><br>Environmental Footprint Index: 8.52",
         "marker": {
          "color": "black",
          "line": {
           "width": 3
          },
          "size": 15,
          "symbol": "circle-open"
         },
         "mode": "markers",
         "name": "meat100",
         "showlegend": false,
         "type": "scatter",
         "x": [
          7479.67676746736
         ],
         "y": [
          -59.32290064513839
         ]
        },
        {
         "hoverinfo": "text",
         "hovertext": "<b>meat50</b><br>Environmental Footprint Index: 3.27",
         "marker": {
          "color": "black",
          "line": {
           "width": 3
          },
          "size": 15,
          "symbol": "circle-open"
         },
         "mode": "markers",
         "name": "meat50",
         "showlegend": false,
         "type": "scatter",
         "x": [
          -1713.654447426192
         ],
         "y": [
          93.02426474883907
         ]
        },
        {
         "hoverinfo": "text",
         "hovertext": "<b>vegan</b><br>Environmental Footprint Index: 1.00",
         "marker": {
          "color": "black",
          "line": {
           "width": 3
          },
          "size": 15,
          "symbol": "circle-open"
         },
         "mode": "markers",
         "name": "vegan",
         "showlegend": false,
         "type": "scatter",
         "x": [
          -4526.497777914201
         ],
         "y": [
          -91.32665177994993
         ]
        },
        {
         "hoverinfo": "text",
         "hovertext": "<b>veggie</b><br>Environmental Footprint Index: 2.47",
         "marker": {
          "color": "black",
          "line": {
           "width": 3
          },
          "size": 15,
          "symbol": "circle-open"
         },
         "mode": "markers",
         "name": "veggie",
         "showlegend": false,
         "type": "scatter",
         "x": [
          -2254.5450699598955
         ],
         "y": [
          -53.786379796221304
         ]
        }
       ],
       "layout": {
        "annotations": [
         {
          "bgcolor": "rgba(255, 255, 255, 0.8)",
          "bordercolor": "black",
          "borderpad": 3,
          "borderwidth": 1,
          "font": {
           "color": "black",
           "size": 12
          },
          "showarrow": false,
          "text": "fish<br>3.06",
          "x": 117.03723508825192,
          "xshift": 10,
          "y": 40.42782815126106,
          "yshift": -45
         },
         {
          "bgcolor": "rgba(255, 255, 255, 0.8)",
          "bordercolor": "black",
          "borderpad": 3,
          "borderwidth": 1,
          "font": {
           "color": "black",
           "size": 12
          },
          "showarrow": false,
          "text": "meat<br>4.85",
          "x": 897.9832927446906,
          "xshift": 45,
          "y": 70.98383932121004,
          "yshift": 5
         },
         {
          "bgcolor": "rgba(255, 255, 255, 0.8)",
          "bordercolor": "black",
          "borderpad": 3,
          "borderwidth": 1,
          "font": {
           "color": "black",
           "size": 12
          },
          "showarrow": false,
          "text": "meat100<br>8.52",
          "x": 7479.67676746736,
          "xshift": -50,
          "y": -59.32290064513839,
          "yshift": -30
         },
         {
          "bgcolor": "rgba(255, 255, 255, 0.8)",
          "bordercolor": "black",
          "borderpad": 3,
          "borderwidth": 1,
          "font": {
           "color": "black",
           "size": 12
          },
          "showarrow": false,
          "text": "meat50<br>3.27",
          "x": -1713.654447426192,
          "xshift": -50,
          "y": 93.02426474883907,
          "yshift": 25
         },
         {
          "bgcolor": "rgba(255, 255, 255, 0.8)",
          "bordercolor": "black",
          "borderpad": 3,
          "borderwidth": 1,
          "font": {
           "color": "black",
           "size": 12
          },
          "showarrow": false,
          "text": "vegan<br>1.00",
          "x": -4526.497777914201,
          "xshift": 50,
          "y": -91.32665177994993,
          "yshift": 30
         },
         {
          "bgcolor": "rgba(255, 255, 255, 0.8)",
          "bordercolor": "black",
          "borderpad": 3,
          "borderwidth": 1,
          "font": {
           "color": "black",
           "size": 12
          },
          "showarrow": false,
          "text": "veggie<br>2.47",
          "x": -2254.5450699598955,
          "xshift": -50,
          "y": -53.786379796221304,
          "yshift": 50
         },
         {
          "align": "right",
          "bgcolor": "white",
          "bordercolor": "black",
          "borderpad": 4,
          "borderwidth": 1,
          "font": {
           "size": 12
          },
          "showarrow": false,
          "text": "<b>Variance explained by principal components:</b><br>Principal Component 1: 99.96%<br>Principal Component 2: 0.04%",
          "x": 0.98,
          "xref": "paper",
          "y": 0.02,
          "yref": "paper"
         }
        ],
        "height": 700,
        "plot_bgcolor": "rgba(240, 240, 240, 0.8)",
        "template": {
         "data": {
          "bar": [
           {
            "error_x": {
             "color": "#2a3f5f"
            },
            "error_y": {
             "color": "#2a3f5f"
            },
            "marker": {
             "line": {
              "color": "#E5ECF6",
              "width": 0.5
             },
             "pattern": {
              "fillmode": "overlay",
              "size": 10,
              "solidity": 0.2
             }
            },
            "type": "bar"
           }
          ],
          "barpolar": [
           {
            "marker": {
             "line": {
              "color": "#E5ECF6",
              "width": 0.5
             },
             "pattern": {
              "fillmode": "overlay",
              "size": 10,
              "solidity": 0.2
             }
            },
            "type": "barpolar"
           }
          ],
          "carpet": [
           {
            "aaxis": {
             "endlinecolor": "#2a3f5f",
             "gridcolor": "white",
             "linecolor": "white",
             "minorgridcolor": "white",
             "startlinecolor": "#2a3f5f"
            },
            "baxis": {
             "endlinecolor": "#2a3f5f",
             "gridcolor": "white",
             "linecolor": "white",
             "minorgridcolor": "white",
             "startlinecolor": "#2a3f5f"
            },
            "type": "carpet"
           }
          ],
          "choropleth": [
           {
            "colorbar": {
             "outlinewidth": 0,
             "ticks": ""
            },
            "type": "choropleth"
           }
          ],
          "contour": [
           {
            "colorbar": {
             "outlinewidth": 0,
             "ticks": ""
            },
            "colorscale": [
             [
              0,
              "#0d0887"
             ],
             [
              0.1111111111111111,
              "#46039f"
             ],
             [
              0.2222222222222222,
              "#7201a8"
             ],
             [
              0.3333333333333333,
              "#9c179e"
             ],
             [
              0.4444444444444444,
              "#bd3786"
             ],
             [
              0.5555555555555556,
              "#d8576b"
             ],
             [
              0.6666666666666666,
              "#ed7953"
             ],
             [
              0.7777777777777778,
              "#fb9f3a"
             ],
             [
              0.8888888888888888,
              "#fdca26"
             ],
             [
              1,
              "#f0f921"
             ]
            ],
            "type": "contour"
           }
          ],
          "contourcarpet": [
           {
            "colorbar": {
             "outlinewidth": 0,
             "ticks": ""
            },
            "type": "contourcarpet"
           }
          ],
          "heatmap": [
           {
            "colorbar": {
             "outlinewidth": 0,
             "ticks": ""
            },
            "colorscale": [
             [
              0,
              "#0d0887"
             ],
             [
              0.1111111111111111,
              "#46039f"
             ],
             [
              0.2222222222222222,
              "#7201a8"
             ],
             [
              0.3333333333333333,
              "#9c179e"
             ],
             [
              0.4444444444444444,
              "#bd3786"
             ],
             [
              0.5555555555555556,
              "#d8576b"
             ],
             [
              0.6666666666666666,
              "#ed7953"
             ],
             [
              0.7777777777777778,
              "#fb9f3a"
             ],
             [
              0.8888888888888888,
              "#fdca26"
             ],
             [
              1,
              "#f0f921"
             ]
            ],
            "type": "heatmap"
           }
          ],
          "heatmapgl": [
           {
            "colorbar": {
             "outlinewidth": 0,
             "ticks": ""
            },
            "colorscale": [
             [
              0,
              "#0d0887"
             ],
             [
              0.1111111111111111,
              "#46039f"
             ],
             [
              0.2222222222222222,
              "#7201a8"
             ],
             [
              0.3333333333333333,
              "#9c179e"
             ],
             [
              0.4444444444444444,
              "#bd3786"
             ],
             [
              0.5555555555555556,
              "#d8576b"
             ],
             [
              0.6666666666666666,
              "#ed7953"
             ],
             [
              0.7777777777777778,
              "#fb9f3a"
             ],
             [
              0.8888888888888888,
              "#fdca26"
             ],
             [
              1,
              "#f0f921"
             ]
            ],
            "type": "heatmapgl"
           }
          ],
          "histogram": [
           {
            "marker": {
             "pattern": {
              "fillmode": "overlay",
              "size": 10,
              "solidity": 0.2
             }
            },
            "type": "histogram"
           }
          ],
          "histogram2d": [
           {
            "colorbar": {
             "outlinewidth": 0,
             "ticks": ""
            },
            "colorscale": [
             [
              0,
              "#0d0887"
             ],
             [
              0.1111111111111111,
              "#46039f"
             ],
             [
              0.2222222222222222,
              "#7201a8"
             ],
             [
              0.3333333333333333,
              "#9c179e"
             ],
             [
              0.4444444444444444,
              "#bd3786"
             ],
             [
              0.5555555555555556,
              "#d8576b"
             ],
             [
              0.6666666666666666,
              "#ed7953"
             ],
             [
              0.7777777777777778,
              "#fb9f3a"
             ],
             [
              0.8888888888888888,
              "#fdca26"
             ],
             [
              1,
              "#f0f921"
             ]
            ],
            "type": "histogram2d"
           }
          ],
          "histogram2dcontour": [
           {
            "colorbar": {
             "outlinewidth": 0,
             "ticks": ""
            },
            "colorscale": [
             [
              0,
              "#0d0887"
             ],
             [
              0.1111111111111111,
              "#46039f"
             ],
             [
              0.2222222222222222,
              "#7201a8"
             ],
             [
              0.3333333333333333,
              "#9c179e"
             ],
             [
              0.4444444444444444,
              "#bd3786"
             ],
             [
              0.5555555555555556,
              "#d8576b"
             ],
             [
              0.6666666666666666,
              "#ed7953"
             ],
             [
              0.7777777777777778,
              "#fb9f3a"
             ],
             [
              0.8888888888888888,
              "#fdca26"
             ],
             [
              1,
              "#f0f921"
             ]
            ],
            "type": "histogram2dcontour"
           }
          ],
          "mesh3d": [
           {
            "colorbar": {
             "outlinewidth": 0,
             "ticks": ""
            },
            "type": "mesh3d"
           }
          ],
          "parcoords": [
           {
            "line": {
             "colorbar": {
              "outlinewidth": 0,
              "ticks": ""
             }
            },
            "type": "parcoords"
           }
          ],
          "pie": [
           {
            "automargin": true,
            "type": "pie"
           }
          ],
          "scatter": [
           {
            "fillpattern": {
             "fillmode": "overlay",
             "size": 10,
             "solidity": 0.2
            },
            "type": "scatter"
           }
          ],
          "scatter3d": [
           {
            "line": {
             "colorbar": {
              "outlinewidth": 0,
              "ticks": ""
             }
            },
            "marker": {
             "colorbar": {
              "outlinewidth": 0,
              "ticks": ""
             }
            },
            "type": "scatter3d"
           }
          ],
          "scattercarpet": [
           {
            "marker": {
             "colorbar": {
              "outlinewidth": 0,
              "ticks": ""
             }
            },
            "type": "scattercarpet"
           }
          ],
          "scattergeo": [
           {
            "marker": {
             "colorbar": {
              "outlinewidth": 0,
              "ticks": ""
             }
            },
            "type": "scattergeo"
           }
          ],
          "scattergl": [
           {
            "marker": {
             "colorbar": {
              "outlinewidth": 0,
              "ticks": ""
             }
            },
            "type": "scattergl"
           }
          ],
          "scattermapbox": [
           {
            "marker": {
             "colorbar": {
              "outlinewidth": 0,
              "ticks": ""
             }
            },
            "type": "scattermapbox"
           }
          ],
          "scatterpolar": [
           {
            "marker": {
             "colorbar": {
              "outlinewidth": 0,
              "ticks": ""
             }
            },
            "type": "scatterpolar"
           }
          ],
          "scatterpolargl": [
           {
            "marker": {
             "colorbar": {
              "outlinewidth": 0,
              "ticks": ""
             }
            },
            "type": "scatterpolargl"
           }
          ],
          "scatterternary": [
           {
            "marker": {
             "colorbar": {
              "outlinewidth": 0,
              "ticks": ""
             }
            },
            "type": "scatterternary"
           }
          ],
          "surface": [
           {
            "colorbar": {
             "outlinewidth": 0,
             "ticks": ""
            },
            "colorscale": [
             [
              0,
              "#0d0887"
             ],
             [
              0.1111111111111111,
              "#46039f"
             ],
             [
              0.2222222222222222,
              "#7201a8"
             ],
             [
              0.3333333333333333,
              "#9c179e"
             ],
             [
              0.4444444444444444,
              "#bd3786"
             ],
             [
              0.5555555555555556,
              "#d8576b"
             ],
             [
              0.6666666666666666,
              "#ed7953"
             ],
             [
              0.7777777777777778,
              "#fb9f3a"
             ],
             [
              0.8888888888888888,
              "#fdca26"
             ],
             [
              1,
              "#f0f921"
             ]
            ],
            "type": "surface"
           }
          ],
          "table": [
           {
            "cells": {
             "fill": {
              "color": "#EBF0F8"
             },
             "line": {
              "color": "white"
             }
            },
            "header": {
             "fill": {
              "color": "#C8D4E3"
             },
             "line": {
              "color": "white"
             }
            },
            "type": "table"
           }
          ]
         },
         "layout": {
          "annotationdefaults": {
           "arrowcolor": "#2a3f5f",
           "arrowhead": 0,
           "arrowwidth": 1
          },
          "autotypenumbers": "strict",
          "coloraxis": {
           "colorbar": {
            "outlinewidth": 0,
            "ticks": ""
           }
          },
          "colorscale": {
           "diverging": [
            [
             0,
             "#8e0152"
            ],
            [
             0.1,
             "#c51b7d"
            ],
            [
             0.2,
             "#de77ae"
            ],
            [
             0.3,
             "#f1b6da"
            ],
            [
             0.4,
             "#fde0ef"
            ],
            [
             0.5,
             "#f7f7f7"
            ],
            [
             0.6,
             "#e6f5d0"
            ],
            [
             0.7,
             "#b8e186"
            ],
            [
             0.8,
             "#7fbc41"
            ],
            [
             0.9,
             "#4d9221"
            ],
            [
             1,
             "#276419"
            ]
           ],
           "sequential": [
            [
             0,
             "#0d0887"
            ],
            [
             0.1111111111111111,
             "#46039f"
            ],
            [
             0.2222222222222222,
             "#7201a8"
            ],
            [
             0.3333333333333333,
             "#9c179e"
            ],
            [
             0.4444444444444444,
             "#bd3786"
            ],
            [
             0.5555555555555556,
             "#d8576b"
            ],
            [
             0.6666666666666666,
             "#ed7953"
            ],
            [
             0.7777777777777778,
             "#fb9f3a"
            ],
            [
             0.8888888888888888,
             "#fdca26"
            ],
            [
             1,
             "#f0f921"
            ]
           ],
           "sequentialminus": [
            [
             0,
             "#0d0887"
            ],
            [
             0.1111111111111111,
             "#46039f"
            ],
            [
             0.2222222222222222,
             "#7201a8"
            ],
            [
             0.3333333333333333,
             "#9c179e"
            ],
            [
             0.4444444444444444,
             "#bd3786"
            ],
            [
             0.5555555555555556,
             "#d8576b"
            ],
            [
             0.6666666666666666,
             "#ed7953"
            ],
            [
             0.7777777777777778,
             "#fb9f3a"
            ],
            [
             0.8888888888888888,
             "#fdca26"
            ],
            [
             1,
             "#f0f921"
            ]
           ]
          },
          "colorway": [
           "#636efa",
           "#EF553B",
           "#00cc96",
           "#ab63fa",
           "#FFA15A",
           "#19d3f3",
           "#FF6692",
           "#B6E880",
           "#FF97FF",
           "#FECB52"
          ],
          "font": {
           "color": "#2a3f5f"
          },
          "geo": {
           "bgcolor": "white",
           "lakecolor": "white",
           "landcolor": "#E5ECF6",
           "showlakes": true,
           "showland": true,
           "subunitcolor": "white"
          },
          "hoverlabel": {
           "align": "left"
          },
          "hovermode": "closest",
          "mapbox": {
           "style": "light"
          },
          "paper_bgcolor": "white",
          "plot_bgcolor": "#E5ECF6",
          "polar": {
           "angularaxis": {
            "gridcolor": "white",
            "linecolor": "white",
            "ticks": ""
           },
           "bgcolor": "#E5ECF6",
           "radialaxis": {
            "gridcolor": "white",
            "linecolor": "white",
            "ticks": ""
           }
          },
          "scene": {
           "xaxis": {
            "backgroundcolor": "#E5ECF6",
            "gridcolor": "white",
            "gridwidth": 2,
            "linecolor": "white",
            "showbackground": true,
            "ticks": "",
            "zerolinecolor": "white"
           },
           "yaxis": {
            "backgroundcolor": "#E5ECF6",
            "gridcolor": "white",
            "gridwidth": 2,
            "linecolor": "white",
            "showbackground": true,
            "ticks": "",
            "zerolinecolor": "white"
           },
           "zaxis": {
            "backgroundcolor": "#E5ECF6",
            "gridcolor": "white",
            "gridwidth": 2,
            "linecolor": "white",
            "showbackground": true,
            "ticks": "",
            "zerolinecolor": "white"
           }
          },
          "shapedefaults": {
           "line": {
            "color": "#2a3f5f"
           }
          },
          "ternary": {
           "aaxis": {
            "gridcolor": "white",
            "linecolor": "white",
            "ticks": ""
           },
           "baxis": {
            "gridcolor": "white",
            "linecolor": "white",
            "ticks": ""
           },
           "bgcolor": "#E5ECF6",
           "caxis": {
            "gridcolor": "white",
            "linecolor": "white",
            "ticks": ""
           }
          },
          "title": {
           "x": 0.05
          },
          "xaxis": {
           "automargin": true,
           "gridcolor": "white",
           "linecolor": "white",
           "ticks": "",
           "title": {
            "standoff": 15
           },
           "zerolinecolor": "white",
           "zerolinewidth": 2
          },
          "yaxis": {
           "automargin": true,
           "gridcolor": "white",
           "linecolor": "white",
           "ticks": "",
           "title": {
            "standoff": 15
           },
           "zerolinecolor": "white",
           "zerolinewidth": 2
          }
         }
        },
        "title": {
         "font": {
          "size": 16
         },
         "text": "'Environmental footprint map' of dietary types<br><sup>Mapping environmental influences to two-dimensional space based on principal component analysis</sup>"
        },
        "width": 800,
        "xaxis": {
         "showgrid": false,
         "showticklabels": false,
         "title": {
          "text": "Environmental impact principal component 1 (99.96%)"
         },
         "zeroline": false
        },
        "yaxis": {
         "showgrid": false,
         "showticklabels": false,
         "title": {
          "text": "Environmental impact principal component 2 (0.04%)"
         },
         "zeroline": false
        }
       }
      }
     },
     "metadata": {},
     "output_type": "display_data"
    }
   ],
   "source": [
    "pca_input = diet_impact[[f'mean_{ind}' for ind in env_indicators]].values\n",
    "pca = PCA(n_components=2)\n",
    "pca_result = pca.fit_transform(pca_input)\n",
    "\n",
    "map_data = pd.DataFrame({\n",
    "    'diet_group': diet_impact['diet_group'],\n",
    "    'x': pca_result[:, 0],\n",
    "    'y': pca_result[:, 1],\n",
    "    'total_impact': diet_impact['total_env_impact'],\n",
    "    'footprint': diet_impact['env_footprint_index']\n",
    "})\n",
    "\n",
    "grid_size = 80\n",
    "x = np.linspace(map_data['x'].min() - 0.5, map_data['x'].max() + 0.5, grid_size)\n",
    "y = np.linspace(map_data['y'].min() - 0.5, map_data['y'].max() + 0.5, grid_size)\n",
    "X, Y = np.meshgrid(x, y)\n",
    "Z = np.zeros((grid_size, grid_size))\n",
    "\n",
    "for _, row in map_data.iterrows():\n",
    "    dist = np.sqrt((X - row['x'])**2 + (Y - row['y'])**2)\n",
    "    influence = row['footprint'] * np.exp(-0.8 * dist**2)\n",
    "    Z += influence * 0.8\n",
    "\n",
    "fig = go.Figure()\n",
    "\n",
    "fig.add_trace(go.Contour(\n",
    "    z=Z,\n",
    "    x=x,\n",
    "    y=y,\n",
    "    colorscale=\"YlOrRd\",\n",
    "    contours=dict(\n",
    "        start=0, \n",
    "        end=Z.max(), \n",
    "        size=(Z.max()-0)/15,\n",
    "        showlabels=False  \n",
    "    ),\n",
    "    colorbar=dict(\n",
    "        title=\"Environmental impact intensity\",\n",
    "        titleside=\"right\",\n",
    "        titlefont=dict(size=12)\n",
    "    ),\n",
    "    line=dict(width=0.5, color=\"rgba(150, 150, 150, 0.5)\"),\n",
    "    showscale=True,\n",
    "    opacity=0.5  \n",
    "))\n",
    "\n",
    "for i, row in map_data.iterrows():\n",
    "    diet = row['diet_group']\n",
    "\n",
    "    fig.add_trace(go.Scatter(\n",
    "        x=[row['x']],\n",
    "        y=[row['y']],\n",
    "        mode=\"markers\",\n",
    "        marker=dict(\n",
    "            size=15,\n",
    "            color=\"black\",\n",
    "            symbol=\"circle-open\",\n",
    "            line=dict(width=3)\n",
    "        ),\n",
    "        name=diet,\n",
    "        showlegend=False,\n",
    "        hoverinfo=\"text\",\n",
    "        hovertext=f\"<b>{diet}</b><br>Environmental Footprint Index: {row['footprint']:.2f}\"\n",
    "    ))\n",
    "\n",
    "    if diet == 'meat':\n",
    "        fig.add_annotation(\n",
    "            x=row['x'],\n",
    "            y=row['y'],\n",
    "            text=f\"{diet}<br>{row['footprint']:.2f}\",\n",
    "            showarrow=False,\n",
    "            xshift=45,  \n",
    "            yshift=5,   \n",
    "            font=dict(size=12, color=\"black\"),\n",
    "            bgcolor=\"rgba(255, 255, 255, 0.8)\",  \n",
    "            bordercolor=\"black\",\n",
    "            borderwidth=1,\n",
    "            borderpad=3\n",
    "        )\n",
    "    elif diet == 'meat50':\n",
    "        fig.add_annotation(\n",
    "            x=row['x'],\n",
    "            y=row['y'],\n",
    "            text=f\"{diet}<br>{row['footprint']:.2f}\",\n",
    "            showarrow=False,\n",
    "            xshift=-50,  \n",
    "            yshift=25,   \n",
    "            font=dict(size=12, color=\"black\"),\n",
    "            bgcolor=\"rgba(255, 255, 255, 0.8)\",\n",
    "            bordercolor=\"black\",\n",
    "            borderwidth=1,\n",
    "            borderpad=3\n",
    "        )\n",
    "    elif diet == 'fish':\n",
    "        fig.add_annotation(\n",
    "            x=row['x'],\n",
    "            y=row['y'],\n",
    "            text=f\"{diet}<br>{row['footprint']:.2f}\",\n",
    "            showarrow=False,\n",
    "            xshift=10,   \n",
    "            yshift=-45,  \n",
    "            font=dict(size=12, color=\"black\"),\n",
    "            bgcolor=\"rgba(255, 255, 255, 0.8)\",\n",
    "            bordercolor=\"black\",\n",
    "            borderwidth=1,\n",
    "            borderpad=3\n",
    "        )\n",
    "    elif diet == 'meat100':\n",
    "        fig.add_annotation(\n",
    "            x=row['x'],\n",
    "            y=row['y'],\n",
    "            text=f\"{diet}<br>{row['footprint']:.2f}\",\n",
    "            showarrow=False,\n",
    "            xshift=-50,  \n",
    "            yshift=-30,  \n",
    "            font=dict(size=12, color=\"black\"),\n",
    "            bgcolor=\"rgba(255, 255, 255, 0.8)\",\n",
    "            bordercolor=\"black\",\n",
    "            borderwidth=1,\n",
    "            borderpad=3\n",
    "        )\n",
    "    elif diet == 'vegan':\n",
    "        fig.add_annotation(\n",
    "            x=row['x'],\n",
    "            y=row['y'],\n",
    "            text=f\"{diet}<br>{row['footprint']:.2f}\",\n",
    "            showarrow=False,\n",
    "            xshift=50,   \n",
    "            yshift=30,   \n",
    "            font=dict(size=12, color=\"black\"),\n",
    "            bgcolor=\"rgba(255, 255, 255, 0.8)\",\n",
    "            bordercolor=\"black\",\n",
    "            borderwidth=1,\n",
    "            borderpad=3\n",
    "        )\n",
    "    elif diet == 'veggie':\n",
    "        fig.add_annotation(\n",
    "            x=row['x'],\n",
    "            y=row['y'],\n",
    "            text=f\"{diet}<br>{row['footprint']:.2f}\",\n",
    "            showarrow=False,\n",
    "            xshift=-50,  \n",
    "            yshift=50,   \n",
    "            font=dict(size=12, color=\"black\"),\n",
    "            bgcolor=\"rgba(255, 255, 255, 0.8)\",\n",
    "            bordercolor=\"black\", \n",
    "            borderwidth=1,\n",
    "            borderpad=3\n",
    "        )\n",
    "\n",
    "fig.update_layout(\n",
    "    title=dict(\n",
    "        text=\"'Environmental footprint map' of dietary types<br><sup>Mapping environmental influences to two-dimensional space based on principal component analysis</sup>\",\n",
    "        font=dict(size=16)\n",
    "    ),\n",
    "    xaxis=dict(\n",
    "        title=\"Environmental impact principal component 1 (99.96%)\",\n",
    "        showgrid=False,\n",
    "        zeroline=False,\n",
    "        showticklabels=False\n",
    "    ),\n",
    "    yaxis=dict(\n",
    "        title=\"Environmental impact principal component 2 (0.04%)\",\n",
    "        showgrid=False,\n",
    "        zeroline=False,\n",
    "        showticklabels=False\n",
    "    ),\n",
    "    height=700,\n",
    "    width=800,\n",
    "    plot_bgcolor=\"rgba(240, 240, 240, 0.8)\"\n",
    ")\n",
    "\n",
    "explained_variance = pca.explained_variance_ratio_\n",
    "fig.add_annotation(\n",
    "    x=0.98,\n",
    "    y=0.02,\n",
    "    xref=\"paper\",\n",
    "    yref=\"paper\",\n",
    "    text=f\"<b>Variance explained by principal components:</b><br>Principal Component 1: {explained_variance[0]:.2%}<br>Principal Component 2: {explained_variance[1]:.2%}\",\n",
    "    showarrow=False,\n",
    "    font=dict(size=12),\n",
    "    bgcolor=\"white\",\n",
    "    bordercolor=\"black\",\n",
    "    borderwidth=1,\n",
    "    borderpad=4,\n",
    "    align=\"right\"\n",
    ")\n",
    "\n",
    "fig.write_html(\"final_environmental_impact_map.html\")\n",
    "fig.show()"
   ]
  },
  {
   "cell_type": "code",
   "execution_count": 19,
   "id": "15d9200a",
   "metadata": {},
   "outputs": [
    {
     "name": "stdout",
     "output_type": "stream",
     "text": [
      "The HTML dashboard file has been created successfully!\n"
     ]
    }
   ],
   "source": [
    "html_code = \"\"\"\n",
    "<!DOCTYPE html>\n",
    "<html>\n",
    "<head>\n",
    "    <title>Diet Type Environmental Impact Analysis Dashboard</title>\n",
    "    <meta charset=\"UTF-8\">\n",
    "    <style>\n",
    "        body {\n",
    "            font-family: Arial, sans-serif;\n",
    "            margin: 0;\n",
    "            padding: 0;\n",
    "            background-color: #f5f5f5;\n",
    "            color: #333;\n",
    "        }\n",
    "        .dashboard-container {\n",
    "            max-width: 1200px;\n",
    "            margin: 0 auto;\n",
    "            padding: 20px;\n",
    "        }\n",
    "        h1 {\n",
    "            text-align: center;\n",
    "            color: #2c3e50;\n",
    "            margin-bottom: 30px;\n",
    "            padding-bottom: 15px;\n",
    "            border-bottom: 2px solid #3498db;\n",
    "        }\n",
    "        .slide-container {\n",
    "            background: white;\n",
    "            padding: 20px;\n",
    "            border-radius: 8px;\n",
    "            box-shadow: 0 2px 10px rgba(0,0,0,0.1);\n",
    "            margin-bottom: 20px;\n",
    "            display: none;\n",
    "            transition: opacity 0.3s ease;\n",
    "        }\n",
    "        .slide-container.active {\n",
    "            display: block;\n",
    "        }\n",
    "        .nav-buttons {\n",
    "            text-align: center;\n",
    "            margin: 20px 0;\n",
    "        }\n",
    "        button {\n",
    "            background: #3498db;\n",
    "            color: white;\n",
    "            border: none;\n",
    "            padding: 12px 24px;\n",
    "            margin: 0 10px;\n",
    "            border-radius: 30px;\n",
    "            cursor: pointer;\n",
    "            font-size: 16px;\n",
    "            transition: background 0.3s ease;\n",
    "        }\n",
    "        button:hover {\n",
    "            background: #2980b9;\n",
    "        }\n",
    "        .slide-dots {\n",
    "            text-align: center;\n",
    "            margin: 20px 0;\n",
    "        }\n",
    "        .dot {\n",
    "            height: 12px;\n",
    "            width: 12px;\n",
    "            margin: 0 8px;\n",
    "            background-color: #bbb;\n",
    "            border-radius: 50%;\n",
    "            display: inline-block;\n",
    "            cursor: pointer;\n",
    "            transition: background-color 0.3s ease;\n",
    "        }\n",
    "        .dot.active {\n",
    "            background-color: #3498db;\n",
    "        }\n",
    "        .iframe-container {\n",
    "            width: 100%;\n",
    "            height: 700px;\n",
    "            border-radius: 4px;\n",
    "            overflow: hidden;\n",
    "        }\n",
    "        iframe {\n",
    "            width: 100%;\n",
    "            height: 100%;\n",
    "            border: none;\n",
    "        }\n",
    "        .slide-title {\n",
    "            margin-top: 0;\n",
    "            color: #2c3e50;\n",
    "            padding-bottom: 10px;\n",
    "            font-size: 24px;\n",
    "        }\n",
    "        .slide-description {\n",
    "            color: #7f8c8d;\n",
    "            margin-bottom: 20px;\n",
    "            font-size: 16px;\n",
    "            line-height: 1.5;\n",
    "        }\n",
    "        .navigation-help {\n",
    "            text-align: center;\n",
    "            font-size: 14px;\n",
    "            color: #7f8c8d;\n",
    "            margin-top: 20px;\n",
    "        }\n",
    "        .footer {\n",
    "            text-align: center;\n",
    "            margin-top: 40px;\n",
    "            padding-top: 20px;\n",
    "            border-top: 1px solid #ddd;\n",
    "            color: #7f8c8d;\n",
    "            font-size: 14px;\n",
    "        }\n",
    "    </style>\n",
    "</head>\n",
    "<body>\n",
    "    <div class=\"dashboard-container\">\n",
    "        <h1>Environmental impact analysis of diet type</h1>\n",
    "        \n",
    "        <div class=\"nav-buttons\">\n",
    "            <button onclick=\"prevSlide()\">Previous</button>\n",
    "            <button onclick=\"nextSlide()\">Next</button>\n",
    "        </div>\n",
    "        \n",
    "        <div class=\"slide-dots\" id=\"slide-dots\">\n",
    "            <!-- Will be populated by JavaScript -->\n",
    "        </div>\n",
    "        \n",
    "        <div class=\"slides\" id=\"slides\">\n",
    "            <!-- Slide Content -->\n",
    "            <div class=\"slide-container\">\n",
    "                <h2 class=\"slide-title\">1. Environmental impact proportion of dietary type</h2>\n",
    "                <p class=\"slide-description\">This figure shows the proportion of the impact of different diet types on various environmental indicators, helping to understand the relative impact of each diet on different environmental aspects.</p>\n",
    "                <div class=\"iframe-container\">\n",
    "                    <iframe src=\"diet_environmental_composition.html\"></iframe>\n",
    "                </div>\n",
    "            </div>\n",
    "            \n",
    "            <div class=\"slide-container\">\n",
    "                <h2 class=\"slide-title\">2. Multidimensional comparison of the environmental impact of different diet types</h2>\n",
    "                <p class=\"slide-description\">The parallel coordinates plot shows the performance of each diet type on all environmental indicators, making it easier to compare the environmental impacts of different diet types in multiple dimensions.</p>\n",
    "                <div class=\"iframe-container\">\n",
    "                    <iframe src=\"diet_environmental_parallel.html\"></iframe>\n",
    "                </div>\n",
    "            </div>\n",
    "            \n",
    "            <div class=\"slide-container\">\n",
    "                <h2 class=\"slide-title\">3. Distribution of environmental impact characteristics of different diet types</h2>\n",
    "                <p class=\"slide-description\">The radar chart intuitively shows the relative impact of different diet types on different environmental indicators, showing the environmental impact characteristics of each diet.</p>\n",
    "                <div class=\"iframe-container\">\n",
    "                    <iframe src=\"diet_environmental_radar.html\"></iframe>\n",
    "                </div>\n",
    "            </div>\n",
    "            \n",
    "            <div class=\"slide-container\">\n",
    "                <h2 class=\"slide-title\">4. Scatter plot matrix of relationships between environmental indicators</h2>\n",
    "                <p class=\"slide-description\">The scatter plot matrix shows the relationship between various environmental indicators and helps to discover the correlation and patterns between environmental indicators.</p>\n",
    "                <div class=\"iframe-container\">\n",
    "                    <iframe src=\"environmental_scatter_matrix.html\"></iframe>\n",
    "                </div>\n",
    "            </div>\n",
    "            \n",
    "            <div class=\"slide-container\">\n",
    "                <h2 class=\"slide-title\">5. 'Environmental footprint map' of dietary types</h2>\n",
    "                <p class=\"slide-description\">This creative map maps environmental impact data into two-dimensional space through principal component analysis, visually showing the distribution of environmental footprints of different diet types.</p>\n",
    "                <div class=\"iframe-container\">\n",
    "                    <iframe src=\"final_environmental_impact_map.html\"></iframe>\n",
    "                </div>\n",
    "            </div>\n",
    "        </div>\n",
    "        \n",
    "        <div class=\"navigation-help\">\n",
    "            Tip: You can use the keyboard left and right arrow keys to navigate, or use mouse interaction within each chart (hover, zoom, pan, etc.)\n",
    "        </div>\n",
    "        \n",
    "        <div class=\"footer\">\n",
    "            © 2025 Diet and environmental impact analysis | Data Source: Scarborough, P., et al. Dataset for 'Vegans, Vegetarians, Fish-Eaters and Meat-Eaters in the UK Show Discrepant Environmental Impacts'. University of Oxford, 2023.\n",
    "        </div>\n",
    "    </div>\n",
    "    \n",
    "    <script>\n",
    "        let currentSlide = 0;\n",
    "        const slides = document.querySelectorAll('.slide-container');\n",
    "        const totalSlides = slides.length;\n",
    "        \n",
    "        // Initialization point navigation\n",
    "        const dotsContainer = document.getElementById('slide-dots');\n",
    "        for (let i = 0; i < totalSlides; i++) {\n",
    "            const dot = document.createElement('span');\n",
    "            dot.classList.add('dot');\n",
    "            dot.onclick = function() { goToSlide(i); };\n",
    "            dotsContainer.appendChild(dot);\n",
    "        }\n",
    "        \n",
    "        // Show first slide\n",
    "        function showSlides() {\n",
    "            for (let i = 0; i < totalSlides; i++) {\n",
    "                slides[i].classList.remove('active');\n",
    "                document.querySelectorAll('.dot')[i].classList.remove('active');\n",
    "            }\n",
    "            slides[currentSlide].classList.add('active');\n",
    "            document.querySelectorAll('.dot')[currentSlide].classList.add('active');\n",
    "        }\n",
    "        \n",
    "        // Next slide\n",
    "        function nextSlide() {\n",
    "            currentSlide = (currentSlide + 1) % totalSlides;\n",
    "            showSlides();\n",
    "        }\n",
    "        \n",
    "        // Previous Slide\n",
    "        function prevSlide() {\n",
    "            currentSlide = (currentSlide - 1 + totalSlides) % totalSlides;\n",
    "            showSlides();\n",
    "        }\n",
    "        \n",
    "        // Go to a specific slide\n",
    "        function goToSlide(n) {\n",
    "            currentSlide = n;\n",
    "            showSlides();\n",
    "        }\n",
    "        \n",
    "        // Initialization\n",
    "        showSlides();\n",
    "        \n",
    "        // Keyboard Navigation\n",
    "        document.addEventListener('keydown', function(e) {\n",
    "            if (e.key === 'ArrowRight') {\n",
    "                nextSlide();\n",
    "            } else if (e.key === 'ArrowLeft') {\n",
    "                prevSlide();\n",
    "            }\n",
    "        });\n",
    "    </script>\n",
    "</body>\n",
    "</html>\n",
    "\"\"\"\n",
    "\n",
    "\n",
    "with open('diet_environmental_dashboard.html', 'w', encoding='utf-8') as f:\n",
    "    f.write(html_code)\n",
    "\n",
    "print(\"The HTML dashboard file has been created successfully!\")"
   ]
  }
 ],
 "metadata": {
  "kernelspec": {
   "display_name": "base",
   "language": "python",
   "name": "python3"
  },
  "language_info": {
   "codemirror_mode": {
    "name": "ipython",
    "version": 3
   },
   "file_extension": ".py",
   "mimetype": "text/x-python",
   "name": "python",
   "nbconvert_exporter": "python",
   "pygments_lexer": "ipython3",
   "version": "3.9.7"
  }
 },
 "nbformat": 4,
 "nbformat_minor": 5
}
